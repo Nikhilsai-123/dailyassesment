{
  "nbformat": 4,
  "nbformat_minor": 0,
  "metadata": {
    "colab": {
      "provenance": [],
      "include_colab_link": true
    },
    "kernelspec": {
      "name": "python3",
      "display_name": "Python 3"
    },
    "language_info": {
      "name": "python"
    }
  },
  "cells": [
    {
      "cell_type": "markdown",
      "metadata": {
        "id": "view-in-github",
        "colab_type": "text"
      },
      "source": [
        "<a href=\"https://colab.research.google.com/github/Nikhilsai-123/dailyassesment/blob/main/pspyk6.ipynb\" target=\"_parent\"><img src=\"https://colab.research.google.com/assets/colab-badge.svg\" alt=\"Open In Colab\"/></a>"
      ]
    },
    {
      "cell_type": "markdown",
      "source": [
        "#Json Data handling"
      ],
      "metadata": {
        "id": "HOITHcD5k6Ml"
      }
    },
    {
      "cell_type": "code",
      "execution_count": null,
      "metadata": {
        "id": "k6Y-462uk3wo"
      },
      "outputs": [],
      "source": [
        "#Download sample file data\n",
        "https://kloudkraft-dumps.s3.us-west-1.amazonaws.com/json/books1.json\n",
        "https://kloudkraft-dumps.s3.us-west-1.amazonaws.com/json/colors.json"
      ]
    },
    {
      "cell_type": "code",
      "source": [
        "#Import Sparksesion\n",
        "!pip install pyspark\n",
        "from pyspark.sql import SparkSession\n",
        "from pyspark.sql.functions import *\n",
        "import pandas as pd\n"
      ],
      "metadata": {
        "id": "6TeLDAq0k58K",
        "colab": {
          "base_uri": "https://localhost:8080/"
        },
        "outputId": "5a001914-5580-447b-d284-725c0d809b32"
      },
      "execution_count": 30,
      "outputs": [
        {
          "output_type": "stream",
          "name": "stdout",
          "text": [
            "Requirement already satisfied: pyspark in /usr/local/lib/python3.10/dist-packages (3.5.1)\n",
            "Requirement already satisfied: py4j==0.10.9.7 in /usr/local/lib/python3.10/dist-packages (from pyspark) (0.10.9.7)\n"
          ]
        }
      ]
    },
    {
      "cell_type": "code",
      "source": [
        "#Create SparkSession\n",
        "spark=SparkSession.builder.appName(\"nikhil\").getOrCreate()"
      ],
      "metadata": {
        "id": "VrGF2m1dlsGn"
      },
      "execution_count": 8,
      "outputs": []
    },
    {
      "cell_type": "code",
      "source": [
        "#Print dataframe schem\n",
        "df=spark.read.option('header',True).json('/content/nikhil.parquet')\n",
        "df1=spark.read.option('header',True).json('/content/nikhil2.json')\n"
      ],
      "metadata": {
        "id": "ExE-kNcwlsME"
      },
      "execution_count": 32,
      "outputs": []
    },
    {
      "cell_type": "code",
      "source": [
        "#Create dataframe from parquet file\n",
        "%%writefile nikhil.json\n",
        "{\"id\":\"978-0641723445\",\"cat\":\"book\",\"name\":\"The Lightning Thief\",\"author\":\"Rick Riordan\",\"series_t\":\"Percy Jackson and the Olympians\",\"sequence_i\":1,\"genre_s\":\"fantasy\",\"inStock\":true,\"price\":12.50,\"pages_i\":384}\n",
        "{\"id\":\"978-1423103349\",\"cat\":\"paperback\",\"name\":\"The Sea of Monsters\",\"author\":\"Rick Riordan\",\"series_t\":\"Percy Jackson and the Olympians\",\"sequence_i\":2,\"genre_s\":\"fantasy\",\"inStock\":true,\"price\":6.49,\"pages_i\":304}\n",
        "{\"id\":\"978-1857995879\",\"cat\":\"paperback\",\"name\":\"Sophie's World : The Greek Philosophers\",\"author\":\"Jostein Gaarder\",\"sequence_i\":1,\"genre_s\":\"fantasy\",\"inStock\":true,\"price\":3.07,\"pages_i\":64}\n",
        "{\"id\":\"978-1923988177\",\"cat\":\"paperback\",\"name\":\"Lucene in Action, Second Edition\",\"author\":\"Michael McCandless\",\"sequence_i\":1,\"genre_s\":\"IT\",\"inStock\":true,\"price\":30.50,\"pages_i\":475}\n",
        "{\"id\":\"978-1933988077\",\"cat\":\"paperback\",\"name\":\"Lucene in Action, Second Edition\",\"author\":\"Michael McCandless\",\"sequence_i\":1,\"genre_s\":\"IT\",\"inStock\":true,\"price\":30.50,\"pages_i\":475}\n",
        "{\"id\":\"968-1933988177\",\"cat\":\"paperback\",\"name\":\"Lucene in Action, Second Edition\",\"author\":\"Michael McCandless\",\"sequence_i\":1,\"genre_s\":\"IT\",\"inStock\":true,\"price\":30.50,\"pages_i\":300}\n",
        "{\"id\":\"978-2933988077\",\"cat\":\"paperback\",\"name\":\"Lucene in Action, Second Edition\",\"author\":\"Michael McCandless\",\"sequence_i\":1,\"genre_s\":\"IT\",\"inStock\":true,\"price\":30.50,\"pages_i\":475}"
      ],
      "metadata": {
        "id": "hmCPMsMRlsJb",
        "colab": {
          "base_uri": "https://localhost:8080/"
        },
        "outputId": "f3cb83bf-df3f-40ba-837f-297c188aa399"
      },
      "execution_count": 19,
      "outputs": [
        {
          "output_type": "stream",
          "name": "stdout",
          "text": [
            "Writing nikhil.json\n"
          ]
        }
      ]
    },
    {
      "cell_type": "code",
      "source": [
        "#Show dataframe\n",
        "%%writefile nikhil2.json\n",
        "{\"color\": \"black\",  \"category\": \"hue\",  \"type\": \"primary\",  \"code\": {    \"rgba\": [255,255,255,1],    \"hex\": \"#000\"  },\"other\":{\"type\":\"good\"}}\n",
        "{\"color\": \"white\",\"category\": \"value\",\"code\": {\"rgba\": [0,0,0,1],\"hex\": \"#FFF\"},\"other\":{\"type\":\"good\"}}\n",
        "{\"color\": \"red\",\"category\": \"hue\",\"type\": \"primary\",\"code\": {\"rgba\": [255,0,0,1],\"hex\": \"#FF0\"},\"other\":{\"type\":\"ok\"}}\n",
        "{\"color\": \"blue\",\"category\": \"hue\",\"type\": \"primary\",\"code\": {\"rgba\": [0,0,255,1],\"hex\": \"#00F\"},\"other\":{\"type\":\"good\"}}\n",
        "{\"color\": \"yellow\",\"category\": \"hue\",\"type\": \"primary\",\"code\": {\"rgba\": [255,255,0,1],\"hex\": \"#FF0\"},\"other\":{\"type\":\"ok\"}}\n",
        "{\"color\": \"green\",\"category\": \"hue\",\"type\": \"secondary\",\"code\": {\"rgba\": [0,255,0,1],\"hex\": \"#0F0\"},\"other\":{\"type\":\"good\"}}"
      ],
      "metadata": {
        "id": "ZQToN44IlsOt",
        "colab": {
          "base_uri": "https://localhost:8080/"
        },
        "outputId": "2179b46a-9342-4988-96ec-dcdb4ac60f00"
      },
      "execution_count": 22,
      "outputs": [
        {
          "output_type": "stream",
          "name": "stdout",
          "text": [
            "Writing nikhil2.json\n"
          ]
        }
      ]
    },
    {
      "cell_type": "markdown",
      "source": [
        "* Perform any 3 data cleaning operations"
      ],
      "metadata": {
        "id": "YnPqSKSEmS1_"
      }
    },
    {
      "cell_type": "code",
      "source": [
        "#print schema\n",
        "df.printSchema()\n",
        "df1.printSchema()"
      ],
      "metadata": {
        "id": "yk0D7EAwlsSU",
        "colab": {
          "base_uri": "https://localhost:8080/"
        },
        "outputId": "cd292181-3703-4c77-a65f-97c742a61173"
      },
      "execution_count": 34,
      "outputs": [
        {
          "output_type": "stream",
          "name": "stdout",
          "text": [
            "root\n",
            " |-- author: string (nullable = true)\n",
            " |-- cat: string (nullable = true)\n",
            " |-- genre_s: string (nullable = true)\n",
            " |-- id: string (nullable = true)\n",
            " |-- inStock: boolean (nullable = true)\n",
            " |-- name: string (nullable = true)\n",
            " |-- pages_i: long (nullable = true)\n",
            " |-- price: double (nullable = true)\n",
            " |-- sequence_i: long (nullable = true)\n",
            " |-- series_t: string (nullable = true)\n",
            "\n",
            "root\n",
            " |-- category: string (nullable = true)\n",
            " |-- code: struct (nullable = true)\n",
            " |    |-- hex: string (nullable = true)\n",
            " |    |-- rgba: array (nullable = true)\n",
            " |    |    |-- element: long (containsNull = true)\n",
            " |-- color: string (nullable = true)\n",
            " |-- other: struct (nullable = true)\n",
            " |    |-- type: string (nullable = true)\n",
            " |-- type: string (nullable = true)\n",
            "\n"
          ]
        }
      ]
    },
    {
      "cell_type": "code",
      "source": [
        "df.show()"
      ],
      "metadata": {
        "colab": {
          "base_uri": "https://localhost:8080/"
        },
        "id": "Y5EGaPQZW61o",
        "outputId": "5893a83c-69d3-45d4-fd50-f30dfd64a5ae"
      },
      "execution_count": 35,
      "outputs": [
        {
          "output_type": "stream",
          "name": "stdout",
          "text": [
            "+------------------+---------+-------+--------------+-------+--------------------+-------+-----+----------+--------------------+\n",
            "|            author|      cat|genre_s|            id|inStock|                name|pages_i|price|sequence_i|            series_t|\n",
            "+------------------+---------+-------+--------------+-------+--------------------+-------+-----+----------+--------------------+\n",
            "|      Rick Riordan|     book|fantasy|978-0641723445|   true| The Lightning Thief|    384| 12.5|         1|Percy Jackson and...|\n",
            "|      Rick Riordan|paperback|fantasy|978-1423103349|   true| The Sea of Monsters|    304| 6.49|         2|Percy Jackson and...|\n",
            "|   Jostein Gaarder|paperback|fantasy|978-1857995879|   true|Sophie's World : ...|     64| 3.07|         1|                NULL|\n",
            "|Michael McCandless|paperback|     IT|978-1923988177|   true|Lucene in Action,...|    475| 30.5|         1|                NULL|\n",
            "|Michael McCandless|paperback|     IT|978-1933988077|   true|Lucene in Action,...|    475| 30.5|         1|                NULL|\n",
            "|Michael McCandless|paperback|     IT|968-1933988177|   true|Lucene in Action,...|    300| 30.5|         1|                NULL|\n",
            "|Michael McCandless|paperback|     IT|978-2933988077|   true|Lucene in Action,...|    475| 30.5|         1|                NULL|\n",
            "+------------------+---------+-------+--------------+-------+--------------------+-------+-----+----------+--------------------+\n",
            "\n"
          ]
        }
      ]
    },
    {
      "cell_type": "code",
      "source": [
        "#1 sort top three desc\n",
        "df.sort('pages_i',ascending=False).show(3)\n"
      ],
      "metadata": {
        "colab": {
          "base_uri": "https://localhost:8080/"
        },
        "id": "J53tf_K3VoSa",
        "outputId": "89c0e204-8d0c-453d-a716-36d759b19988"
      },
      "execution_count": 49,
      "outputs": [
        {
          "output_type": "stream",
          "name": "stdout",
          "text": [
            "+------------------+---------+-------+--------------+-------+--------------------+-------+-----+----------+--------+\n",
            "|            author|      cat|genre_s|            id|inStock|                name|pages_i|price|sequence_i|series_t|\n",
            "+------------------+---------+-------+--------------+-------+--------------------+-------+-----+----------+--------+\n",
            "|Michael McCandless|paperback|     IT|978-1923988177|   true|Lucene in Action,...|    475| 30.5|         1|    NULL|\n",
            "|Michael McCandless|paperback|     IT|978-1933988077|   true|Lucene in Action,...|    475| 30.5|         1|    NULL|\n",
            "|Michael McCandless|paperback|     IT|978-2933988077|   true|Lucene in Action,...|    475| 30.5|         1|    NULL|\n",
            "+------------------+---------+-------+--------------+-------+--------------------+-------+-----+----------+--------+\n",
            "only showing top 3 rows\n",
            "\n"
          ]
        }
      ]
    },
    {
      "cell_type": "code",
      "source": [
        "#O2 total pages for each book and author in desc\n",
        "x=df.groupby('author').agg({'pages_i':'sum'})\n",
        "x.sort('sum(pages_i)',ascending=False).show()"
      ],
      "metadata": {
        "id": "72KXSX-umb4c",
        "colab": {
          "base_uri": "https://localhost:8080/"
        },
        "outputId": "45095da8-4375-4cec-b207-003a370e497e"
      },
      "execution_count": 55,
      "outputs": [
        {
          "output_type": "stream",
          "name": "stdout",
          "text": [
            "+------------------+------------+\n",
            "|            author|sum(pages_i)|\n",
            "+------------------+------------+\n",
            "|Michael McCandless|        1725|\n",
            "|      Rick Riordan|         688|\n",
            "|   Jostein Gaarder|          64|\n",
            "+------------------+------------+\n",
            "\n"
          ]
        }
      ]
    },
    {
      "cell_type": "code",
      "source": [
        "#O3\n",
        "\n",
        "\n",
        "df.fillna({'series_t':'0'}).show()"
      ],
      "metadata": {
        "id": "I2eV7jKVmb7Q",
        "colab": {
          "base_uri": "https://localhost:8080/"
        },
        "outputId": "846e87dc-6c74-428a-b057-e014a50fb0f1"
      },
      "execution_count": 50,
      "outputs": [
        {
          "output_type": "stream",
          "name": "stdout",
          "text": [
            "+------------------+---------+-------+--------------+-------+--------------------+-------+-----+----------+--------------------+\n",
            "|            author|      cat|genre_s|            id|inStock|                name|pages_i|price|sequence_i|            series_t|\n",
            "+------------------+---------+-------+--------------+-------+--------------------+-------+-----+----------+--------------------+\n",
            "|      Rick Riordan|     book|fantasy|978-0641723445|   true| The Lightning Thief|    384| 12.5|         1|Percy Jackson and...|\n",
            "|      Rick Riordan|paperback|fantasy|978-1423103349|   true| The Sea of Monsters|    304| 6.49|         2|Percy Jackson and...|\n",
            "|   Jostein Gaarder|paperback|fantasy|978-1857995879|   true|Sophie's World : ...|     64| 3.07|         1|                   0|\n",
            "|Michael McCandless|paperback|     IT|978-1923988177|   true|Lucene in Action,...|    475| 30.5|         1|                   0|\n",
            "|Michael McCandless|paperback|     IT|978-1933988077|   true|Lucene in Action,...|    475| 30.5|         1|                   0|\n",
            "|Michael McCandless|paperback|     IT|968-1933988177|   true|Lucene in Action,...|    300| 30.5|         1|                   0|\n",
            "|Michael McCandless|paperback|     IT|978-2933988077|   true|Lucene in Action,...|    475| 30.5|         1|                   0|\n",
            "+------------------+---------+-------+--------------+-------+--------------------+-------+-----+----------+--------------------+\n",
            "\n"
          ]
        }
      ]
    },
    {
      "cell_type": "code",
      "source": [
        "df1.show()"
      ],
      "metadata": {
        "colab": {
          "base_uri": "https://localhost:8080/"
        },
        "id": "FQpAfK6tgWCd",
        "outputId": "f6ff256a-01da-40c1-db6f-1c7618293854"
      },
      "execution_count": 62,
      "outputs": [
        {
          "output_type": "stream",
          "name": "stdout",
          "text": [
            "+--------+--------------------+------+------+---------+\n",
            "|category|                code| color| other|     type|\n",
            "+--------+--------------------+------+------+---------+\n",
            "|     hue|{#000, [255, 255,...| black|{good}|  primary|\n",
            "|   value|{#FFF, [0, 0, 0, 1]}| white|{good}|     NULL|\n",
            "|     hue|{#FF0, [255, 0, 0...|   red|  {ok}|  primary|\n",
            "|     hue|{#00F, [0, 0, 255...|  blue|{good}|  primary|\n",
            "|     hue|{#FF0, [255, 255,...|yellow|  {ok}|  primary|\n",
            "|     hue|{#0F0, [0, 255, 0...| green|{good}|secondary|\n",
            "+--------+--------------------+------+------+---------+\n",
            "\n"
          ]
        }
      ]
    },
    {
      "cell_type": "markdown",
      "source": [
        "* Fetch any 5 insights from data"
      ],
      "metadata": {
        "id": "WotP1zJFmfyo"
      }
    },
    {
      "cell_type": "code",
      "source": [
        "#Transformation1 avg price of each genre\n",
        "df.groupBy('genre_s').agg({'price':'mean'}).show()"
      ],
      "metadata": {
        "id": "HQG8Eu4IlsU6",
        "colab": {
          "base_uri": "https://localhost:8080/"
        },
        "outputId": "b627f587-e6ad-486a-bf16-463e4a08cb4e"
      },
      "execution_count": 57,
      "outputs": [
        {
          "output_type": "stream",
          "name": "stdout",
          "text": [
            "+-------+-----------------+\n",
            "|genre_s|       avg(price)|\n",
            "+-------+-----------------+\n",
            "|fantasy|7.353333333333334|\n",
            "|     IT|             30.5|\n",
            "+-------+-----------------+\n",
            "\n"
          ]
        }
      ]
    },
    {
      "cell_type": "code",
      "source": [
        "#Transformation2\n",
        "\n",
        "df.filter(df.inStock==True).groupBy('genre_s').count().show()"
      ],
      "metadata": {
        "id": "4A3o6h9MlsW6",
        "colab": {
          "base_uri": "https://localhost:8080/"
        },
        "outputId": "422c53a3-b45f-49f1-d67b-faa3cff0fe09"
      },
      "execution_count": 61,
      "outputs": [
        {
          "output_type": "stream",
          "name": "stdout",
          "text": [
            "+-------+-----+\n",
            "|genre_s|count|\n",
            "+-------+-----+\n",
            "|fantasy|    3|\n",
            "|     IT|    4|\n",
            "+-------+-----+\n",
            "\n"
          ]
        }
      ]
    },
    {
      "cell_type": "code",
      "source": [
        "#Transformation3\n",
        "\n",
        "df1.groupBy('category').count().orderBy('count',ascending=False).show(1)"
      ],
      "metadata": {
        "id": "rtLZn4CwmnVu",
        "colab": {
          "base_uri": "https://localhost:8080/"
        },
        "outputId": "2874e679-94ab-4ee8-8702-6f39fde7b891"
      },
      "execution_count": 65,
      "outputs": [
        {
          "output_type": "stream",
          "name": "stdout",
          "text": [
            "+--------+-----+\n",
            "|category|count|\n",
            "+--------+-----+\n",
            "|     hue|    5|\n",
            "+--------+-----+\n",
            "only showing top 1 row\n",
            "\n"
          ]
        }
      ]
    },
    {
      "cell_type": "code",
      "source": [
        "#Transformation4  counting number of primary\n",
        "\n",
        "df1.filter(df1.type=='primary').count()\n"
      ],
      "metadata": {
        "id": "zuLy9UKGmnYz",
        "colab": {
          "base_uri": "https://localhost:8080/"
        },
        "outputId": "f7e6dd98-51e2-4a84-b4fc-06d55b978cc7"
      },
      "execution_count": 68,
      "outputs": [
        {
          "output_type": "execute_result",
          "data": {
            "text/plain": [
              "4"
            ]
          },
          "metadata": {},
          "execution_count": 68
        }
      ]
    },
    {
      "cell_type": "code",
      "source": [
        "#Transformation5\n",
        "\n",
        "\n"
      ],
      "metadata": {
        "id": "PoCICV0Wmnbg"
      },
      "execution_count": null,
      "outputs": []
    }
  ]
}