{
  "nbformat": 4,
  "nbformat_minor": 0,
  "metadata": {
    "colab": {
      "provenance": []
    },
    "kernelspec": {
      "name": "python3",
      "display_name": "Python 3"
    },
    "language_info": {
      "name": "python"
    }
  },
  "cells": [
    {
      "cell_type": "code",
      "execution_count": 54,
      "metadata": {
        "id": "UoH8kZvLICAR",
        "colab": {
          "base_uri": "https://localhost:8080/"
        },
        "outputId": "2450c621-0ec3-41a1-ad69-1bc4c06d29d5"
      },
      "outputs": [
        {
          "output_type": "stream",
          "name": "stdout",
          "text": [
            "Overwriting user_data.csv\n"
          ]
        }
      ],
      "source": [
        "#user_data\n",
        "%%writefile user_data.csv\n",
        "user_id,series,season,timestamp,genre,duration_mins\n",
        "521,”Mirzapur”,3,2024-07-30 15:00:00,action,300\n",
        "672,”Panchayat”,3,2024-07-30 15:00:00,comedy,200\n",
        "197,”Family Man”,2,2024-07-30 15:00:00,action,500\n",
        "521,”Mirzapur”,2,2024-07-29 15:00:00,action,280\n",
        "211,”Queens Gambit”,1,2024-07-30 15:00:00,drama,170\n",
        "521,”Mirzapur”,1,2024-07-28 15:00:00,action,230\n",
        "844,”Westworld”,3,2024-07-30 15:00:00,sci-fi,310\n",
        "672,”Panchayat”,3,2024-07-29 15:00:00,comedy,210\n",
        "256,”Homecoming”,2,2024-07-30 15:00:00,thriller,310\n",
        "489,”Outer Range”,1,2024-07-30 15:00:00,sci-fi,340\n",
        "200,”Black Mirror”,2,2024-07-30 15:00:00,sci-fi,140\n",
        "256,”Outer Range”,2,2024-07-30 15:00:00,thriller,250\n",
        "489,”Outer Range”,2,2024-07-28 15:00:00,sci-fi,170\n",
        "200,”Black Mirror”,3,2024-07-29 15:00:00,sci-fi,190\n",
        "672,”Panchayat”,2,2024-07-28 15:00:00,comedy,160\n",
        "672,”Outer Range”,1,2024-07-25 15:00:00,sci-fi,250\n",
        "200,”Black Mirror”,4,2024-07-28 15:00:00,sci-fi,200\n",
        "844,”Westworld”,2,2024-07-29 15:00:00,sci-fi,300\n",
        "672,”Black Mirror”,5,2024-07-28 15:00:00,sci-fi,150\n",
        "672,”Panchayat”,1,2024-07-27 15:00:00,comedy,190"
      ]
    },
    {
      "cell_type": "code",
      "source": [
        "#Import Libraries\n",
        "!pip install pyspark\n",
        "from pyspark.sql import SparkSession\n",
        "from pyspark.sql.functions import *\n",
        "from pyspark.sql.types import *"
      ],
      "metadata": {
        "id": "GLxzpwaSIJRA",
        "colab": {
          "base_uri": "https://localhost:8080/"
        },
        "outputId": "327bfb8f-d753-49ff-c208-8c69273564c9"
      },
      "execution_count": 55,
      "outputs": [
        {
          "output_type": "stream",
          "name": "stdout",
          "text": [
            "Requirement already satisfied: pyspark in /usr/local/lib/python3.10/dist-packages (3.5.1)\n",
            "Requirement already satisfied: py4j==0.10.9.7 in /usr/local/lib/python3.10/dist-packages (from pyspark) (0.10.9.7)\n"
          ]
        }
      ]
    },
    {
      "cell_type": "code",
      "source": [
        "#Create SparkSession for app (Streaming Analysis)\n",
        "spark=SparkSession.builder.appName('data').getOrCreate()"
      ],
      "metadata": {
        "id": "YChMWo_nIJTq"
      },
      "execution_count": 56,
      "outputs": []
    },
    {
      "cell_type": "code",
      "source": [
        "#Create Dataframe series_df\n",
        "df=spark.read.option('header',True).csv('/content/user_data.csv')"
      ],
      "metadata": {
        "id": "gljhEO_IIJXB"
      },
      "execution_count": 57,
      "outputs": []
    },
    {
      "cell_type": "code",
      "source": [
        "df.show()"
      ],
      "metadata": {
        "colab": {
          "base_uri": "https://localhost:8080/"
        },
        "id": "6m1rrUHc7nnX",
        "outputId": "f5f073da-8f2b-4470-b081-7ff93a90c16e"
      },
      "execution_count": 27,
      "outputs": [
        {
          "output_type": "stream",
          "name": "stdout",
          "text": [
            "+-------+---------------+------+-------------------+--------+-------------+\n",
            "|user_id|         series|season|          timestamp|   genre|duration_mins|\n",
            "+-------+---------------+------+-------------------+--------+-------------+\n",
            "|    521|     ”Mirzapur”|     3|2024-07-30 15:00:00|  action|          300|\n",
            "|    672|    ”Panchayat”|     3|2024-07-30 15:00:00|  comedy|          200|\n",
            "|    197|   ”Family Man”|     2|2024-07-30 15:00:00|  action|          500|\n",
            "|    521|     ”Mirzapur”|     2|2024-07-29 15:00:00|  action|          280|\n",
            "|    211|”Queens Gambit”|     1|2024-07-30 15:00:00|   drama|          170|\n",
            "|    521|     ”Mirzapur”|     1|2024-07-28 15:00:00|  action|          230|\n",
            "|    844|    ”Westworld”|     3|2024-07-30 15:00:00|  sci-fi|          310|\n",
            "|    672|    ”Panchayat”|     3|2024-07-29 15:00:00|  comedy|          210|\n",
            "|    256|   ”Homecoming”|     2|2024-07-30 15:00:00|thriller|          310|\n",
            "|    489|  ”Outer Range”|     1|2024-07-30 15:00:00|  sci-fi|          340|\n",
            "|    200| ”Black Mirror”|     2|2024-07-30 15:00:00|  sci-fi|          140|\n",
            "|    256|  ”Outer Range”|     2|2024-07-30 15:00:00|thriller|          250|\n",
            "|    489|  ”Outer Range”|     2|2024-07-28 15:00:00|  sci-fi|          170|\n",
            "|    200| ”Black Mirror”|     3|2024-07-29 15:00:00|  sci-fi|          190|\n",
            "|    672|    ”Panchayat”|     2|2024-07-28 15:00:00|  comedy|          160|\n",
            "|    672|  ”Outer Range”|     1|2024-07-25 15:00:00|  sci-fi|          250|\n",
            "|    200| ”Black Mirror”|     4|2024-07-28 15:00:00|  sci-fi|          200|\n",
            "|    844|    ”Westworld”|     2|2024-07-29 15:00:00|  sci-fi|          300|\n",
            "|    672| ”Black Mirror”|     5|2024-07-28 15:00:00|  sci-fi|          150|\n",
            "|    672|    ”Panchayat”|     1|2024-07-27 15:00:00|  comedy|          190|\n",
            "+-------+---------------+------+-------------------+--------+-------------+\n",
            "\n"
          ]
        }
      ]
    },
    {
      "cell_type": "code",
      "source": [
        "#Find the user with maximum watchtime\n",
        "arr1=df.groupBy('user_id').agg({'duration_mins':'sum'}).orderBy('sum(duration_mins)',ascending=False).show()"
      ],
      "metadata": {
        "id": "ddoznJiZIJZI",
        "colab": {
          "base_uri": "https://localhost:8080/"
        },
        "outputId": "7cfc332b-fcc1-4b97-d172-15d4f1d7f6c9"
      },
      "execution_count": 58,
      "outputs": [
        {
          "output_type": "stream",
          "name": "stdout",
          "text": [
            "+-------+------------------+\n",
            "|user_id|sum(duration_mins)|\n",
            "+-------+------------------+\n",
            "|    672|            1160.0|\n",
            "|    521|             810.0|\n",
            "|    844|             610.0|\n",
            "|    256|             560.0|\n",
            "|    200|             530.0|\n",
            "|    489|             510.0|\n",
            "|    197|             500.0|\n",
            "|    211|             170.0|\n",
            "+-------+------------------+\n",
            "\n"
          ]
        }
      ]
    },
    {
      "cell_type": "code",
      "source": [
        "#Calculate overall total Watchtime\n",
        "arr2=df.groupBy('user_id').agg(sum('duration_mins')).show()"
      ],
      "metadata": {
        "id": "KCpeY-cyynpN",
        "colab": {
          "base_uri": "https://localhost:8080/"
        },
        "outputId": "08778de2-f14f-4ab2-8f58-1475ca63cf9c"
      },
      "execution_count": 59,
      "outputs": [
        {
          "output_type": "stream",
          "name": "stdout",
          "text": [
            "+-------+------------------+\n",
            "|user_id|sum(duration_mins)|\n",
            "+-------+------------------+\n",
            "|    521|             810.0|\n",
            "|    200|             530.0|\n",
            "|    672|            1160.0|\n",
            "|    256|             560.0|\n",
            "|    197|             500.0|\n",
            "|    211|             170.0|\n",
            "|    844|             610.0|\n",
            "|    489|             510.0|\n",
            "+-------+------------------+\n",
            "\n"
          ]
        }
      ]
    },
    {
      "cell_type": "code",
      "source": [
        "#Find most popular shows (based on watchtime)\n",
        "arr3=df.groupBy('series','genre').agg({'duration_mins':'sum'}).orderBy('sum(duration_mins)',ascending=False).show()"
      ],
      "metadata": {
        "id": "SMnElt2ZIJbJ",
        "colab": {
          "base_uri": "https://localhost:8080/"
        },
        "outputId": "e08b1b89-1663-4693-abaa-9df59f548f0d"
      },
      "execution_count": 60,
      "outputs": [
        {
          "output_type": "stream",
          "name": "stdout",
          "text": [
            "+---------------+--------+------------------+\n",
            "|         series|   genre|sum(duration_mins)|\n",
            "+---------------+--------+------------------+\n",
            "|     ”Mirzapur”|  action|             810.0|\n",
            "|  ”Outer Range”|  sci-fi|             760.0|\n",
            "|    ”Panchayat”|  comedy|             760.0|\n",
            "| ”Black Mirror”|  sci-fi|             680.0|\n",
            "|    ”Westworld”|  sci-fi|             610.0|\n",
            "|   ”Family Man”|  action|             500.0|\n",
            "|   ”Homecoming”|thriller|             310.0|\n",
            "|  ”Outer Range”|thriller|             250.0|\n",
            "|”Queens Gambit”|   drama|             170.0|\n",
            "+---------------+--------+------------------+\n",
            "\n"
          ]
        }
      ]
    },
    {
      "cell_type": "code",
      "source": [
        "#Find most popular shows (based on user popularity)\n",
        "arr4=df.groupBy('series').agg(count('user_id')).orderBy('count(user_id)',ascending=False).show()"
      ],
      "metadata": {
        "id": "-W2oNioNIJem",
        "colab": {
          "base_uri": "https://localhost:8080/"
        },
        "outputId": "cb426dff-75b5-47bf-dea1-e7572938f3ed"
      },
      "execution_count": 61,
      "outputs": [
        {
          "output_type": "stream",
          "name": "stdout",
          "text": [
            "+---------------+--------------+\n",
            "|         series|count(user_id)|\n",
            "+---------------+--------------+\n",
            "|    ”Panchayat”|             4|\n",
            "|  ”Outer Range”|             4|\n",
            "| ”Black Mirror”|             4|\n",
            "|     ”Mirzapur”|             3|\n",
            "|    ”Westworld”|             2|\n",
            "|   ”Family Man”|             1|\n",
            "|   ”Homecoming”|             1|\n",
            "|”Queens Gambit”|             1|\n",
            "+---------------+--------------+\n",
            "\n"
          ]
        }
      ]
    },
    {
      "cell_type": "code",
      "source": [
        "\n",
        "#Find the most popular genre\n",
        "arr5=df.groupBy('genre').agg(count('genre')).orderBy('count(genre)',ascending=False).show()"
      ],
      "metadata": {
        "id": "Z-RpLlNFIJgk",
        "colab": {
          "base_uri": "https://localhost:8080/"
        },
        "outputId": "09378ff9-c1da-400c-dab1-a9401062180f"
      },
      "execution_count": 62,
      "outputs": [
        {
          "output_type": "stream",
          "name": "stdout",
          "text": [
            "+--------+------------+\n",
            "|   genre|count(genre)|\n",
            "+--------+------------+\n",
            "|  sci-fi|           9|\n",
            "|  action|           4|\n",
            "|  comedy|           4|\n",
            "|thriller|           2|\n",
            "|   drama|           1|\n",
            "+--------+------------+\n",
            "\n"
          ]
        }
      ]
    },
    {
      "cell_type": "code",
      "source": [
        "#Calculate total watchtime per user\n",
        "arr6=df.groupBy('user_id').agg({'duration_mins':'sum'}).show()"
      ],
      "metadata": {
        "id": "vm_-_AUWIJis",
        "colab": {
          "base_uri": "https://localhost:8080/"
        },
        "outputId": "f27029ee-c38a-498c-c6e5-241bfd5041ce"
      },
      "execution_count": 63,
      "outputs": [
        {
          "output_type": "stream",
          "name": "stdout",
          "text": [
            "+-------+------------------+\n",
            "|user_id|sum(duration_mins)|\n",
            "+-------+------------------+\n",
            "|    521|             810.0|\n",
            "|    200|             530.0|\n",
            "|    672|            1160.0|\n",
            "|    256|             560.0|\n",
            "|    197|             500.0|\n",
            "|    211|             170.0|\n",
            "|    844|             610.0|\n",
            "|    489|             510.0|\n",
            "+-------+------------------+\n",
            "\n"
          ]
        }
      ]
    },
    {
      "cell_type": "code",
      "source": [
        "#Find most popular genre (based on engagement count)\n",
        "arr7=df.groupBy('genre').agg(count('duration_mins')).orderBy('count(duration_mins)',ascending=False).show(1)"
      ],
      "metadata": {
        "id": "l-DuDyiOIJlG",
        "colab": {
          "base_uri": "https://localhost:8080/"
        },
        "outputId": "56382765-ae84-43ed-8317-62575e752bcb"
      },
      "execution_count": 64,
      "outputs": [
        {
          "output_type": "stream",
          "name": "stdout",
          "text": [
            "+------+--------------------+\n",
            "| genre|count(duration_mins)|\n",
            "+------+--------------------+\n",
            "|sci-fi|                   9|\n",
            "+------+--------------------+\n",
            "only showing top 1 row\n",
            "\n"
          ]
        }
      ]
    },
    {
      "cell_type": "code",
      "source": [
        "arr7=df.groupBy('genre').agg(count('genre')).show()"
      ],
      "metadata": {
        "colab": {
          "base_uri": "https://localhost:8080/"
        },
        "id": "B2dXuw8IEl_f",
        "outputId": "1b599d8f-d557-4a81-ce6d-a27ab757a9e1"
      },
      "execution_count": 65,
      "outputs": [
        {
          "output_type": "stream",
          "name": "stdout",
          "text": [
            "+--------+------------+\n",
            "|   genre|count(genre)|\n",
            "+--------+------------+\n",
            "|  action|           4|\n",
            "|   drama|           1|\n",
            "|thriller|           2|\n",
            "|  sci-fi|           9|\n",
            "|  comedy|           4|\n",
            "+--------+------------+\n",
            "\n"
          ]
        }
      ]
    },
    {
      "cell_type": "code",
      "source": [
        "#Find average watchtime per genre\n",
        "arr8=df.groupBy('genre').agg({'duration_mins':'avg'}).show()"
      ],
      "metadata": {
        "id": "yFFZh-NFIJnQ",
        "colab": {
          "base_uri": "https://localhost:8080/"
        },
        "outputId": "8bae2e5d-3e0c-430f-fca3-e298594fe602"
      },
      "execution_count": 66,
      "outputs": [
        {
          "output_type": "stream",
          "name": "stdout",
          "text": [
            "+--------+------------------+\n",
            "|   genre|avg(duration_mins)|\n",
            "+--------+------------------+\n",
            "|  action|             327.5|\n",
            "|   drama|             170.0|\n",
            "|thriller|             280.0|\n",
            "|  sci-fi|227.77777777777777|\n",
            "|  comedy|             190.0|\n",
            "+--------+------------------+\n",
            "\n"
          ]
        }
      ]
    },
    {
      "cell_type": "code",
      "source": [],
      "metadata": {
        "id": "nvuQLbXtGkU0"
      },
      "execution_count": 88,
      "outputs": []
    },
    {
      "cell_type": "code",
      "source": [
        "#Find peak traffic days\n",
        "#(Output 1 = Full Date)\n",
        "arr10=df.groupBy(to_date('timestamp')).agg(count('timestamp')).orderBy('count(timestamp)',ascending=False)\n",
        "arr10.select('to_date(timestamp)').show(1)"
      ],
      "metadata": {
        "id": "HzXnysiXIJpq",
        "colab": {
          "base_uri": "https://localhost:8080/"
        },
        "outputId": "08e2311d-480f-4713-da42-c116d054a36c"
      },
      "execution_count": 89,
      "outputs": [
        {
          "output_type": "stream",
          "name": "stdout",
          "text": [
            "+------------------+\n",
            "|to_date(timestamp)|\n",
            "+------------------+\n",
            "|        2024-07-30|\n",
            "+------------------+\n",
            "only showing top 1 row\n",
            "\n"
          ]
        }
      ]
    },
    {
      "cell_type": "code",
      "source": [
        "#(Output 2 = Only Day)\n",
        "\n",
        "arr10=df.groupBy(dayofmonth('timestamp')).agg(count('timestamp')).orderBy('count(timestamp)',ascending=False)\n",
        "arr10.select('dayofmonth(timestamp)').show(1)"
      ],
      "metadata": {
        "colab": {
          "base_uri": "https://localhost:8080/"
        },
        "id": "zJVGj4pMMEA_",
        "outputId": "78b7d1b9-33cc-403a-b6df-d2a65c6d1128"
      },
      "execution_count": 90,
      "outputs": [
        {
          "output_type": "stream",
          "name": "stdout",
          "text": [
            "+---------------------+\n",
            "|dayofmonth(timestamp)|\n",
            "+---------------------+\n",
            "|                   30|\n",
            "+---------------------+\n",
            "only showing top 1 row\n",
            "\n"
          ]
        }
      ]
    },
    {
      "cell_type": "code",
      "source": [
        "#Find the user with most diverse show preference\n",
        "df.groupBy('user_id').agg(countDistinct('series')).orderBy('count(DISTINCT series)',ascending=False).show(1)"
      ],
      "metadata": {
        "id": "yY7SlM8yIJsz",
        "colab": {
          "base_uri": "https://localhost:8080/"
        },
        "outputId": "9acff7db-d293-4551-e84b-984c22da2679"
      },
      "execution_count": 114,
      "outputs": [
        {
          "output_type": "stream",
          "name": "stdout",
          "text": [
            "+-------+----------------------+\n",
            "|user_id|count(DISTINCT series)|\n",
            "+-------+----------------------+\n",
            "|    672|                     3|\n",
            "+-------+----------------------+\n",
            "only showing top 1 row\n",
            "\n"
          ]
        }
      ]
    },
    {
      "cell_type": "code",
      "source": [
        "#Find the binge-watchers\n",
        "df.groupBy()"
      ],
      "metadata": {
        "id": "9UMeWCk-IJvK"
      },
      "execution_count": null,
      "outputs": []
    },
    {
      "cell_type": "code",
      "source": [
        "#Find the user with longest watching streak\n"
      ],
      "metadata": {
        "id": "14CBZwe2M3rZ",
        "colab": {
          "base_uri": "https://localhost:8080/"
        },
        "outputId": "76066b19-a0fe-479a-edef-bf36ade82f85"
      },
      "execution_count": 96,
      "outputs": [
        {
          "output_type": "stream",
          "name": "stdout",
          "text": [
            "+-------+---------------+------+-------------------+--------+-------------+\n",
            "|user_id|         series|season|          timestamp|   genre|duration_mins|\n",
            "+-------+---------------+------+-------------------+--------+-------------+\n",
            "|    521|     ”Mirzapur”|     3|2024-07-30 15:00:00|  action|          300|\n",
            "|    672|    ”Panchayat”|     3|2024-07-30 15:00:00|  comedy|          200|\n",
            "|    197|   ”Family Man”|     2|2024-07-30 15:00:00|  action|          500|\n",
            "|    521|     ”Mirzapur”|     2|2024-07-29 15:00:00|  action|          280|\n",
            "|    211|”Queens Gambit”|     1|2024-07-30 15:00:00|   drama|          170|\n",
            "|    521|     ”Mirzapur”|     1|2024-07-28 15:00:00|  action|          230|\n",
            "|    844|    ”Westworld”|     3|2024-07-30 15:00:00|  sci-fi|          310|\n",
            "|    672|    ”Panchayat”|     3|2024-07-29 15:00:00|  comedy|          210|\n",
            "|    256|   ”Homecoming”|     2|2024-07-30 15:00:00|thriller|          310|\n",
            "|    489|  ”Outer Range”|     1|2024-07-30 15:00:00|  sci-fi|          340|\n",
            "|    200| ”Black Mirror”|     2|2024-07-30 15:00:00|  sci-fi|          140|\n",
            "|    256|  ”Outer Range”|     2|2024-07-30 15:00:00|thriller|          250|\n",
            "|    489|  ”Outer Range”|     2|2024-07-28 15:00:00|  sci-fi|          170|\n",
            "|    200| ”Black Mirror”|     3|2024-07-29 15:00:00|  sci-fi|          190|\n",
            "|    672|    ”Panchayat”|     2|2024-07-28 15:00:00|  comedy|          160|\n",
            "|    672|  ”Outer Range”|     1|2024-07-25 15:00:00|  sci-fi|          250|\n",
            "|    200| ”Black Mirror”|     4|2024-07-28 15:00:00|  sci-fi|          200|\n",
            "|    844|    ”Westworld”|     2|2024-07-29 15:00:00|  sci-fi|          300|\n",
            "|    672| ”Black Mirror”|     5|2024-07-28 15:00:00|  sci-fi|          150|\n",
            "|    672|    ”Panchayat”|     1|2024-07-27 15:00:00|  comedy|          190|\n",
            "+-------+---------------+------+-------------------+--------+-------------+\n",
            "\n"
          ]
        }
      ]
    },
    {
      "cell_type": "code",
      "source": [
        "#Total Seasons available\n",
        "\n",
        "df.groupBy('series').agg(max('season')).show()"
      ],
      "metadata": {
        "id": "X0HCvFNbye9Y",
        "colab": {
          "base_uri": "https://localhost:8080/"
        },
        "outputId": "31656922-7496-4a7b-a1e9-3df4daf5e4d5"
      },
      "execution_count": 112,
      "outputs": [
        {
          "output_type": "stream",
          "name": "stdout",
          "text": [
            "+---------------+-----------+\n",
            "|         series|max(season)|\n",
            "+---------------+-----------+\n",
            "| ”Black Mirror”|          5|\n",
            "|   ”Family Man”|          2|\n",
            "|   ”Homecoming”|          2|\n",
            "|     ”Mirzapur”|          3|\n",
            "|  ”Outer Range”|          2|\n",
            "|    ”Panchayat”|          3|\n",
            "|”Queens Gambit”|          1|\n",
            "|    ”Westworld”|          3|\n",
            "+---------------+-----------+\n",
            "\n"
          ]
        }
      ]
    },
    {
      "cell_type": "code",
      "source": [
        "#Fetch a list of all series\n",
        "arr11=df.select('series').distinct()\n",
        "arr11.rdd.flatMap(lambda x:[x[0]]).collect()"
      ],
      "metadata": {
        "id": "weylH9PDM3uU",
        "colab": {
          "base_uri": "https://localhost:8080/"
        },
        "outputId": "f88ad275-0a40-41f2-bd74-e2e4947f97a4"
      },
      "execution_count": 95,
      "outputs": [
        {
          "output_type": "execute_result",
          "data": {
            "text/plain": [
              "['”Family Man”',\n",
              " '”Homecoming”',\n",
              " '”Panchayat”',\n",
              " '”Outer Range”',\n",
              " '”Black Mirror”',\n",
              " '”Mirzapur”',\n",
              " '”Westworld”',\n",
              " '”Queens Gambit”']"
            ]
          },
          "metadata": {},
          "execution_count": 95
        }
      ]
    },
    {
      "cell_type": "code",
      "source": [],
      "metadata": {
        "id": "zXgLNNoMfUiz"
      },
      "execution_count": null,
      "outputs": []
    }
  ]
}