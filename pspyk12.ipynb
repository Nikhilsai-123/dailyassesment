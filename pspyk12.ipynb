{
  "nbformat": 4,
  "nbformat_minor": 0,
  "metadata": {
    "colab": {
      "provenance": []
    },
    "kernelspec": {
      "name": "python3",
      "display_name": "Python 3"
    },
    "language_info": {
      "name": "python"
    }
  },
  "cells": [
    {
      "cell_type": "code",
      "execution_count": 7,
      "metadata": {
        "id": "UoH8kZvLICAR",
        "colab": {
          "base_uri": "https://localhost:8080/"
        },
        "outputId": "0b469ad1-96c5-4bf5-b8cf-1d25aadee01a"
      },
      "outputs": [
        {
          "output_type": "stream",
          "name": "stdout",
          "text": [
            "Writing user_data.csv\n"
          ]
        }
      ],
      "source": [
        "#user_data\n",
        "%%writefile user_data.csv\n",
        "user_id,series,season,timestamp,genre,duration_mins\n",
        "521,”Mirzapur”,3,2024-07-30 15:00:00,action,300\n",
        "672,”Panchayat”,3,2024-07-30 15:00:00,comedy,200\n",
        "197,”Family Man”,2,2024-07-30 15:00:00,action,500\n",
        "521,”Mirzapur”,2,2024-07-29 15:00:00,action,280\n",
        "211,”Queens Gambit”,1,2024-07-30 15:00:00,drama,170\n",
        "521,”Mirzapur”,1,2024-07-28 15:00:00,action,230\n",
        "844,”Westworld”,3,2024-07-30 15:00:00,sci-fi,310\n",
        "672,”Panchayat”,3,2024-07-29 15:00:00,comedy,210\n",
        "256,”Homecoming”,2,2024-07-30 15:00:00,thriller,310\n",
        "489,”Outer Range”,1,2024-07-30 15:00:00,sci-fi,340\n",
        "200,”Black Mirror”,2,2024-07-30 15:00:00,sci-fi,140\n",
        "256,”Outer Range”,2,2024-07-30 15:00:00,thriller,250\n",
        "489,”Outer Range”,2,2024-07-28 15:00:00,sci-fi,170\n",
        "200,”Black Mirror”,3,2024-07-29 15:00:00,sci-fi,190\n",
        "672,”Panchayat”,2,2024-07-28 15:00:00,comedy,160\n",
        "672,”Outer Range”,1,2024-07-25 15:00:00,sci-fi,250\n",
        "200,”Black Mirror”,4,2024-07-28 15:00:00,sci-fi,200\n",
        "844,”Westworld”,2,2024-07-29 15:00:00,sci-fi,300\n",
        "672,”Black Mirror”,5,2024-07-28 15:00:00,sci-fi,150\n",
        "672,”Panchayat”,1,2024-07-27 15:00:00,comedy,190"
      ]
    },
    {
      "cell_type": "code",
      "source": [
        "#Import Libraries\n",
        "!pip install pyspark\n",
        "from pyspark.sql import SparkSession\n",
        "from pyspark.sql.functions import *\n",
        "from pyspark.sql.types import *"
      ],
      "metadata": {
        "id": "GLxzpwaSIJRA",
        "colab": {
          "base_uri": "https://localhost:8080/"
        },
        "outputId": "1abfd004-9034-41b0-a637-9c78db5549f4"
      },
      "execution_count": 3,
      "outputs": [
        {
          "output_type": "stream",
          "name": "stdout",
          "text": [
            "Collecting pyspark\n",
            "  Downloading pyspark-3.5.1.tar.gz (317.0 MB)\n",
            "\u001b[2K     \u001b[90m━━━━━━━━━━━━━━━━━━━━━━━━━━━━━━━━━━━━━━━━\u001b[0m \u001b[32m317.0/317.0 MB\u001b[0m \u001b[31m4.0 MB/s\u001b[0m eta \u001b[36m0:00:00\u001b[0m\n",
            "\u001b[?25h  Preparing metadata (setup.py) ... \u001b[?25l\u001b[?25hdone\n",
            "Requirement already satisfied: py4j==0.10.9.7 in /usr/local/lib/python3.10/dist-packages (from pyspark) (0.10.9.7)\n",
            "Building wheels for collected packages: pyspark\n",
            "  Building wheel for pyspark (setup.py) ... \u001b[?25l\u001b[?25hdone\n",
            "  Created wheel for pyspark: filename=pyspark-3.5.1-py2.py3-none-any.whl size=317488490 sha256=0153d87f54dd260b25a5fb6291986a227e7fed5536ab8cfe83622ce143d44f8b\n",
            "  Stored in directory: /root/.cache/pip/wheels/80/1d/60/2c256ed38dddce2fdd93be545214a63e02fbd8d74fb0b7f3a6\n",
            "Successfully built pyspark\n",
            "Installing collected packages: pyspark\n",
            "Successfully installed pyspark-3.5.1\n"
          ]
        }
      ]
    },
    {
      "cell_type": "code",
      "source": [
        "#Create SparkSession for app (Streaming Analysis)\n",
        "spark=SparkSession.builder.appName('data').getOrCreate()"
      ],
      "metadata": {
        "id": "YChMWo_nIJTq"
      },
      "execution_count": 5,
      "outputs": []
    },
    {
      "cell_type": "code",
      "source": [
        "#Create Dataframe series_df\n",
        "df=spark.read.option('header',True).csv('/content/user_data.csv')"
      ],
      "metadata": {
        "id": "gljhEO_IIJXB"
      },
      "execution_count": 8,
      "outputs": []
    },
    {
      "cell_type": "code",
      "source": [
        "df.show()"
      ],
      "metadata": {
        "colab": {
          "base_uri": "https://localhost:8080/"
        },
        "id": "6m1rrUHc7nnX",
        "outputId": "398ce7d6-3273-412c-f2af-15361ba53f77"
      },
      "execution_count": 9,
      "outputs": [
        {
          "output_type": "stream",
          "name": "stdout",
          "text": [
            "+-------+---------------+------+-------------------+--------+-------------+\n",
            "|user_id|         series|season|          timestamp|   genre|duration_mins|\n",
            "+-------+---------------+------+-------------------+--------+-------------+\n",
            "|    521|     ”Mirzapur”|     3|2024-07-30 15:00:00|  action|          300|\n",
            "|    672|    ”Panchayat”|     3|2024-07-30 15:00:00|  comedy|          200|\n",
            "|    197|   ”Family Man”|     2|2024-07-30 15:00:00|  action|          500|\n",
            "|    521|     ”Mirzapur”|     2|2024-07-29 15:00:00|  action|          280|\n",
            "|    211|”Queens Gambit”|     1|2024-07-30 15:00:00|   drama|          170|\n",
            "|    521|     ”Mirzapur”|     1|2024-07-28 15:00:00|  action|          230|\n",
            "|    844|    ”Westworld”|     3|2024-07-30 15:00:00|  sci-fi|          310|\n",
            "|    672|    ”Panchayat”|     3|2024-07-29 15:00:00|  comedy|          210|\n",
            "|    256|   ”Homecoming”|     2|2024-07-30 15:00:00|thriller|          310|\n",
            "|    489|  ”Outer Range”|     1|2024-07-30 15:00:00|  sci-fi|          340|\n",
            "|    200| ”Black Mirror”|     2|2024-07-30 15:00:00|  sci-fi|          140|\n",
            "|    256|  ”Outer Range”|     2|2024-07-30 15:00:00|thriller|          250|\n",
            "|    489|  ”Outer Range”|     2|2024-07-28 15:00:00|  sci-fi|          170|\n",
            "|    200| ”Black Mirror”|     3|2024-07-29 15:00:00|  sci-fi|          190|\n",
            "|    672|    ”Panchayat”|     2|2024-07-28 15:00:00|  comedy|          160|\n",
            "|    672|  ”Outer Range”|     1|2024-07-25 15:00:00|  sci-fi|          250|\n",
            "|    200| ”Black Mirror”|     4|2024-07-28 15:00:00|  sci-fi|          200|\n",
            "|    844|    ”Westworld”|     2|2024-07-29 15:00:00|  sci-fi|          300|\n",
            "|    672| ”Black Mirror”|     5|2024-07-28 15:00:00|  sci-fi|          150|\n",
            "|    672|    ”Panchayat”|     1|2024-07-27 15:00:00|  comedy|          190|\n",
            "+-------+---------------+------+-------------------+--------+-------------+\n",
            "\n"
          ]
        }
      ]
    },
    {
      "cell_type": "code",
      "source": [
        "\n",
        "#Find the user with maximum watchtime\n",
        "arr1=df.groupBy('user_id').agg({'duration_mins':'sum'}).orderBy('sum(duration_mins)',ascending=False).show()"
      ],
      "metadata": {
        "id": "ddoznJiZIJZI",
        "colab": {
          "base_uri": "https://localhost:8080/"
        },
        "outputId": "695991b5-3866-4b39-cd64-5fcf0d8ad6e6"
      },
      "execution_count": 6,
      "outputs": [
        {
          "output_type": "stream",
          "name": "stdout",
          "text": [
            "+-------+------------------+\n",
            "|user_id|sum(duration_mins)|\n",
            "+-------+------------------+\n",
            "|    672|            1160.0|\n",
            "|    521|             810.0|\n",
            "|    844|             610.0|\n",
            "|    256|             560.0|\n",
            "|    200|             530.0|\n",
            "|    489|             510.0|\n",
            "|    197|             500.0|\n",
            "|    211|             170.0|\n",
            "+-------+------------------+\n",
            "\n"
          ]
        }
      ]
    },
    {
      "cell_type": "code",
      "source": [
        "#Calculate overall total Watchtime\n",
        "arr2=df.groupBy('user_id').agg(sum('duration_mins')).show()"
      ],
      "metadata": {
        "id": "KCpeY-cyynpN",
        "colab": {
          "base_uri": "https://localhost:8080/"
        },
        "outputId": "b1b30229-c142-46fa-a55e-ade7bc038abf"
      },
      "execution_count": 7,
      "outputs": [
        {
          "output_type": "stream",
          "name": "stdout",
          "text": [
            "+-------+------------------+\n",
            "|user_id|sum(duration_mins)|\n",
            "+-------+------------------+\n",
            "|    521|             810.0|\n",
            "|    200|             530.0|\n",
            "|    672|            1160.0|\n",
            "|    256|             560.0|\n",
            "|    197|             500.0|\n",
            "|    211|             170.0|\n",
            "|    844|             610.0|\n",
            "|    489|             510.0|\n",
            "+-------+------------------+\n",
            "\n"
          ]
        }
      ]
    },
    {
      "cell_type": "code",
      "source": [
        "#Find most popular shows (based on watchtime)\n",
        "arr3=df.groupBy('series','genre').agg({'duration_mins':'sum'}).orderBy('sum(duration_mins)',ascending=False).show()"
      ],
      "metadata": {
        "id": "SMnElt2ZIJbJ",
        "colab": {
          "base_uri": "https://localhost:8080/"
        },
        "outputId": "d89aac2d-5a8b-4995-9477-a3faca5381d4"
      },
      "execution_count": 8,
      "outputs": [
        {
          "output_type": "stream",
          "name": "stdout",
          "text": [
            "+---------------+--------+------------------+\n",
            "|         series|   genre|sum(duration_mins)|\n",
            "+---------------+--------+------------------+\n",
            "|     ”Mirzapur”|  action|             810.0|\n",
            "|  ”Outer Range”|  sci-fi|             760.0|\n",
            "|    ”Panchayat”|  comedy|             760.0|\n",
            "| ”Black Mirror”|  sci-fi|             680.0|\n",
            "|    ”Westworld”|  sci-fi|             610.0|\n",
            "|   ”Family Man”|  action|             500.0|\n",
            "|   ”Homecoming”|thriller|             310.0|\n",
            "|  ”Outer Range”|thriller|             250.0|\n",
            "|”Queens Gambit”|   drama|             170.0|\n",
            "+---------------+--------+------------------+\n",
            "\n"
          ]
        }
      ]
    },
    {
      "cell_type": "code",
      "source": [
        "\n",
        "#Find most popular shows (based on user popularity)\n",
        "arr4=df.groupBy('series').agg(count('user_id')).orderBy('count(user_id)',ascending=False).show()"
      ],
      "metadata": {
        "id": "-W2oNioNIJem",
        "colab": {
          "base_uri": "https://localhost:8080/"
        },
        "outputId": "1a2b2a68-5b54-4633-d970-e9bf743a09bf"
      },
      "execution_count": 9,
      "outputs": [
        {
          "output_type": "stream",
          "name": "stdout",
          "text": [
            "+---------------+--------------+\n",
            "|         series|count(user_id)|\n",
            "+---------------+--------------+\n",
            "|    ”Panchayat”|             4|\n",
            "|  ”Outer Range”|             4|\n",
            "| ”Black Mirror”|             4|\n",
            "|     ”Mirzapur”|             3|\n",
            "|    ”Westworld”|             2|\n",
            "|   ”Family Man”|             1|\n",
            "|   ”Homecoming”|             1|\n",
            "|”Queens Gambit”|             1|\n",
            "+---------------+--------------+\n",
            "\n"
          ]
        }
      ]
    },
    {
      "cell_type": "code",
      "source": [
        "\n",
        "\n",
        "#Find the most popular genre\n",
        "arr5=df.groupBy('genre').agg(count('genre')).orderBy('count(genre)',ascending=False).show()"
      ],
      "metadata": {
        "id": "Z-RpLlNFIJgk",
        "colab": {
          "base_uri": "https://localhost:8080/"
        },
        "outputId": "0b8afc9a-8294-4c39-f0e9-d145d89ada53"
      },
      "execution_count": 10,
      "outputs": [
        {
          "output_type": "stream",
          "name": "stdout",
          "text": [
            "+--------+------------+\n",
            "|   genre|count(genre)|\n",
            "+--------+------------+\n",
            "|  sci-fi|           9|\n",
            "|  action|           4|\n",
            "|  comedy|           4|\n",
            "|thriller|           2|\n",
            "|   drama|           1|\n",
            "+--------+------------+\n",
            "\n"
          ]
        }
      ]
    },
    {
      "cell_type": "code",
      "source": [
        "#Calculate total watchtime per user\n",
        "arr6=df.groupBy('user_id').agg({'duration_mins':'sum'}).show()"
      ],
      "metadata": {
        "id": "vm_-_AUWIJis",
        "colab": {
          "base_uri": "https://localhost:8080/"
        },
        "outputId": "0570935c-90db-405f-e18c-4999294b783c"
      },
      "execution_count": 11,
      "outputs": [
        {
          "output_type": "stream",
          "name": "stdout",
          "text": [
            "+-------+------------------+\n",
            "|user_id|sum(duration_mins)|\n",
            "+-------+------------------+\n",
            "|    521|             810.0|\n",
            "|    200|             530.0|\n",
            "|    672|            1160.0|\n",
            "|    256|             560.0|\n",
            "|    197|             500.0|\n",
            "|    211|             170.0|\n",
            "|    844|             610.0|\n",
            "|    489|             510.0|\n",
            "+-------+------------------+\n",
            "\n"
          ]
        }
      ]
    },
    {
      "cell_type": "code",
      "source": [
        "#Find most popular genre (based on engagement count)\n",
        "arr7=df.groupBy('genre').agg(count('duration_mins')).orderBy('count(duration_mins)',ascending=False).show(1)"
      ],
      "metadata": {
        "id": "l-DuDyiOIJlG",
        "colab": {
          "base_uri": "https://localhost:8080/"
        },
        "outputId": "3e196f23-5ad4-4ebb-cf46-af73e158c386"
      },
      "execution_count": 12,
      "outputs": [
        {
          "output_type": "stream",
          "name": "stdout",
          "text": [
            "+------+--------------------+\n",
            "| genre|count(duration_mins)|\n",
            "+------+--------------------+\n",
            "|sci-fi|                   9|\n",
            "+------+--------------------+\n",
            "only showing top 1 row\n",
            "\n"
          ]
        }
      ]
    },
    {
      "cell_type": "code",
      "source": [
        "arr7=df.groupBy('genre').agg(count('genre')).show()"
      ],
      "metadata": {
        "colab": {
          "base_uri": "https://localhost:8080/"
        },
        "id": "B2dXuw8IEl_f",
        "outputId": "28c85a38-8e25-49fd-a8c0-7670fb48a7ef"
      },
      "execution_count": 13,
      "outputs": [
        {
          "output_type": "stream",
          "name": "stdout",
          "text": [
            "+--------+------------+\n",
            "|   genre|count(genre)|\n",
            "+--------+------------+\n",
            "|  action|           4|\n",
            "|   drama|           1|\n",
            "|thriller|           2|\n",
            "|  sci-fi|           9|\n",
            "|  comedy|           4|\n",
            "+--------+------------+\n",
            "\n"
          ]
        }
      ]
    },
    {
      "cell_type": "code",
      "source": [
        "#Find average watchtime per genre\n",
        "arr8=df.groupBy('genre').agg({'duration_mins':'avg'}).show()"
      ],
      "metadata": {
        "id": "yFFZh-NFIJnQ",
        "colab": {
          "base_uri": "https://localhost:8080/"
        },
        "outputId": "9fe2e641-a8ee-415a-c2f5-4b44cda73521"
      },
      "execution_count": 14,
      "outputs": [
        {
          "output_type": "stream",
          "name": "stdout",
          "text": [
            "+--------+------------------+\n",
            "|   genre|avg(duration_mins)|\n",
            "+--------+------------------+\n",
            "|  action|             327.5|\n",
            "|   drama|             170.0|\n",
            "|thriller|             280.0|\n",
            "|  sci-fi|227.77777777777777|\n",
            "|  comedy|             190.0|\n",
            "+--------+------------------+\n",
            "\n"
          ]
        }
      ]
    },
    {
      "cell_type": "code",
      "source": [],
      "metadata": {
        "id": "nvuQLbXtGkU0"
      },
      "execution_count": null,
      "outputs": []
    },
    {
      "cell_type": "code",
      "source": [
        "#Find peak traffic days\n",
        "#(Output 1 = Full Date)\n",
        "arr10=df.groupBy(to_date('timestamp')).agg(count('timestamp')).orderBy('count(timestamp)',ascending=False)\n",
        "arr10.select('to_date(timestamp)').show(1)"
      ],
      "metadata": {
        "id": "HzXnysiXIJpq",
        "colab": {
          "base_uri": "https://localhost:8080/"
        },
        "outputId": "639b55fb-2299-40c2-9803-1e8cd64ffe22"
      },
      "execution_count": 15,
      "outputs": [
        {
          "output_type": "stream",
          "name": "stdout",
          "text": [
            "+------------------+\n",
            "|to_date(timestamp)|\n",
            "+------------------+\n",
            "|        2024-07-30|\n",
            "+------------------+\n",
            "only showing top 1 row\n",
            "\n"
          ]
        }
      ]
    },
    {
      "cell_type": "code",
      "source": [
        "#(Output 2 = Only Day)\n",
        "\n",
        "arr10=df.groupBy(dayofmonth('timestamp')).agg(count('timestamp')).orderBy('count(timestamp)',ascending=False)\n",
        "arr10.select('dayofmonth(timestamp)').show(1)"
      ],
      "metadata": {
        "colab": {
          "base_uri": "https://localhost:8080/"
        },
        "id": "zJVGj4pMMEA_",
        "outputId": "4b537453-de6b-4624-88e4-5182f8065a14"
      },
      "execution_count": 10,
      "outputs": [
        {
          "output_type": "stream",
          "name": "stdout",
          "text": [
            "+---------------------+\n",
            "|dayofmonth(timestamp)|\n",
            "+---------------------+\n",
            "|                   30|\n",
            "+---------------------+\n",
            "only showing top 1 row\n",
            "\n"
          ]
        }
      ]
    },
    {
      "cell_type": "code",
      "source": [
        "#Find the user with most diverse show preference\n",
        "df.groupBy('user_id').agg(countDistinct('series')).orderBy('count(DISTINCT series)',ascending=False).show(1)"
      ],
      "metadata": {
        "id": "yY7SlM8yIJsz",
        "colab": {
          "base_uri": "https://localhost:8080/"
        },
        "outputId": "4391ea43-b490-44b7-cd91-bbe4a22e0571"
      },
      "execution_count": 17,
      "outputs": [
        {
          "output_type": "stream",
          "name": "stdout",
          "text": [
            "+-------+----------------------+\n",
            "|user_id|count(DISTINCT series)|\n",
            "+-------+----------------------+\n",
            "|    672|                     3|\n",
            "+-------+----------------------+\n",
            "only showing top 1 row\n",
            "\n"
          ]
        }
      ]
    },
    {
      "cell_type": "code",
      "source": [
        "#Find the binge-watchers\n",
        "df.groupBy('user_id').agg(countDistinct('timestamp')).orderBy('count(DISTINCT timestamp)',ascending=False).show(1)"
      ],
      "metadata": {
        "id": "9UMeWCk-IJvK",
        "colab": {
          "base_uri": "https://localhost:8080/"
        },
        "outputId": "3f5463c4-49b5-445b-fb4e-40570c2c5553"
      },
      "execution_count": 27,
      "outputs": [
        {
          "output_type": "stream",
          "name": "stdout",
          "text": [
            "+-------+-------------------------+\n",
            "|user_id|count(DISTINCT timestamp)|\n",
            "+-------+-------------------------+\n",
            "|    672|                        5|\n",
            "+-------+-------------------------+\n",
            "only showing top 1 row\n",
            "\n"
          ]
        }
      ]
    },
    {
      "cell_type": "code",
      "source": [
        "df.show()"
      ],
      "metadata": {
        "colab": {
          "base_uri": "https://localhost:8080/"
        },
        "id": "JsXnMkc3d9r6",
        "outputId": "2820844f-0323-4316-a541-91b913ce2339"
      },
      "execution_count": 24,
      "outputs": [
        {
          "output_type": "stream",
          "name": "stdout",
          "text": [
            "+-------+---------------+------+-------------------+--------+-------------+\n",
            "|user_id|         series|season|          timestamp|   genre|duration_mins|\n",
            "+-------+---------------+------+-------------------+--------+-------------+\n",
            "|    521|     ”Mirzapur”|     3|2024-07-30 15:00:00|  action|          300|\n",
            "|    672|    ”Panchayat”|     3|2024-07-30 15:00:00|  comedy|          200|\n",
            "|    197|   ”Family Man”|     2|2024-07-30 15:00:00|  action|          500|\n",
            "|    521|     ”Mirzapur”|     2|2024-07-29 15:00:00|  action|          280|\n",
            "|    211|”Queens Gambit”|     1|2024-07-30 15:00:00|   drama|          170|\n",
            "|    521|     ”Mirzapur”|     1|2024-07-28 15:00:00|  action|          230|\n",
            "|    844|    ”Westworld”|     3|2024-07-30 15:00:00|  sci-fi|          310|\n",
            "|    672|    ”Panchayat”|     3|2024-07-29 15:00:00|  comedy|          210|\n",
            "|    256|   ”Homecoming”|     2|2024-07-30 15:00:00|thriller|          310|\n",
            "|    489|  ”Outer Range”|     1|2024-07-30 15:00:00|  sci-fi|          340|\n",
            "|    200| ”Black Mirror”|     2|2024-07-30 15:00:00|  sci-fi|          140|\n",
            "|    256|  ”Outer Range”|     2|2024-07-30 15:00:00|thriller|          250|\n",
            "|    489|  ”Outer Range”|     2|2024-07-28 15:00:00|  sci-fi|          170|\n",
            "|    200| ”Black Mirror”|     3|2024-07-29 15:00:00|  sci-fi|          190|\n",
            "|    672|    ”Panchayat”|     2|2024-07-28 15:00:00|  comedy|          160|\n",
            "|    672|  ”Outer Range”|     1|2024-07-25 15:00:00|  sci-fi|          250|\n",
            "|    200| ”Black Mirror”|     4|2024-07-28 15:00:00|  sci-fi|          200|\n",
            "|    844|    ”Westworld”|     2|2024-07-29 15:00:00|  sci-fi|          300|\n",
            "|    672| ”Black Mirror”|     5|2024-07-28 15:00:00|  sci-fi|          150|\n",
            "|    672|    ”Panchayat”|     1|2024-07-27 15:00:00|  comedy|          190|\n",
            "+-------+---------------+------+-------------------+--------+-------------+\n",
            "\n"
          ]
        }
      ]
    },
    {
      "cell_type": "code",
      "source": [
        "#Find the user with longest watching streak\n",
        "arr12=df.groupBy('user_id').agg(count('timestamp')).orderBy('count(timestamp)',ascending=False).show(1)"
      ],
      "metadata": {
        "id": "14CBZwe2M3rZ",
        "colab": {
          "base_uri": "https://localhost:8080/"
        },
        "outputId": "c59f9edf-c392-4cd4-de77-5b1a9eece8c0"
      },
      "execution_count": 14,
      "outputs": [
        {
          "output_type": "stream",
          "name": "stdout",
          "text": [
            "+-------+----------------+\n",
            "|user_id|count(timestamp)|\n",
            "+-------+----------------+\n",
            "|    672|               6|\n",
            "+-------+----------------+\n",
            "only showing top 1 row\n",
            "\n"
          ]
        }
      ]
    },
    {
      "cell_type": "code",
      "source": [
        "#Total Seasons available\n",
        "\n",
        "df.groupBy('series').agg(max('season')).show()"
      ],
      "metadata": {
        "id": "X0HCvFNbye9Y",
        "colab": {
          "base_uri": "https://localhost:8080/"
        },
        "outputId": "31656922-7496-4a7b-a1e9-3df4daf5e4d5"
      },
      "execution_count": null,
      "outputs": [
        {
          "output_type": "stream",
          "name": "stdout",
          "text": [
            "+---------------+-----------+\n",
            "|         series|max(season)|\n",
            "+---------------+-----------+\n",
            "| ”Black Mirror”|          5|\n",
            "|   ”Family Man”|          2|\n",
            "|   ”Homecoming”|          2|\n",
            "|     ”Mirzapur”|          3|\n",
            "|  ”Outer Range”|          2|\n",
            "|    ”Panchayat”|          3|\n",
            "|”Queens Gambit”|          1|\n",
            "|    ”Westworld”|          3|\n",
            "+---------------+-----------+\n",
            "\n"
          ]
        }
      ]
    },
    {
      "cell_type": "code",
      "source": [
        "#Fetch a list of all series\n",
        "arr11=df.select('series').distinct()\n",
        "arr11.rdd.flatMap(lambda x:[x[0]]).collect()"
      ],
      "metadata": {
        "id": "weylH9PDM3uU",
        "colab": {
          "base_uri": "https://localhost:8080/"
        },
        "outputId": "f88ad275-0a40-41f2-bd74-e2e4947f97a4"
      },
      "execution_count": null,
      "outputs": [
        {
          "output_type": "execute_result",
          "data": {
            "text/plain": [
              "['”Family Man”',\n",
              " '”Homecoming”',\n",
              " '”Panchayat”',\n",
              " '”Outer Range”',\n",
              " '”Black Mirror”',\n",
              " '”Mirzapur”',\n",
              " '”Westworld”',\n",
              " '”Queens Gambit”']"
            ]
          },
          "metadata": {},
          "execution_count": 95
        }
      ]
    },
    {
      "cell_type": "code",
      "source": [
        "data=[[\"1\",\"2020-02-01\"],[\"2\",\"2019-03-01\"],[\"3\",\"2021-03-01\"]]\n",
        "df=spark.createDataFrame(data,[\"id\",\"input\"])\n",
        "df.show()"
      ],
      "metadata": {
        "id": "zXgLNNoMfUiz",
        "colab": {
          "base_uri": "https://localhost:8080/"
        },
        "outputId": "3f778c52-6a8b-4987-a774-e638efe81427"
      },
      "execution_count": 28,
      "outputs": [
        {
          "output_type": "stream",
          "name": "stdout",
          "text": [
            "+---+----------+\n",
            "| id|     input|\n",
            "+---+----------+\n",
            "|  1|2020-02-01|\n",
            "|  2|2019-03-01|\n",
            "|  3|2021-03-01|\n",
            "+---+----------+\n",
            "\n"
          ]
        }
      ]
    },
    {
      "cell_type": "code",
      "source": [
        "ar1=df.select(current_date()).show(1)"
      ],
      "metadata": {
        "id": "eOTj5r31gelR",
        "outputId": "0667c89f-d510-4ed8-87fc-2aa08d71cda5",
        "colab": {
          "base_uri": "https://localhost:8080/"
        }
      },
      "execution_count": 30,
      "outputs": [
        {
          "output_type": "stream",
          "name": "stdout",
          "text": [
            "+--------------+\n",
            "|current_date()|\n",
            "+--------------+\n",
            "|    2024-07-31|\n",
            "+--------------+\n",
            "only showing top 1 row\n",
            "\n"
          ]
        }
      ]
    },
    {
      "cell_type": "code",
      "source": [
        "ar2=df.select(col('input'),date_format(col('input'),'MM-dd-yyyy')).show()"
      ],
      "metadata": {
        "id": "GeYM85Dvgzb9",
        "outputId": "620386f1-8ec1-42df-97cc-d2e3a5ba461a",
        "colab": {
          "base_uri": "https://localhost:8080/"
        }
      },
      "execution_count": 37,
      "outputs": [
        {
          "output_type": "stream",
          "name": "stdout",
          "text": [
            "+----------+------------------------------+\n",
            "|     input|date_format(input, MM-dd-yyyy)|\n",
            "+----------+------------------------------+\n",
            "|2020-02-01|                    02-01-2020|\n",
            "|2019-03-01|                    03-01-2019|\n",
            "|2021-03-01|                    03-01-2021|\n",
            "+----------+------------------------------+\n",
            "\n"
          ]
        }
      ]
    },
    {
      "cell_type": "code",
      "source": [
        "df.select(col(\"input\"),\n",
        "    months_between(current_date(),col(\"input\")).alias(\"months_between\")\n",
        "  ).show()"
      ],
      "metadata": {
        "id": "4gEs81othqvc",
        "outputId": "8850fee3-0ac3-4895-b1e0-27cd3f0307f6",
        "colab": {
          "base_uri": "https://localhost:8080/"
        }
      },
      "execution_count": 43,
      "outputs": [
        {
          "output_type": "stream",
          "name": "stdout",
          "text": [
            "+----------+--------------+\n",
            "|     input|months_between|\n",
            "+----------+--------------+\n",
            "|2020-02-01|   53.96774194|\n",
            "|2019-03-01|   64.96774194|\n",
            "|2021-03-01|   40.96774194|\n",
            "+----------+--------------+\n",
            "\n"
          ]
        }
      ]
    },
    {
      "cell_type": "code",
      "source": [
        "df.select(col('input'),year(col('input'))).show()\n",
        "df.select(col('input'),month(col('input'))).show()\n",
        "df.select(col('input'),day(col('input'))).show()\n",
        "df.select(col('input'),dayofmonth(col('input'))).show()\n",
        "df.select(col('input'),dayofweek(col('input'))).show()\n",
        "df.select(col('input'),dayofyear(col('input'))).show()\n"
      ],
      "metadata": {
        "id": "UEw21DEwihRL",
        "outputId": "da0ad082-07d2-4457-e050-4acf126731a5",
        "colab": {
          "base_uri": "https://localhost:8080/"
        }
      },
      "execution_count": 49,
      "outputs": [
        {
          "output_type": "stream",
          "name": "stdout",
          "text": [
            "+----------+-----------+\n",
            "|     input|year(input)|\n",
            "+----------+-----------+\n",
            "|2020-02-01|       2020|\n",
            "|2019-03-01|       2019|\n",
            "|2021-03-01|       2021|\n",
            "+----------+-----------+\n",
            "\n",
            "+----------+------------+\n",
            "|     input|month(input)|\n",
            "+----------+------------+\n",
            "|2020-02-01|           2|\n",
            "|2019-03-01|           3|\n",
            "|2021-03-01|           3|\n",
            "+----------+------------+\n",
            "\n",
            "+----------+----------+\n",
            "|     input|day(input)|\n",
            "+----------+----------+\n",
            "|2020-02-01|         1|\n",
            "|2019-03-01|         1|\n",
            "|2021-03-01|         1|\n",
            "+----------+----------+\n",
            "\n",
            "+----------+-----------------+\n",
            "|     input|dayofmonth(input)|\n",
            "+----------+-----------------+\n",
            "|2020-02-01|                1|\n",
            "|2019-03-01|                1|\n",
            "|2021-03-01|                1|\n",
            "+----------+-----------------+\n",
            "\n",
            "+----------+----------------+\n",
            "|     input|dayofweek(input)|\n",
            "+----------+----------------+\n",
            "|2020-02-01|               7|\n",
            "|2019-03-01|               6|\n",
            "|2021-03-01|               2|\n",
            "+----------+----------------+\n",
            "\n",
            "+----------+----------------+\n",
            "|     input|dayofyear(input)|\n",
            "+----------+----------------+\n",
            "|2020-02-01|              32|\n",
            "|2019-03-01|              60|\n",
            "|2021-03-01|              60|\n",
            "+----------+----------------+\n",
            "\n"
          ]
        }
      ]
    },
    {
      "cell_type": "code",
      "source": [
        "df.show()"
      ],
      "metadata": {
        "id": "GssGP79G6fkr",
        "outputId": "9ca68651-7e8e-44c7-c051-7679e6eace53",
        "colab": {
          "base_uri": "https://localhost:8080/"
        }
      },
      "execution_count": 17,
      "outputs": [
        {
          "output_type": "stream",
          "name": "stdout",
          "text": [
            "+-------+---------------+------+-------------------+--------+-------------+\n",
            "|user_id|         series|season|          timestamp|   genre|duration_mins|\n",
            "+-------+---------------+------+-------------------+--------+-------------+\n",
            "|    521|     ”Mirzapur”|     3|2024-07-30 15:00:00|  action|          300|\n",
            "|    672|    ”Panchayat”|     3|2024-07-30 15:00:00|  comedy|          200|\n",
            "|    197|   ”Family Man”|     2|2024-07-30 15:00:00|  action|          500|\n",
            "|    521|     ”Mirzapur”|     2|2024-07-29 15:00:00|  action|          280|\n",
            "|    211|”Queens Gambit”|     1|2024-07-30 15:00:00|   drama|          170|\n",
            "|    521|     ”Mirzapur”|     1|2024-07-28 15:00:00|  action|          230|\n",
            "|    844|    ”Westworld”|     3|2024-07-30 15:00:00|  sci-fi|          310|\n",
            "|    672|    ”Panchayat”|     3|2024-07-29 15:00:00|  comedy|          210|\n",
            "|    256|   ”Homecoming”|     2|2024-07-30 15:00:00|thriller|          310|\n",
            "|    489|  ”Outer Range”|     1|2024-07-30 15:00:00|  sci-fi|          340|\n",
            "|    200| ”Black Mirror”|     2|2024-07-30 15:00:00|  sci-fi|          140|\n",
            "|    256|  ”Outer Range”|     2|2024-07-30 15:00:00|thriller|          250|\n",
            "|    489|  ”Outer Range”|     2|2024-07-28 15:00:00|  sci-fi|          170|\n",
            "|    200| ”Black Mirror”|     3|2024-07-29 15:00:00|  sci-fi|          190|\n",
            "|    672|    ”Panchayat”|     2|2024-07-28 15:00:00|  comedy|          160|\n",
            "|    672|  ”Outer Range”|     1|2024-07-25 15:00:00|  sci-fi|          250|\n",
            "|    200| ”Black Mirror”|     4|2024-07-28 15:00:00|  sci-fi|          200|\n",
            "|    844|    ”Westworld”|     2|2024-07-29 15:00:00|  sci-fi|          300|\n",
            "|    672| ”Black Mirror”|     5|2024-07-28 15:00:00|  sci-fi|          150|\n",
            "|    672|    ”Panchayat”|     1|2024-07-27 15:00:00|  comedy|          190|\n",
            "+-------+---------------+------+-------------------+--------+-------------+\n",
            "\n"
          ]
        }
      ]
    },
    {
      "cell_type": "code",
      "source": [
        "df1=df.groupBy('user_id','timestamp','series').agg({'season':'count'}).withColumnRenamed('count(season)','count').orderBy('user_id')\n",
        "df2=df.groupBy('series').agg({'season':'max'}).withColumnRenamed('max(season)','max')\n",
        "df3=df1.join(df2,on='series',how='inner')\n",
        "df3.show()\n",
        "# df3.filter(f.col('count')==f.col('max')).collect()[0][1]"
      ],
      "metadata": {
        "id": "vtB3rQSPjcpq",
        "outputId": "a6e7c4d0-859d-44e7-ab65-ec5825ad8624",
        "colab": {
          "base_uri": "https://localhost:8080/"
        }
      },
      "execution_count": 22,
      "outputs": [
        {
          "output_type": "stream",
          "name": "stdout",
          "text": [
            "+---------------+-------+-------------------+-----+---+\n",
            "|         series|user_id|          timestamp|count|max|\n",
            "+---------------+-------+-------------------+-----+---+\n",
            "|     ”Mirzapur”|    521|2024-07-30 15:00:00|    1|  3|\n",
            "|    ”Westworld”|    844|2024-07-30 15:00:00|    1|  3|\n",
            "| ”Black Mirror”|    672|2024-07-28 15:00:00|    1|  5|\n",
            "|   ”Homecoming”|    256|2024-07-30 15:00:00|    1|  2|\n",
            "| ”Black Mirror”|    200|2024-07-29 15:00:00|    1|  5|\n",
            "|  ”Outer Range”|    672|2024-07-25 15:00:00|    1|  2|\n",
            "|  ”Outer Range”|    489|2024-07-28 15:00:00|    1|  2|\n",
            "|  ”Outer Range”|    256|2024-07-30 15:00:00|    1|  2|\n",
            "|    ”Panchayat”|    672|2024-07-27 15:00:00|    1|  3|\n",
            "|  ”Outer Range”|    489|2024-07-30 15:00:00|    1|  2|\n",
            "|    ”Panchayat”|    672|2024-07-29 15:00:00|    1|  3|\n",
            "|     ”Mirzapur”|    521|2024-07-28 15:00:00|    1|  3|\n",
            "|”Queens Gambit”|    211|2024-07-30 15:00:00|    1|  1|\n",
            "| ”Black Mirror”|    200|2024-07-28 15:00:00|    1|  5|\n",
            "|    ”Panchayat”|    672|2024-07-30 15:00:00|    1|  3|\n",
            "|    ”Panchayat”|    672|2024-07-28 15:00:00|    1|  3|\n",
            "|    ”Westworld”|    844|2024-07-29 15:00:00|    1|  3|\n",
            "|   ”Family Man”|    197|2024-07-30 15:00:00|    1|  2|\n",
            "| ”Black Mirror”|    200|2024-07-30 15:00:00|    1|  5|\n",
            "|     ”Mirzapur”|    521|2024-07-29 15:00:00|    1|  3|\n",
            "+---------------+-------+-------------------+-----+---+\n",
            "\n"
          ]
        }
      ]
    },
    {
      "cell_type": "code",
      "source": [],
      "metadata": {
        "id": "9tU0Qe1P6PHh"
      },
      "execution_count": null,
      "outputs": []
    }
  ]
}