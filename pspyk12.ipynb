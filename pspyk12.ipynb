{
  "nbformat": 4,
  "nbformat_minor": 0,
  "metadata": {
    "colab": {
      "provenance": [],
      "include_colab_link": true
    },
    "kernelspec": {
      "name": "python3",
      "display_name": "Python 3"
    },
    "language_info": {
      "name": "python"
    }
  },
  "cells": [
    {
      "cell_type": "markdown",
      "metadata": {
        "id": "view-in-github",
        "colab_type": "text"
      },
      "source": [
        "<a href=\"https://colab.research.google.com/github/Nikhilsai-123/dailyassesment/blob/main/pspyk12.ipynb\" target=\"_parent\"><img src=\"https://colab.research.google.com/assets/colab-badge.svg\" alt=\"Open In Colab\"/></a>"
      ]
    },
    {
      "cell_type": "code",
      "execution_count": 1,
      "metadata": {
        "id": "UoH8kZvLICAR",
        "outputId": "12f80eab-395b-47af-cb3c-b91d7a429640",
        "colab": {
          "base_uri": "https://localhost:8080/"
        }
      },
      "outputs": [
        {
          "output_type": "stream",
          "name": "stdout",
          "text": [
            "Writing user_data.csv\n"
          ]
        }
      ],
      "source": [
        "#user_data\n",
        "%%writefile user_data.csv\n",
        "user_id,series,season,timestamp,genre,duration_mins\n",
        "521,”Mirzapur”,3,2024-07-30 15:00:00,action,300\n",
        "672,”Panchayat”,3,2024-07-30 15:00:00,comedy,200\n",
        "197,”Family Man”,2,2024-07-30 15:00:00,action,500\n",
        "521,”Mirzapur”,2,2024-07-29 15:00:00,action,280\n",
        "211,”Queens Gambit”,1,2024-07-30 15:00:00,drama,170\n",
        "521,”Mirzapur”,1,2024-07-28 15:00:00,action,230\n",
        "844,”Westworld”,3,2024-07-30 15:00:00,sci-fi,310\n",
        "672,”Panchayat”,3,2024-07-29 15:00:00,comedy,210\n",
        "256,”Homecoming”,2,2024-07-30 15:00:00,thriller,310\n",
        "489,”Outer Range”,1,2024-07-30 15:00:00,sci-fi,340\n",
        "200,”Black Mirror”,2,2024-07-30 15:00:00,sci-fi,140\n",
        "256,”Outer Range”,2,2024-07-30 15:00:00,thriller,250\n",
        "489,”Outer Range”,2,2024-07-28 15:00:00,sci-fi,170\n",
        "200,”Black Mirror”,3,2024-07-29 15:00:00,sci-fi,190\n",
        "672,”Panchayat”,2,2024-07-28 15:00:00,comedy,160\n",
        "672,”Outer Range”,1,2024-07-25 15:00:00,sci-fi,250\n",
        "200,”Black Mirror”,4,2024-07-28 15:00:00,sci-fi,200\n",
        "844,”Westworld”,2,2024-07-29 15:00:00,sci-fi,300\n",
        "672,”Black Mirror”,5,2024-07-28 15:00:00,sci-fi,150\n",
        "672,”Panchayat”,1,2024-07-27 15:00:00,comedy,190"
      ]
    },
    {
      "cell_type": "code",
      "source": [
        "#Import Libraries\n",
        "!pip install pyspark\n",
        "from pyspark.sql import SparkSession\n",
        "from pyspark.sql.functions import *\n",
        "from pyspark.sql.types import *"
      ],
      "metadata": {
        "id": "GLxzpwaSIJRA",
        "outputId": "1d897862-cf92-4d88-ec9e-41466701fdd0",
        "colab": {
          "base_uri": "https://localhost:8080/"
        }
      },
      "execution_count": 2,
      "outputs": [
        {
          "output_type": "stream",
          "name": "stdout",
          "text": [
            "Collecting pyspark\n",
            "  Downloading pyspark-3.5.1.tar.gz (317.0 MB)\n",
            "\u001b[2K     \u001b[90m━━━━━━━━━━━━━━━━━━━━━━━━━━━━━━━━━━━━━━━━\u001b[0m \u001b[32m317.0/317.0 MB\u001b[0m \u001b[31m1.5 MB/s\u001b[0m eta \u001b[36m0:00:00\u001b[0m\n",
            "\u001b[?25h  Preparing metadata (setup.py) ... \u001b[?25l\u001b[?25hdone\n",
            "Requirement already satisfied: py4j==0.10.9.7 in /usr/local/lib/python3.10/dist-packages (from pyspark) (0.10.9.7)\n",
            "Building wheels for collected packages: pyspark\n",
            "  Building wheel for pyspark (setup.py) ... \u001b[?25l\u001b[?25hdone\n",
            "  Created wheel for pyspark: filename=pyspark-3.5.1-py2.py3-none-any.whl size=317488490 sha256=7bf4f7b721638b8fa7a909fae86ddd37e6d09145c08ecceeef467904e666bd86\n",
            "  Stored in directory: /root/.cache/pip/wheels/80/1d/60/2c256ed38dddce2fdd93be545214a63e02fbd8d74fb0b7f3a6\n",
            "Successfully built pyspark\n",
            "Installing collected packages: pyspark\n",
            "Successfully installed pyspark-3.5.1\n"
          ]
        }
      ]
    },
    {
      "cell_type": "code",
      "source": [
        "#Create SparkSession for app (Streaming Analysis)\n",
        "spark=SparkSession.builder.appName('data').getOrCreate()"
      ],
      "metadata": {
        "id": "YChMWo_nIJTq"
      },
      "execution_count": 3,
      "outputs": []
    },
    {
      "cell_type": "code",
      "source": [
        "#Create Dataframe series_df\n",
        "df=spark.read.option('header',True).csv('/content/user_data.csv')"
      ],
      "metadata": {
        "id": "gljhEO_IIJXB"
      },
      "execution_count": 9,
      "outputs": []
    },
    {
      "cell_type": "code",
      "source": [
        "df.show()"
      ],
      "metadata": {
        "id": "6m1rrUHc7nnX",
        "outputId": "f5f073da-8f2b-4470-b081-7ff93a90c16e",
        "colab": {
          "base_uri": "https://localhost:8080/"
        }
      },
      "execution_count": 27,
      "outputs": [
        {
          "output_type": "stream",
          "name": "stdout",
          "text": [
            "+-------+---------------+------+-------------------+--------+-------------+\n",
            "|user_id|         series|season|          timestamp|   genre|duration_mins|\n",
            "+-------+---------------+------+-------------------+--------+-------------+\n",
            "|    521|     ”Mirzapur”|     3|2024-07-30 15:00:00|  action|          300|\n",
            "|    672|    ”Panchayat”|     3|2024-07-30 15:00:00|  comedy|          200|\n",
            "|    197|   ”Family Man”|     2|2024-07-30 15:00:00|  action|          500|\n",
            "|    521|     ”Mirzapur”|     2|2024-07-29 15:00:00|  action|          280|\n",
            "|    211|”Queens Gambit”|     1|2024-07-30 15:00:00|   drama|          170|\n",
            "|    521|     ”Mirzapur”|     1|2024-07-28 15:00:00|  action|          230|\n",
            "|    844|    ”Westworld”|     3|2024-07-30 15:00:00|  sci-fi|          310|\n",
            "|    672|    ”Panchayat”|     3|2024-07-29 15:00:00|  comedy|          210|\n",
            "|    256|   ”Homecoming”|     2|2024-07-30 15:00:00|thriller|          310|\n",
            "|    489|  ”Outer Range”|     1|2024-07-30 15:00:00|  sci-fi|          340|\n",
            "|    200| ”Black Mirror”|     2|2024-07-30 15:00:00|  sci-fi|          140|\n",
            "|    256|  ”Outer Range”|     2|2024-07-30 15:00:00|thriller|          250|\n",
            "|    489|  ”Outer Range”|     2|2024-07-28 15:00:00|  sci-fi|          170|\n",
            "|    200| ”Black Mirror”|     3|2024-07-29 15:00:00|  sci-fi|          190|\n",
            "|    672|    ”Panchayat”|     2|2024-07-28 15:00:00|  comedy|          160|\n",
            "|    672|  ”Outer Range”|     1|2024-07-25 15:00:00|  sci-fi|          250|\n",
            "|    200| ”Black Mirror”|     4|2024-07-28 15:00:00|  sci-fi|          200|\n",
            "|    844|    ”Westworld”|     2|2024-07-29 15:00:00|  sci-fi|          300|\n",
            "|    672| ”Black Mirror”|     5|2024-07-28 15:00:00|  sci-fi|          150|\n",
            "|    672|    ”Panchayat”|     1|2024-07-27 15:00:00|  comedy|          190|\n",
            "+-------+---------------+------+-------------------+--------+-------------+\n",
            "\n"
          ]
        }
      ]
    },
    {
      "cell_type": "code",
      "source": [
        "#Find the user with maximum watchtime\n",
        "arr1=df.groupBy('user_id').agg({'duration_mins':'sum'}).orderBy('sum(duration_mins)',ascending=False).show()"
      ],
      "metadata": {
        "id": "ddoznJiZIJZI",
        "outputId": "4d78c54f-1389-466a-af3c-d8db31515315",
        "colab": {
          "base_uri": "https://localhost:8080/"
        }
      },
      "execution_count": 21,
      "outputs": [
        {
          "output_type": "stream",
          "name": "stdout",
          "text": [
            "+-------+------------------+\n",
            "|user_id|sum(duration_mins)|\n",
            "+-------+------------------+\n",
            "|    672|            1160.0|\n",
            "|    521|             810.0|\n",
            "|    844|             610.0|\n",
            "|    256|             560.0|\n",
            "|    200|             530.0|\n",
            "|    489|             510.0|\n",
            "|    197|             500.0|\n",
            "|    211|             170.0|\n",
            "+-------+------------------+\n",
            "\n"
          ]
        }
      ]
    },
    {
      "cell_type": "code",
      "source": [
        "#Calculate overall total Watchtime\n",
        "arr2=df.groupBy('user_id').agg(sum('duration_mins')).show()"
      ],
      "metadata": {
        "id": "KCpeY-cyynpN",
        "outputId": "055be46b-98c9-4d8f-8e2e-e747556d6352",
        "colab": {
          "base_uri": "https://localhost:8080/"
        }
      },
      "execution_count": 17,
      "outputs": [
        {
          "output_type": "stream",
          "name": "stdout",
          "text": [
            "+-------+------------------+\n",
            "|user_id|sum(duration_mins)|\n",
            "+-------+------------------+\n",
            "|    521|             810.0|\n",
            "|    200|             530.0|\n",
            "|    672|            1160.0|\n",
            "|    256|             560.0|\n",
            "|    197|             500.0|\n",
            "|    211|             170.0|\n",
            "|    844|             610.0|\n",
            "|    489|             510.0|\n",
            "+-------+------------------+\n",
            "\n"
          ]
        }
      ]
    },
    {
      "cell_type": "code",
      "source": [
        "#Find most popular shows (based on watchtime)\n",
        "arr3=df.groupBy('series','genre').agg({'duration_mins':'sum'}).orderBy('sum(duration_mins)',ascending=False).show()"
      ],
      "metadata": {
        "id": "SMnElt2ZIJbJ",
        "outputId": "b3501e29-e584-47e7-fbdf-339328e726f1",
        "colab": {
          "base_uri": "https://localhost:8080/"
        }
      },
      "execution_count": 26,
      "outputs": [
        {
          "output_type": "stream",
          "name": "stdout",
          "text": [
            "+---------------+--------+------------------+\n",
            "|         series|   genre|sum(duration_mins)|\n",
            "+---------------+--------+------------------+\n",
            "|     ”Mirzapur”|  action|             810.0|\n",
            "|  ”Outer Range”|  sci-fi|             760.0|\n",
            "|    ”Panchayat”|  comedy|             760.0|\n",
            "| ”Black Mirror”|  sci-fi|             680.0|\n",
            "|    ”Westworld”|  sci-fi|             610.0|\n",
            "|   ”Family Man”|  action|             500.0|\n",
            "|   ”Homecoming”|thriller|             310.0|\n",
            "|  ”Outer Range”|thriller|             250.0|\n",
            "|”Queens Gambit”|   drama|             170.0|\n",
            "+---------------+--------+------------------+\n",
            "\n"
          ]
        }
      ]
    },
    {
      "cell_type": "code",
      "source": [
        "#Find most popular shows (based on user popularity)\n",
        "arr4=df.groupBy('series').agg(count('user_id')).orderBy('count(user_id)',ascending=False).show()"
      ],
      "metadata": {
        "id": "-W2oNioNIJem",
        "outputId": "fa5b5f3c-71c4-4a8a-9c2b-fe9c54889b79",
        "colab": {
          "base_uri": "https://localhost:8080/"
        }
      },
      "execution_count": 32,
      "outputs": [
        {
          "output_type": "stream",
          "name": "stdout",
          "text": [
            "+---------------+--------------+\n",
            "|         series|count(user_id)|\n",
            "+---------------+--------------+\n",
            "|    ”Panchayat”|             4|\n",
            "|  ”Outer Range”|             4|\n",
            "| ”Black Mirror”|             4|\n",
            "|     ”Mirzapur”|             3|\n",
            "|    ”Westworld”|             2|\n",
            "|   ”Family Man”|             1|\n",
            "|   ”Homecoming”|             1|\n",
            "|”Queens Gambit”|             1|\n",
            "+---------------+--------------+\n",
            "\n"
          ]
        }
      ]
    },
    {
      "cell_type": "code",
      "source": [
        "#Find the most popular genre\n",
        "arr5=df.groupBy('genre').agg(count('genre')).orderBy('count(genre)',ascending=False).show()"
      ],
      "metadata": {
        "id": "Z-RpLlNFIJgk",
        "outputId": "b1e9dc37-a408-43a2-90fc-ddb08444d08b",
        "colab": {
          "base_uri": "https://localhost:8080/"
        }
      },
      "execution_count": 34,
      "outputs": [
        {
          "output_type": "stream",
          "name": "stdout",
          "text": [
            "+--------+------------+\n",
            "|   genre|count(genre)|\n",
            "+--------+------------+\n",
            "|  sci-fi|           9|\n",
            "|  action|           4|\n",
            "|  comedy|           4|\n",
            "|thriller|           2|\n",
            "|   drama|           1|\n",
            "+--------+------------+\n",
            "\n"
          ]
        }
      ]
    },
    {
      "cell_type": "code",
      "source": [
        "#Calculate total watchtime per user\n",
        "arr6=df.groupBy('user_id').agg({'duration_mins':'sum'}).show()"
      ],
      "metadata": {
        "id": "vm_-_AUWIJis",
        "outputId": "98943b67-b9f9-4088-b799-340b78d8679a",
        "colab": {
          "base_uri": "https://localhost:8080/"
        }
      },
      "execution_count": 36,
      "outputs": [
        {
          "output_type": "stream",
          "name": "stdout",
          "text": [
            "+-------+------------------+\n",
            "|user_id|sum(duration_mins)|\n",
            "+-------+------------------+\n",
            "|    521|             810.0|\n",
            "|    200|             530.0|\n",
            "|    672|            1160.0|\n",
            "|    256|             560.0|\n",
            "|    197|             500.0|\n",
            "|    211|             170.0|\n",
            "|    844|             610.0|\n",
            "|    489|             510.0|\n",
            "+-------+------------------+\n",
            "\n"
          ]
        }
      ]
    },
    {
      "cell_type": "code",
      "source": [
        "#Find most popular genre (based on engagement count)\n",
        "arr7=df.groupBy('genre').agg(count('duration_mins')).orderBy('count(duration_mins)',ascending=False).show(1)"
      ],
      "metadata": {
        "id": "l-DuDyiOIJlG",
        "outputId": "7d50a1c5-c954-40bc-fa6f-3f1a6989e9b9",
        "colab": {
          "base_uri": "https://localhost:8080/"
        }
      },
      "execution_count": 40,
      "outputs": [
        {
          "output_type": "stream",
          "name": "stdout",
          "text": [
            "+------+--------------------+\n",
            "| genre|count(duration_mins)|\n",
            "+------+--------------------+\n",
            "|sci-fi|                   9|\n",
            "+------+--------------------+\n",
            "only showing top 1 row\n",
            "\n"
          ]
        }
      ]
    },
    {
      "cell_type": "code",
      "source": [
        "arr7=df.groupBy('genre').agg(count('genre')).show()"
      ],
      "metadata": {
        "id": "B2dXuw8IEl_f",
        "outputId": "041d1a03-feaa-4bfd-bd34-dff1ea47bd97",
        "colab": {
          "base_uri": "https://localhost:8080/"
        }
      },
      "execution_count": 38,
      "outputs": [
        {
          "output_type": "stream",
          "name": "stdout",
          "text": [
            "+--------+------------+\n",
            "|   genre|count(genre)|\n",
            "+--------+------------+\n",
            "|  action|           4|\n",
            "|   drama|           1|\n",
            "|thriller|           2|\n",
            "|  sci-fi|           9|\n",
            "|  comedy|           4|\n",
            "+--------+------------+\n",
            "\n"
          ]
        }
      ]
    },
    {
      "cell_type": "code",
      "source": [
        "#Find average watchtime per genre\n",
        "arr8=df.groupBy('genre').agg({'duration_mins':'avg'}).show()"
      ],
      "metadata": {
        "id": "yFFZh-NFIJnQ",
        "outputId": "0c14b7ba-6e32-4dc2-db4c-045e76f5880c",
        "colab": {
          "base_uri": "https://localhost:8080/"
        }
      },
      "execution_count": 41,
      "outputs": [
        {
          "output_type": "stream",
          "name": "stdout",
          "text": [
            "+--------+------------------+\n",
            "|   genre|avg(duration_mins)|\n",
            "+--------+------------------+\n",
            "|  action|             327.5|\n",
            "|   drama|             170.0|\n",
            "|thriller|             280.0|\n",
            "|  sci-fi|227.77777777777777|\n",
            "|  comedy|             190.0|\n",
            "+--------+------------------+\n",
            "\n"
          ]
        }
      ]
    },
    {
      "cell_type": "code",
      "source": [
        "df.show()"
      ],
      "metadata": {
        "id": "nvuQLbXtGkU0",
        "outputId": "b7165d7a-c4ae-4038-c34d-d6a448081648",
        "colab": {
          "base_uri": "https://localhost:8080/"
        }
      },
      "execution_count": 42,
      "outputs": [
        {
          "output_type": "stream",
          "name": "stdout",
          "text": [
            "+-------+---------------+------+-------------------+--------+-------------+\n",
            "|user_id|         series|season|          timestamp|   genre|duration_mins|\n",
            "+-------+---------------+------+-------------------+--------+-------------+\n",
            "|    521|     ”Mirzapur”|     3|2024-07-30 15:00:00|  action|          300|\n",
            "|    672|    ”Panchayat”|     3|2024-07-30 15:00:00|  comedy|          200|\n",
            "|    197|   ”Family Man”|     2|2024-07-30 15:00:00|  action|          500|\n",
            "|    521|     ”Mirzapur”|     2|2024-07-29 15:00:00|  action|          280|\n",
            "|    211|”Queens Gambit”|     1|2024-07-30 15:00:00|   drama|          170|\n",
            "|    521|     ”Mirzapur”|     1|2024-07-28 15:00:00|  action|          230|\n",
            "|    844|    ”Westworld”|     3|2024-07-30 15:00:00|  sci-fi|          310|\n",
            "|    672|    ”Panchayat”|     3|2024-07-29 15:00:00|  comedy|          210|\n",
            "|    256|   ”Homecoming”|     2|2024-07-30 15:00:00|thriller|          310|\n",
            "|    489|  ”Outer Range”|     1|2024-07-30 15:00:00|  sci-fi|          340|\n",
            "|    200| ”Black Mirror”|     2|2024-07-30 15:00:00|  sci-fi|          140|\n",
            "|    256|  ”Outer Range”|     2|2024-07-30 15:00:00|thriller|          250|\n",
            "|    489|  ”Outer Range”|     2|2024-07-28 15:00:00|  sci-fi|          170|\n",
            "|    200| ”Black Mirror”|     3|2024-07-29 15:00:00|  sci-fi|          190|\n",
            "|    672|    ”Panchayat”|     2|2024-07-28 15:00:00|  comedy|          160|\n",
            "|    672|  ”Outer Range”|     1|2024-07-25 15:00:00|  sci-fi|          250|\n",
            "|    200| ”Black Mirror”|     4|2024-07-28 15:00:00|  sci-fi|          200|\n",
            "|    844|    ”Westworld”|     2|2024-07-29 15:00:00|  sci-fi|          300|\n",
            "|    672| ”Black Mirror”|     5|2024-07-28 15:00:00|  sci-fi|          150|\n",
            "|    672|    ”Panchayat”|     1|2024-07-27 15:00:00|  comedy|          190|\n",
            "+-------+---------------+------+-------------------+--------+-------------+\n",
            "\n"
          ]
        }
      ]
    },
    {
      "cell_type": "code",
      "source": [
        "#Find peak traffic days\n",
        "#(Output 1 = Full Date)\n",
        "df.groupBy('timestamp').agg(count('timestamp')).collect()[0][0]"
      ],
      "metadata": {
        "id": "HzXnysiXIJpq",
        "outputId": "08345aaa-28d1-4427-fcbd-c91c88bfea26",
        "colab": {
          "base_uri": "https://localhost:8080/",
          "height": 36
        }
      },
      "execution_count": 50,
      "outputs": [
        {
          "output_type": "execute_result",
          "data": {
            "text/plain": [
              "'2024-07-25 15:00:00'"
            ],
            "application/vnd.google.colaboratory.intrinsic+json": {
              "type": "string"
            }
          },
          "metadata": {},
          "execution_count": 50
        }
      ]
    },
    {
      "cell_type": "code",
      "source": [
        "#(Output 2 = Only Day)\n",
        "\n",
        "df.groupBy(dayofmonth('timestamp')).agg(count('timestamp')).orderBy('count(timestamp)',ascending=False).collect()[0][0]"
      ],
      "metadata": {
        "id": "zJVGj4pMMEA_",
        "outputId": "865d549a-1ea6-40aa-fcbf-c786ba80e44b",
        "colab": {
          "base_uri": "https://localhost:8080/"
        }
      },
      "execution_count": 53,
      "outputs": [
        {
          "output_type": "execute_result",
          "data": {
            "text/plain": [
              "30"
            ]
          },
          "metadata": {},
          "execution_count": 53
        }
      ]
    },
    {
      "cell_type": "code",
      "source": [
        "#Find the user with most diverse show preference\n"
      ],
      "metadata": {
        "id": "yY7SlM8yIJsz"
      },
      "execution_count": null,
      "outputs": []
    },
    {
      "cell_type": "code",
      "source": [
        "#Find the binge-watchers\n"
      ],
      "metadata": {
        "id": "9UMeWCk-IJvK"
      },
      "execution_count": null,
      "outputs": []
    },
    {
      "cell_type": "code",
      "source": [
        "#Find the user with longest watching streak\n"
      ],
      "metadata": {
        "id": "14CBZwe2M3rZ"
      },
      "execution_count": null,
      "outputs": []
    },
    {
      "cell_type": "code",
      "source": [
        "#Total Seasons available\n"
      ],
      "metadata": {
        "id": "X0HCvFNbye9Y"
      },
      "execution_count": null,
      "outputs": []
    },
    {
      "cell_type": "code",
      "source": [
        "#Fetch a list of all series\n"
      ],
      "metadata": {
        "id": "weylH9PDM3uU"
      },
      "execution_count": null,
      "outputs": []
    }
  ]
}