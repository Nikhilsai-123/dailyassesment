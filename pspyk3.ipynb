{
  "nbformat": 4,
  "nbformat_minor": 0,
  "metadata": {
    "colab": {
      "provenance": [],
      "include_colab_link": true
    },
    "kernelspec": {
      "name": "python3",
      "display_name": "Python 3"
    },
    "language_info": {
      "name": "python"
    }
  },
  "cells": [
    {
      "cell_type": "markdown",
      "metadata": {
        "id": "view-in-github",
        "colab_type": "text"
      },
      "source": [
        "<a href=\"https://colab.research.google.com/github/Nikhilsai-123/dailyassesment/blob/main/pspyk3.ipynb\" target=\"_parent\"><img src=\"https://colab.research.google.com/assets/colab-badge.svg\" alt=\"Open In Colab\"/></a>"
      ]
    },
    {
      "cell_type": "markdown",
      "source": [
        "#PySpark Practice Notebook\n",
        "Experimenting further with Spark Dataframes"
      ],
      "metadata": {
        "id": "vyfMDH344XZy"
      }
    },
    {
      "cell_type": "code",
      "execution_count": null,
      "metadata": {
        "id": "oEO4Bljq4SDh"
      },
      "outputs": [],
      "source": [
        "#Create CSV files for the following Datasets\n",
        "\n",
        "patients\n",
        "patientId,firstName,lastName,age\n",
        "101,Alice,Smith,30\n",
        "102,Bob,Johnson,45\n",
        "103,Charlie,Williams,50\n",
        "104,John,Smith,78\n",
        "\n",
        "visits\n",
        "visitId,patientId,visitDuration\n",
        "1,101,15\n",
        "2,101,30\n",
        "3,102,45\n",
        "4,102,30\n",
        "5,104,20\n",
        "6,103,60\n",
        "7,103,50\n",
        "8,104,45\n",
        "9,,45\n",
        "10,101,30\n",
        "11,103,40\n",
        "12,,30\n",
        "13,104,25\n",
        "15,102,15"
      ]
    },
    {
      "cell_type": "code",
      "source": [
        "%%writefile patients.csv\n",
        "patientId,firstName,lastName,age\n",
        "101,Alice,Smith,30\n",
        "102,Bob,Johnson,45\n",
        "103,Charlie,Williams,50\n",
        "104,John,Smith,78"
      ],
      "metadata": {
        "id": "DsnbxhdZuEo8",
        "outputId": "00f31429-10d4-499f-a0f9-64a5b1bdd9ff",
        "colab": {
          "base_uri": "https://localhost:8080/"
        }
      },
      "execution_count": null,
      "outputs": [
        {
          "output_type": "stream",
          "name": "stdout",
          "text": [
            "Writing patients.csv\n"
          ]
        }
      ]
    },
    {
      "cell_type": "code",
      "source": [
        "%%writefile visits.csv\n",
        "visitId,patientId,visitDuration\n",
        "1,101,15\n",
        "2,101,30\n",
        "3,102,45\n",
        "4,102,30\n",
        "5,104,20\n",
        "6,103,60\n",
        "7,103,50\n",
        "8,104,45\n",
        "9,,45\n",
        "10,101,30\n",
        "11,103,40\n",
        "12,,30\n",
        "13,104,25\n",
        "15,102,15"
      ],
      "metadata": {
        "id": "8DyXXSvmuSeX",
        "outputId": "162c396b-fdaf-435c-a955-4c12de1b57dd",
        "colab": {
          "base_uri": "https://localhost:8080/"
        }
      },
      "execution_count": null,
      "outputs": [
        {
          "output_type": "stream",
          "name": "stdout",
          "text": [
            "Writing visits.csv\n"
          ]
        }
      ]
    },
    {
      "cell_type": "code",
      "source": [
        "#Import necessary spark libraries\n",
        "!pip install pyspark\n",
        "from pyspark.sql import SparkSession\n",
        "from pyspark.sql.types import *\n",
        "from pyspark.sql.functions import *\n"
      ],
      "metadata": {
        "id": "G2y2JZQY4XAi",
        "outputId": "26160464-7f9b-46ac-b75a-9aade98cfbd8",
        "colab": {
          "base_uri": "https://localhost:8080/"
        }
      },
      "execution_count": 44,
      "outputs": [
        {
          "output_type": "stream",
          "name": "stdout",
          "text": [
            "Requirement already satisfied: pyspark in /usr/local/lib/python3.10/dist-packages (3.5.1)\n",
            "Requirement already satisfied: py4j==0.10.9.7 in /usr/local/lib/python3.10/dist-packages (from pyspark) (0.10.9.7)\n"
          ]
        }
      ]
    },
    {
      "cell_type": "code",
      "source": [
        "%%writefile patients.csv\n",
        "patientId,firstName,lastName,age\n",
        "101,Alice,Smith,30\n",
        "102,Bob,Johnson,45\n",
        "103,Charlie,Williams,50\n",
        "104,John,Smith,78"
      ],
      "metadata": {
        "id": "Fk5qf2tLOBfv",
        "outputId": "92f7fb3a-0e05-4b16-ffae-10672789be92",
        "colab": {
          "base_uri": "https://localhost:8080/"
        }
      },
      "execution_count": 12,
      "outputs": [
        {
          "output_type": "stream",
          "name": "stdout",
          "text": [
            "Writing patients.csv\n"
          ]
        }
      ]
    },
    {
      "cell_type": "code",
      "source": [
        "%%writefile visits.csv\n",
        "visitId,patientId,visitDuration\n",
        "1,101,15\n",
        "2,101,30\n",
        "3,102,45\n",
        "4,102,30\n",
        "5,104,20\n",
        "6,103,60\n",
        "7,103,50\n",
        "8,104,45\n",
        "9,,45\n",
        "10,101,30\n",
        "11,103,40\n",
        "12,,30\n",
        "13,104,25\n",
        "15,102,15"
      ],
      "metadata": {
        "id": "9VH4ZahxOO5f",
        "outputId": "81a36962-d7d9-4921-f689-b97ff72185f0",
        "colab": {
          "base_uri": "https://localhost:8080/"
        }
      },
      "execution_count": 13,
      "outputs": [
        {
          "output_type": "stream",
          "name": "stdout",
          "text": [
            "Writing visits.csv\n"
          ]
        }
      ]
    },
    {
      "cell_type": "code",
      "source": [
        "#Create a SparkSession\n",
        "spark=SparkSession.builder.appName(\"SparkPractice\").getOrCreate()\n",
        "df=spark.read.option('header',True).csv('/content/patients.csv')\n",
        "df1=spark.read.option('header',True).csv('/content/visits.csv')"
      ],
      "metadata": {
        "id": "8Om-g7u26QQw"
      },
      "execution_count": 15,
      "outputs": []
    },
    {
      "cell_type": "code",
      "source": [
        "\n",
        "#Create dataframes from CSV files using enforced Schema\n",
        "patientSchema=StructType([\n",
        "    StructField('patientId',IntegerType(),True),\n",
        "    StructField('firstName',StringType(),True),\n",
        "    StructField('lastName',StringType(),True),\n",
        "    StructField('age',IntegerType(),True)\n",
        "])\n",
        "visitSchema=StructType([\n",
        "    StructField('visitId',IntegerType(),True),\n",
        "    StructField('patientId',IntegerType(),True),\n",
        "    StructField('visitDuration',IntegerType(),True)\n",
        "])\n",
        "#Schems Directive [Names as string, everything else as integers]\n",
        "df.show()\n",
        "df1.show()"
      ],
      "metadata": {
        "id": "VKkwIx3I6QOJ",
        "outputId": "3dfcc7d2-983c-4703-8968-74f532973658",
        "colab": {
          "base_uri": "https://localhost:8080/"
        }
      },
      "execution_count": 16,
      "outputs": [
        {
          "output_type": "stream",
          "name": "stdout",
          "text": [
            "+---------+---------+--------+---+\n",
            "|patientId|firstName|lastName|age|\n",
            "+---------+---------+--------+---+\n",
            "|      101|    Alice|   Smith| 30|\n",
            "|      102|      Bob| Johnson| 45|\n",
            "|      103|  Charlie|Williams| 50|\n",
            "|      104|     John|   Smith| 78|\n",
            "+---------+---------+--------+---+\n",
            "\n",
            "+-------+---------+-------------+\n",
            "|visitId|patientId|visitDuration|\n",
            "+-------+---------+-------------+\n",
            "|      1|      101|           15|\n",
            "|      2|      101|           30|\n",
            "|      3|      102|           45|\n",
            "|      4|      102|           30|\n",
            "|      5|      104|           20|\n",
            "|      6|      103|           60|\n",
            "|      7|      103|           50|\n",
            "|      8|      104|           45|\n",
            "|      9|     NULL|           45|\n",
            "|     10|      101|           30|\n",
            "|     11|      103|           40|\n",
            "|     12|     NULL|           30|\n",
            "|     13|      104|           25|\n",
            "|     15|      102|           15|\n",
            "+-------+---------+-------------+\n",
            "\n"
          ]
        }
      ]
    },
    {
      "cell_type": "code",
      "source": [
        "#Display all the valid visits\n",
        "df1.filter(df1['patientId']!='NULL').show()\n",
        "\n",
        "#Fetch the total number of valid visits\n",
        "df1.filter(df1['patientId']!='NULL').count()"
      ],
      "metadata": {
        "id": "B5Jx7nYN6QTo",
        "outputId": "c9a61fcd-7201-42fb-cdff-983131792e95",
        "colab": {
          "base_uri": "https://localhost:8080/"
        }
      },
      "execution_count": 22,
      "outputs": [
        {
          "output_type": "stream",
          "name": "stdout",
          "text": [
            "+-------+---------+-------------+\n",
            "|visitId|patientId|visitDuration|\n",
            "+-------+---------+-------------+\n",
            "|      1|      101|           15|\n",
            "|      2|      101|           30|\n",
            "|      3|      102|           45|\n",
            "|      4|      102|           30|\n",
            "|      5|      104|           20|\n",
            "|      6|      103|           60|\n",
            "|      7|      103|           50|\n",
            "|      8|      104|           45|\n",
            "|     10|      101|           30|\n",
            "|     11|      103|           40|\n",
            "|     13|      104|           25|\n",
            "|     15|      102|           15|\n",
            "+-------+---------+-------------+\n",
            "\n"
          ]
        },
        {
          "output_type": "execute_result",
          "data": {
            "text/plain": [
              "12"
            ]
          },
          "metadata": {},
          "execution_count": 22
        }
      ]
    },
    {
      "cell_type": "code",
      "source": [
        "#Get the total hours of patient visit\n",
        "x=df1.filter(df1['patientId']!='NULL')\n",
        "x.groupBy('patientId').agg({'visitDuration':'sum'}).show()"
      ],
      "metadata": {
        "id": "kI7EdZZR6QV0",
        "outputId": "ef6d5aa2-4580-4cb4-aa0a-7c4bfd09eeb9",
        "colab": {
          "base_uri": "https://localhost:8080/"
        }
      },
      "execution_count": 40,
      "outputs": [
        {
          "output_type": "stream",
          "name": "stdout",
          "text": [
            "+---------+------------------+\n",
            "|patientId|sum(visitDuration)|\n",
            "+---------+------------------+\n",
            "|      101|              75.0|\n",
            "|      104|              90.0|\n",
            "|      102|              90.0|\n",
            "|      103|             150.0|\n",
            "+---------+------------------+\n",
            "\n"
          ]
        }
      ]
    },
    {
      "cell_type": "code",
      "source": [
        "#Fetch the top two most visited patients on the basis of occurances\n",
        "pv=df.join(df1,'patientId')\n",
        "pv.groupBy('patientId','firstName').count().orderBy('count',ascending=False).show()"
      ],
      "metadata": {
        "id": "dLrXfV1f6QYT",
        "outputId": "9efe2d22-4917-4945-d947-b11a696777a7",
        "colab": {
          "base_uri": "https://localhost:8080/"
        }
      },
      "execution_count": 42,
      "outputs": [
        {
          "output_type": "stream",
          "name": "stdout",
          "text": [
            "+---------+---------+-----+\n",
            "|patientId|firstName|count|\n",
            "+---------+---------+-----+\n",
            "|      102|      Bob|    3|\n",
            "|      103|  Charlie|    3|\n",
            "|      101|    Alice|    3|\n",
            "|      104|     John|    3|\n",
            "+---------+---------+-----+\n",
            "\n"
          ]
        }
      ]
    },
    {
      "cell_type": "code",
      "source": [
        "#Add a new column patientFullName & display complete dataframe\n",
        "pv.withColumn('patientFullName',concat(col('firstName'),col('lastName'))).show()"
      ],
      "metadata": {
        "id": "T4M1XTw56Qat",
        "outputId": "1fb2a474-943f-4bd0-f2f8-fb04f929404c",
        "colab": {
          "base_uri": "https://localhost:8080/"
        }
      },
      "execution_count": 46,
      "outputs": [
        {
          "output_type": "stream",
          "name": "stdout",
          "text": [
            "+---------+---------+--------+---+-------+-------------+---------------+\n",
            "|patientId|firstName|lastName|age|visitId|visitDuration|patientFullName|\n",
            "+---------+---------+--------+---+-------+-------------+---------------+\n",
            "|      101|    Alice|   Smith| 30|      1|           15|     AliceSmith|\n",
            "|      101|    Alice|   Smith| 30|      2|           30|     AliceSmith|\n",
            "|      102|      Bob| Johnson| 45|      3|           45|     BobJohnson|\n",
            "|      102|      Bob| Johnson| 45|      4|           30|     BobJohnson|\n",
            "|      104|     John|   Smith| 78|      5|           20|      JohnSmith|\n",
            "|      103|  Charlie|Williams| 50|      6|           60|CharlieWilliams|\n",
            "|      103|  Charlie|Williams| 50|      7|           50|CharlieWilliams|\n",
            "|      104|     John|   Smith| 78|      8|           45|      JohnSmith|\n",
            "|      101|    Alice|   Smith| 30|     10|           30|     AliceSmith|\n",
            "|      103|  Charlie|Williams| 50|     11|           40|CharlieWilliams|\n",
            "|      104|     John|   Smith| 78|     13|           25|      JohnSmith|\n",
            "|      102|      Bob| Johnson| 45|     15|           15|     BobJohnson|\n",
            "+---------+---------+--------+---+-------+-------------+---------------+\n",
            "\n"
          ]
        }
      ]
    },
    {
      "cell_type": "code",
      "source": [
        "#Display the name of patients with maximum visiting hours\n",
        "maxvisit=pv.groupBy('patientId','firstName','lastName','age').agg({'visitDuration':'sum'})\n",
        "maxvisit.orderBy('sum(visitDuration)',ascending=False).show(1)\n"
      ],
      "metadata": {
        "id": "Ecq6DnjA6QdB",
        "outputId": "d7419feb-4310-41a9-b6c8-18c7d101733f",
        "colab": {
          "base_uri": "https://localhost:8080/"
        }
      },
      "execution_count": 53,
      "outputs": [
        {
          "output_type": "stream",
          "name": "stdout",
          "text": [
            "+---------+---------+--------+---+------------------+\n",
            "|patientId|firstName|lastName|age|sum(visitDuration)|\n",
            "+---------+---------+--------+---+------------------+\n",
            "|      103|  Charlie|Williams| 50|             150.0|\n",
            "+---------+---------+--------+---+------------------+\n",
            "only showing top 1 row\n",
            "\n"
          ]
        }
      ]
    },
    {
      "cell_type": "code",
      "source": [
        "#Find the patient with maximum visiting hours in a single visit\n",
        "pv.orderBy('visitDuration',ascending=False).show(1)"
      ],
      "metadata": {
        "id": "TSqXIP_i6QfX",
        "outputId": "de2b7e62-cb75-4b5e-faa3-7fce538a5c43",
        "colab": {
          "base_uri": "https://localhost:8080/"
        }
      },
      "execution_count": 54,
      "outputs": [
        {
          "output_type": "stream",
          "name": "stdout",
          "text": [
            "+---------+---------+--------+---+-------+-------------+\n",
            "|patientId|firstName|lastName|age|visitId|visitDuration|\n",
            "+---------+---------+--------+---+-------+-------------+\n",
            "|      103|  Charlie|Williams| 50|      6|           60|\n",
            "+---------+---------+--------+---+-------+-------------+\n",
            "only showing top 1 row\n",
            "\n"
          ]
        }
      ]
    },
    {
      "cell_type": "code",
      "source": [
        "#Show the patient info according to age-seniority\n",
        "pv.orderBy('age',ascending=False).show()"
      ],
      "metadata": {
        "id": "Arpnz5O36Qhu",
        "outputId": "c23c12f6-d593-46b3-f671-2e6c93f12bf5",
        "colab": {
          "base_uri": "https://localhost:8080/"
        }
      },
      "execution_count": 55,
      "outputs": [
        {
          "output_type": "stream",
          "name": "stdout",
          "text": [
            "+---------+---------+--------+---+-------+-------------+\n",
            "|patientId|firstName|lastName|age|visitId|visitDuration|\n",
            "+---------+---------+--------+---+-------+-------------+\n",
            "|      104|     John|   Smith| 78|      5|           20|\n",
            "|      104|     John|   Smith| 78|      8|           45|\n",
            "|      104|     John|   Smith| 78|     13|           25|\n",
            "|      103|  Charlie|Williams| 50|      6|           60|\n",
            "|      103|  Charlie|Williams| 50|      7|           50|\n",
            "|      103|  Charlie|Williams| 50|     11|           40|\n",
            "|      102|      Bob| Johnson| 45|      3|           45|\n",
            "|      102|      Bob| Johnson| 45|      4|           30|\n",
            "|      102|      Bob| Johnson| 45|     15|           15|\n",
            "|      101|    Alice|   Smith| 30|      1|           15|\n",
            "|      101|    Alice|   Smith| 30|      2|           30|\n",
            "|      101|    Alice|   Smith| 30|     10|           30|\n",
            "+---------+---------+--------+---+-------+-------------+\n",
            "\n"
          ]
        }
      ]
    },
    {
      "cell_type": "code",
      "source": [],
      "metadata": {
        "id": "J80fKW3fWdgP"
      },
      "execution_count": null,
      "outputs": []
    }
  ]
}