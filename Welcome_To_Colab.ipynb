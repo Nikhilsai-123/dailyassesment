{
  "cells": [
    {
      "cell_type": "markdown",
      "metadata": {
        "id": "view-in-github",
        "colab_type": "text"
      },
      "source": [
        "<a href=\"https://colab.research.google.com/github/Nikhilsai-123/dailyassesment/blob/main/Welcome_To_Colab.ipynb\" target=\"_parent\"><img src=\"https://colab.research.google.com/assets/colab-badge.svg\" alt=\"Open In Colab\"/></a>"
      ]
    },
    {
      "cell_type": "code",
      "source": [],
      "metadata": {
        "id": "iQmM8x5BND8g"
      },
      "execution_count": null,
      "outputs": []
    },
    {
      "cell_type": "code",
      "source": [],
      "metadata": {
        "id": "J7sVU_SbND_F"
      },
      "execution_count": null,
      "outputs": []
    },
    {
      "cell_type": "code",
      "source": [
        "movieId,movieName,year\n",
        "1,Parmanu,2018\n",
        "2,URI,2019\n",
        "3,rrr,2022\n",
        "4,Bahubali,2015\n",
        "5,tanhaji,2020\n",
        "reviews\n",
        "movieId,movieInfo,reviews\n",
        "1,,435\n",
        "2,,492\n",
        "3,,444\n",
        "4,,880\n",
        "5,,722\n",
        "6,,888\n",
        "7,,220\n",
        "8,,350\n",
        "9,,619\n",
        "10,,226"
      ],
      "metadata": {
        "id": "3C2RzqC4NEBq"
      },
      "execution_count": null,
      "outputs": []
    },
    {
      "cell_type": "code",
      "source": [
        "%%writefile movies.csv\n",
        "movieId,movieName,year\n",
        "1,Parmanu,2018\n",
        "2,URI,2019\n",
        "3,rrr,2022\n",
        "4,Bahubali,2015\n",
        "5,tanhaji,2020"
      ],
      "metadata": {
        "id": "Gt-Fl1v0NEEB",
        "outputId": "ff631468-99f1-4f0c-de6b-239056a7e7be",
        "colab": {
          "base_uri": "https://localhost:8080/"
        }
      },
      "execution_count": 1,
      "outputs": [
        {
          "output_type": "stream",
          "name": "stdout",
          "text": [
            "Writing movies.csv\n"
          ]
        }
      ]
    },
    {
      "cell_type": "code",
      "source": [],
      "metadata": {
        "id": "dewPuPU3NEGV"
      },
      "execution_count": null,
      "outputs": []
    },
    {
      "cell_type": "code",
      "source": [],
      "metadata": {
        "id": "f6se2-QrNEIw"
      },
      "execution_count": null,
      "outputs": []
    },
    {
      "cell_type": "code",
      "source": [],
      "metadata": {
        "id": "L6lDq65TNEKH"
      },
      "execution_count": null,
      "outputs": []
    },
    {
      "cell_type": "code",
      "source": [],
      "metadata": {
        "id": "O495SdkKNEMS"
      },
      "execution_count": null,
      "outputs": []
    },
    {
      "cell_type": "code",
      "source": [],
      "metadata": {
        "id": "vgS6lSmcNEOy"
      },
      "execution_count": null,
      "outputs": []
    },
    {
      "cell_type": "code",
      "source": [],
      "metadata": {
        "id": "aILFga9PNERP"
      },
      "execution_count": null,
      "outputs": []
    }
  ],
  "metadata": {
    "colab": {
      "name": "Welcome To Colab",
      "provenance": [],
      "include_colab_link": true
    },
    "kernelspec": {
      "display_name": "Python 3",
      "name": "python3"
    }
  },
  "nbformat": 4,
  "nbformat_minor": 0
}