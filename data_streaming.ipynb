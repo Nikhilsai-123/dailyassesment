{
  "cells": [
    {
      "cell_type": "markdown",
      "metadata": {
        "id": "view-in-github",
        "colab_type": "text"
      },
      "source": [
        "<a href=\"https://colab.research.google.com/github/Nikhilsai-123/dailyassesment/blob/main/data_streaming.ipynb\" target=\"_parent\"><img src=\"https://colab.research.google.com/assets/colab-badge.svg\" alt=\"Open In Colab\"/></a>"
      ]
    },
    {
      "cell_type": "code",
      "source": [],
      "metadata": {
        "id": "iQmM8x5BND8g"
      },
      "execution_count": null,
      "outputs": []
    },
    {
      "cell_type": "code",
      "source": [],
      "metadata": {
        "id": "J7sVU_SbND_F"
      },
      "execution_count": null,
      "outputs": []
    },
    {
      "cell_type": "code",
      "source": [
        "movieId,movieName,year\n",
        "1,Parmanu,2018\n",
        "2,URI,2019\n",
        "3,rrr,2022\n",
        "4,Bahubali,2015\n",
        "5,tanhaji,2020\n",
        "reviews\n",
        "movieId,movieInfo,reviews\n",
        "1,,435\n",
        "2,,492\n",
        "3,,444\n",
        "4,,880\n",
        "5,,722\n",
        "6,,888\n",
        "7,,220\n",
        "8,,350\n",
        "9,,619\n",
        "10,,226"
      ],
      "metadata": {
        "id": "3C2RzqC4NEBq"
      },
      "execution_count": null,
      "outputs": []
    },
    {
      "cell_type": "code",
      "source": [
        "%%writefile movies.csv\n",
        "movieId,movieName,year\n",
        "1,Parmanu,2018\n",
        "2,URI,2019\n",
        "3,rrr,2022\n",
        "4,Bahubali,2015\n",
        "5,tanhaji,2020"
      ],
      "metadata": {
        "colab": {
          "base_uri": "https://localhost:8080/"
        },
        "id": "Gt-Fl1v0NEEB",
        "outputId": "ff631468-99f1-4f0c-de6b-239056a7e7be"
      },
      "execution_count": 1,
      "outputs": [
        {
          "output_type": "stream",
          "name": "stdout",
          "text": [
            "Writing movies.csv\n"
          ]
        }
      ]
    },
    {
      "cell_type": "code",
      "source": [
        "%%writefile reviews.csv\n",
        "movieId,movieInfo,reviews\n",
        "1,,435\n",
        "2,,492\n",
        "3,,444\n",
        "4,,880\n",
        "5,,722\n",
        "6,,888\n",
        "7,,220\n",
        "8,,350\n",
        "9,,619\n",
        "10,,226"
      ],
      "metadata": {
        "colab": {
          "base_uri": "https://localhost:8080/"
        },
        "id": "dewPuPU3NEGV",
        "outputId": "c252e49e-b8d2-4818-9989-2bb2dcfa3771"
      },
      "execution_count": 2,
      "outputs": [
        {
          "output_type": "stream",
          "name": "stdout",
          "text": [
            "Writing reviews.csv\n"
          ]
        }
      ]
    },
    {
      "cell_type": "code",
      "source": [
        "!pip install pyspark\n"
      ],
      "metadata": {
        "colab": {
          "base_uri": "https://localhost:8080/"
        },
        "id": "eJDNb77ZOFDF",
        "outputId": "49d5153f-5705-4a21-ad7f-a9b587ab16b8"
      },
      "execution_count": 3,
      "outputs": [
        {
          "output_type": "stream",
          "name": "stdout",
          "text": [
            "Collecting pyspark\n",
            "  Downloading pyspark-3.5.1.tar.gz (317.0 MB)\n",
            "\u001b[2K     \u001b[90m━━━━━━━━━━━━━━━━━━━━━━━━━━━━━━━━━━━━━━━━\u001b[0m \u001b[32m317.0/317.0 MB\u001b[0m \u001b[31m5.0 MB/s\u001b[0m eta \u001b[36m0:00:00\u001b[0m\n",
            "\u001b[?25h  Preparing metadata (setup.py) ... \u001b[?25l\u001b[?25hdone\n",
            "Requirement already satisfied: py4j==0.10.9.7 in /usr/local/lib/python3.10/dist-packages (from pyspark) (0.10.9.7)\n",
            "Building wheels for collected packages: pyspark\n",
            "  Building wheel for pyspark (setup.py) ... \u001b[?25l\u001b[?25hdone\n",
            "  Created wheel for pyspark: filename=pyspark-3.5.1-py2.py3-none-any.whl size=317488490 sha256=4dee3f80e48b98d176aff756afe2c77131923cdf3b6e71bb5d5e685505a43d84\n",
            "  Stored in directory: /root/.cache/pip/wheels/80/1d/60/2c256ed38dddce2fdd93be545214a63e02fbd8d74fb0b7f3a6\n",
            "Successfully built pyspark\n",
            "Installing collected packages: pyspark\n",
            "Successfully installed pyspark-3.5.1\n"
          ]
        }
      ]
    },
    {
      "cell_type": "code",
      "source": [
        "from pyspark.sql import SparkSession\n",
        "from pyspark.sql.functions import *\n",
        "from pyspark.sql.functions import concat,col,max,min,sum"
      ],
      "metadata": {
        "id": "puDt_p8sOKgg"
      },
      "execution_count": 26,
      "outputs": []
    },
    {
      "cell_type": "code",
      "source": [
        "spark=SparkSession.builder.appName('nikhil5').getOrCreate()"
      ],
      "metadata": {
        "id": "vyXygX8pOYIl"
      },
      "execution_count": 5,
      "outputs": []
    },
    {
      "cell_type": "code",
      "source": [
        "df=spark.read.option('header',True).csv('movies.csv')\n",
        "df1=spark.read.option('header',True).csv('reviews.csv')\n",
        "df.show()"
      ],
      "metadata": {
        "colab": {
          "base_uri": "https://localhost:8080/"
        },
        "id": "SJRL196cOYL9",
        "outputId": "dda81333-3e46-4244-844d-c961893c2aa7"
      },
      "execution_count": 56,
      "outputs": [
        {
          "output_type": "stream",
          "name": "stdout",
          "text": [
            "+-------+---------+----+\n",
            "|movieId|movieName|year|\n",
            "+-------+---------+----+\n",
            "|      1|  Parmanu|2018|\n",
            "|      2|      URI|2019|\n",
            "|      3|      rrr|2022|\n",
            "|      4| Bahubali|2015|\n",
            "|      5|  tanhaji|2020|\n",
            "+-------+---------+----+\n",
            "\n"
          ]
        }
      ]
    },
    {
      "cell_type": "code",
      "source": [
        "# 1.Clean reviews dataframe on the basis of movies data available. Hint - try left semi join, inner join, right join for joins\n",
        "# 2.  Fill movieInfo Column by concating movieName & year column (output should be dataframe).  Hint - try expr method\n",
        "# 3. Find movie with max reviews (output should be string)\n",
        "# 4. Find total reviews (output should be int)"
      ],
      "metadata": {
        "id": "f6se2-QrNEIw"
      },
      "execution_count": null,
      "outputs": []
    },
    {
      "cell_type": "code",
      "source": [
        "#1. Clean reviews dataframe on the basis of movies data available. Hint - try left semi join, inner join, right join for joins\n",
        "mv=df.join(df1,df.movieId==df1.movieId,'left')\n",
        "df.join(df1,df.movieId==df1.movieId,'inner').show()\n",
        "df.join(df1,df.movieId==df1.movieId,'right').show()"
      ],
      "metadata": {
        "colab": {
          "base_uri": "https://localhost:8080/"
        },
        "id": "L6lDq65TNEKH",
        "outputId": "b11adaaf-5668-43c6-f58c-c6eb0a101d30"
      },
      "execution_count": 30,
      "outputs": [
        {
          "output_type": "stream",
          "name": "stdout",
          "text": [
            "+-------+---------+----+-------+---------+-------+\n",
            "|movieId|movieName|year|movieId|movieInfo|reviews|\n",
            "+-------+---------+----+-------+---------+-------+\n",
            "|      1|  Parmanu|2018|      1|     NULL|    435|\n",
            "|      2|      URI|2019|      2|     NULL|    492|\n",
            "|      3|      rrr|2022|      3|     NULL|    444|\n",
            "|      4| Bahubali|2015|      4|     NULL|    880|\n",
            "|      5|  tanhaji|2020|      5|     NULL|    722|\n",
            "+-------+---------+----+-------+---------+-------+\n",
            "\n",
            "+-------+---------+----+-------+---------+-------+\n",
            "|movieId|movieName|year|movieId|movieInfo|reviews|\n",
            "+-------+---------+----+-------+---------+-------+\n",
            "|      1|  Parmanu|2018|      1|     NULL|    435|\n",
            "|      2|      URI|2019|      2|     NULL|    492|\n",
            "|      3|      rrr|2022|      3|     NULL|    444|\n",
            "|      4| Bahubali|2015|      4|     NULL|    880|\n",
            "|      5|  tanhaji|2020|      5|     NULL|    722|\n",
            "|   NULL|     NULL|NULL|      6|     NULL|    888|\n",
            "|   NULL|     NULL|NULL|      7|     NULL|    220|\n",
            "|   NULL|     NULL|NULL|      8|     NULL|    350|\n",
            "|   NULL|     NULL|NULL|      9|     NULL|    619|\n",
            "|   NULL|     NULL|NULL|     10|     NULL|    226|\n",
            "+-------+---------+----+-------+---------+-------+\n",
            "\n"
          ]
        }
      ]
    },
    {
      "cell_type": "code",
      "source": [
        "# 2.  Fill movieInfo Column by concating movieName & year column (output should be dataframe).  Hint - try expr method\n",
        "\n",
        "mv.withColumn('movieInfo',concat(col('movieName'),lit(' '),col('year'))).show()\n",
        "mv.withColumn('movieInfo',expr('concat(movieName,year)')).show()"
      ],
      "metadata": {
        "colab": {
          "base_uri": "https://localhost:8080/"
        },
        "id": "O495SdkKNEMS",
        "outputId": "f20777b0-0c85-4ade-82a6-7c0b41bee205"
      },
      "execution_count": 44,
      "outputs": [
        {
          "output_type": "stream",
          "name": "stdout",
          "text": [
            "+-------+---------+----+-------+-------------+-------+\n",
            "|movieId|movieName|year|movieId|    movieInfo|reviews|\n",
            "+-------+---------+----+-------+-------------+-------+\n",
            "|      1|  Parmanu|2018|      1| Parmanu 2018|    435|\n",
            "|      2|      URI|2019|      2|     URI 2019|    492|\n",
            "|      3|      rrr|2022|      3|     rrr 2022|    444|\n",
            "|      4| Bahubali|2015|      4|Bahubali 2015|    880|\n",
            "|      5|  tanhaji|2020|      5| tanhaji 2020|    722|\n",
            "+-------+---------+----+-------+-------------+-------+\n",
            "\n",
            "+-------+---------+----+-------+------------+-------+\n",
            "|movieId|movieName|year|movieId|   movieInfo|reviews|\n",
            "+-------+---------+----+-------+------------+-------+\n",
            "|      1|  Parmanu|2018|      1| Parmanu2018|    435|\n",
            "|      2|      URI|2019|      2|     URI2019|    492|\n",
            "|      3|      rrr|2022|      3|     rrr2022|    444|\n",
            "|      4| Bahubali|2015|      4|Bahubali2015|    880|\n",
            "|      5|  tanhaji|2020|      5| tanhaji2020|    722|\n",
            "+-------+---------+----+-------+------------+-------+\n",
            "\n"
          ]
        }
      ]
    },
    {
      "cell_type": "code",
      "source": [
        "# 3. Find movie with max reviews (output should be string)\n",
        "mv.select('movieName').orderBy('reviews',ascending=False).collect()[0][0]\n"
      ],
      "metadata": {
        "colab": {
          "base_uri": "https://localhost:8080/",
          "height": 35
        },
        "id": "vgS6lSmcNEOy",
        "outputId": "a5ca6bd6-e6d3-40e2-b439-2491ebaa14fd"
      },
      "execution_count": 51,
      "outputs": [
        {
          "output_type": "execute_result",
          "data": {
            "text/plain": [
              "'Bahubali'"
            ],
            "application/vnd.google.colaboratory.intrinsic+json": {
              "type": "string"
            }
          },
          "metadata": {},
          "execution_count": 51
        }
      ]
    },
    {
      "cell_type": "code",
      "source": [
        "# 4. Find total reviews (output should be int)\n",
        "df1.select(sum('reviews')).withColumnRenamed('sum(reviews)','count_reviews').collect()[0][0]"
      ],
      "metadata": {
        "colab": {
          "base_uri": "https://localhost:8080/"
        },
        "id": "aILFga9PNERP",
        "outputId": "f0f99ee3-b4cf-4f7e-f910-4c8e74f4b609"
      },
      "execution_count": 62,
      "outputs": [
        {
          "output_type": "execute_result",
          "data": {
            "text/plain": [
              "5276.0"
            ]
          },
          "metadata": {},
          "execution_count": 62
        }
      ]
    },
    {
      "cell_type": "code",
      "source": [],
      "metadata": {
        "id": "pza8j8hKZ0za"
      },
      "execution_count": null,
      "outputs": []
    }
  ],
  "metadata": {
    "colab": {
      "name": "Welcome To Colab",
      "provenance": [],
      "include_colab_link": true
    },
    "kernelspec": {
      "display_name": "Python 3",
      "name": "python3"
    }
  },
  "nbformat": 4,
  "nbformat_minor": 0
}