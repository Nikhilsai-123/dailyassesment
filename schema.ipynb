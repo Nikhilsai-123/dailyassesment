{
  "nbformat": 4,
  "nbformat_minor": 0,
  "metadata": {
    "colab": {
      "provenance": []
    },
    "kernelspec": {
      "name": "python3",
      "display_name": "Python 3"
    },
    "language_info": {
      "name": "python"
    }
  },
  "cells": [
    {
      "cell_type": "code",
      "source": [
        "pip install pyspark"
      ],
      "metadata": {
        "id": "IaBmMurj11bV",
        "outputId": "eaaee382-51dd-4854-f203-2ff1c449ef74",
        "colab": {
          "base_uri": "https://localhost:8080/"
        }
      },
      "execution_count": 2,
      "outputs": [
        {
          "output_type": "stream",
          "name": "stdout",
          "text": [
            "Requirement already satisfied: pyspark in /usr/local/lib/python3.10/dist-packages (3.5.1)\n",
            "Requirement already satisfied: py4j==0.10.9.7 in /usr/local/lib/python3.10/dist-packages (from pyspark) (0.10.9.7)\n"
          ]
        }
      ]
    },
    {
      "cell_type": "code",
      "source": [
        "from pyspark.sql import SparkSession\n",
        "from pyspark.sql.functions import *\n",
        "from pyspark.sql.types import *"
      ],
      "metadata": {
        "id": "jvVGAUZ67CUM"
      },
      "execution_count": 55,
      "outputs": []
    },
    {
      "cell_type": "code",
      "source": [
        "#Create saprksession as sqlcontext\n",
        "sqlcontext=SparkSession.builder.appName('nikhil').getOrCreate()"
      ],
      "metadata": {
        "id": "UB5hPjZmrXmZ"
      },
      "execution_count": 5,
      "outputs": []
    },
    {
      "cell_type": "code",
      "execution_count": 65,
      "metadata": {
        "id": "dDbLI06ErVUw",
        "outputId": "34a9d253-0801-4379-e7a2-2cdcccbf32a8",
        "colab": {
          "base_uri": "https://localhost:8080/",
          "height": 124
        }
      },
      "outputs": [
        {
          "output_type": "error",
          "ename": "SyntaxError",
          "evalue": "leading zeros in decimal integer literals are not permitted; use an 0o prefix for octal integers (<ipython-input-65-50c7f3d3ba62>, line 4)",
          "traceback": [
            "\u001b[0;36m  File \u001b[0;32m\"<ipython-input-65-50c7f3d3ba62>\"\u001b[0;36m, line \u001b[0;32m4\u001b[0m\n\u001b[0;31m    (502, \"fastandfurious\", 2022-03-12 11:15:00, \"missing cars\", \"negative\"),\u001b[0m\n\u001b[0m                                 ^\u001b[0m\n\u001b[0;31mSyntaxError\u001b[0m\u001b[0;31m:\u001b[0m leading zeros in decimal integer literals are not permitted; use an 0o prefix for octal integers\n"
          ]
        }
      ],
      "source": [
        "#Data\n",
        "\n",
        "data = [(501, \"starwars\", \"2010-10-12 10:30:00\", \"Cult!\", \"positive\"),\n",
        "           (502, \"fastandfurious\", \"2022-03-12 11:15:00\", \"missing cars\", \"negative\"),\n",
        "           (503, \"dune\", \"2024-01-12 12:00:00\", \"nice watch\", \"neutral\")]"
      ]
    },
    {
      "cell_type": "code",
      "source": [
        "schema=StructType([\n",
        "    StructField('userid',IntegerType(),True),\n",
        "    StructField('movieId',StringType(),True),\n",
        "    StructField('time',StringType(),True),\n",
        "    StructField('review',StringType(),True),\n",
        "    StructField('sentiment',StringType(),True)\n",
        "\n",
        "])\n",
        "arr=sqlcontext.createDataFrame(data,schema=schema).show()"
      ],
      "metadata": {
        "id": "gNZjQgosDnq-",
        "outputId": "da83f7c6-be64-4ed1-e378-ea21cc65e21e",
        "colab": {
          "base_uri": "https://localhost:8080/"
        }
      },
      "execution_count": 67,
      "outputs": [
        {
          "output_type": "stream",
          "name": "stdout",
          "text": [
            "+------+--------------+-------------------+------------+---------+\n",
            "|userid|       movieId|               time|      review|sentiment|\n",
            "+------+--------------+-------------------+------------+---------+\n",
            "|   501|      starwars|2010-10-12 10:30:00|       Cult!| positive|\n",
            "|   502|fastandfurious|2022-03-12 11:15:00|missing cars| negative|\n",
            "|   503|          dune|2024-01-12 12:00:00|  nice watch|  neutral|\n",
            "+------+--------------+-------------------+------------+---------+\n",
            "\n"
          ]
        }
      ]
    },
    {
      "cell_type": "markdown",
      "source": [],
      "metadata": {
        "id": "zjZEdIaTr4uw"
      }
    },
    {
      "cell_type": "code",
      "source": [
        "#Create dataframe\n",
        "#schema as [\"userid\", \"movieId\", \"time\", \"review\", \"sentiment\"]\n",
        "df=sqlcontext.createDataFrame(data,schema=[\"userid\", \"movieId\", \"time\", \"review\", \"sentiment\"])"
      ],
      "metadata": {
        "id": "e9Lbs2-XrXok"
      },
      "execution_count": 10,
      "outputs": []
    },
    {
      "cell_type": "code",
      "source": [
        "#Find entries with positive setiment\n",
        "\n",
        "df.filter(df.sentiment=='positive').show()"
      ],
      "metadata": {
        "id": "hFtDTYX5sBl_",
        "outputId": "b5a91337-1045-4801-d528-f2a9aced6888",
        "colab": {
          "base_uri": "https://localhost:8080/"
        }
      },
      "execution_count": 12,
      "outputs": [
        {
          "output_type": "stream",
          "name": "stdout",
          "text": [
            "+------+--------+-------------------+------+---------+\n",
            "|userid| movieId|               time|review|sentiment|\n",
            "+------+--------+-------------------+------+---------+\n",
            "|   501|starwars|2010-10-12 10:30:00| Cult!| positive|\n",
            "+------+--------+-------------------+------+---------+\n",
            "\n"
          ]
        }
      ]
    },
    {
      "cell_type": "code",
      "source": [
        "#Find aerage review length\n",
        "\n",
        "\n",
        "arr=df.withColumn('avg_length',length(col('review')))\n",
        "arr.agg({'avg_length':'avg'}).show()"
      ],
      "metadata": {
        "id": "V68RGUEnsBos",
        "outputId": "c7ec8343-ec97-4e95-ebe5-5dd5241f92c8",
        "colab": {
          "base_uri": "https://localhost:8080/"
        }
      },
      "execution_count": 25,
      "outputs": [
        {
          "output_type": "stream",
          "name": "stdout",
          "text": [
            "+---------------+\n",
            "|avg(avg_length)|\n",
            "+---------------+\n",
            "|            9.0|\n",
            "+---------------+\n",
            "\n"
          ]
        }
      ]
    },
    {
      "cell_type": "code",
      "source": [
        "#count sentiments per user\n",
        "\n",
        "arr1=df.groupBy('userid').agg({'sentiment':'count'}).show()"
      ],
      "metadata": {
        "id": "fszyx_BMsBrb",
        "outputId": "b9d5dccd-e192-4986-c19e-ed80c5248de7",
        "colab": {
          "base_uri": "https://localhost:8080/"
        }
      },
      "execution_count": 26,
      "outputs": [
        {
          "output_type": "stream",
          "name": "stdout",
          "text": [
            "+------+----------------+\n",
            "|userid|count(sentiment)|\n",
            "+------+----------------+\n",
            "|   501|               1|\n",
            "|   503|               1|\n",
            "|   502|               1|\n",
            "+------+----------------+\n",
            "\n"
          ]
        }
      ]
    },
    {
      "cell_type": "markdown",
      "source": [
        "Q2"
      ],
      "metadata": {
        "id": "N5NTqUsqsrSF"
      }
    },
    {
      "cell_type": "code",
      "source": [
        "#Data\n",
        "D1 = [(1, 'sample1', 100.0), (2, 'sample2', 2500.0), (3, 'sample3', 190.0)]"
      ],
      "metadata": {
        "id": "yLRoL0imssZr"
      },
      "execution_count": 27,
      "outputs": []
    },
    {
      "cell_type": "code",
      "source": [
        "#Data\n",
        "D2 = [(1, 509, 21, 200, 2000), (2, 510, 22, 50, 1000), (3, 511, 23, 100, 3000), (4, 512, 24, 100, 2000)]"
      ],
      "metadata": {
        "id": "b2XkwnZXsskN"
      },
      "execution_count": 50,
      "outputs": []
    },
    {
      "cell_type": "code",
      "source": [
        "#Data\n",
        "D3= [(108, 'Peter Parker', 'spidey@gmail.com'), (120, 'Bruce Wayne', 'batman@waynecorp.com')]"
      ],
      "metadata": {
        "id": "y702stsNssoG"
      },
      "execution_count": 29,
      "outputs": []
    },
    {
      "cell_type": "code",
      "source": [
        "#Data\n",
        "D4=  [(1, 108, 4, 'good'), (2, 120, 5, 'nice buy!'), (3, 120, 5, 'gotta buy!')]"
      ],
      "metadata": {
        "id": "alFzMcZyssrM"
      },
      "execution_count": 30,
      "outputs": []
    },
    {
      "cell_type": "code",
      "source": [
        "#Create datafrma from D1 as userId, name, score\n",
        "df1=sqlcontext.createDataFrame(D1,schema=['userId','name','score']).show()"
      ],
      "metadata": {
        "id": "CCwL7JSPssuW",
        "outputId": "9691bfcb-ce34-45cf-c481-972eaee025a7",
        "colab": {
          "base_uri": "https://localhost:8080/"
        }
      },
      "execution_count": 32,
      "outputs": [
        {
          "output_type": "stream",
          "name": "stdout",
          "text": [
            "+------+-------+------+\n",
            "|userId|   name| score|\n",
            "+------+-------+------+\n",
            "|     1|sample1| 100.0|\n",
            "|     2|sample2|2500.0|\n",
            "|     3|sample3| 190.0|\n",
            "+------+-------+------+\n",
            "\n"
          ]
        }
      ]
    },
    {
      "cell_type": "code",
      "source": [
        "#Create datafrma from D2 as userId, movieId, watchtime, sentiment_score\n",
        "\n",
        "\n",
        "schema=StructType([\n",
        "    StructField(\"userId\", IntegerType(), True),\n",
        "    StructField(\"movieId\", IntegerType(), True),\n",
        "    StructField(\"watchtime\", IntegerType(), True),\n",
        "    StructField(\"sentiment_score\", IntegerType(), True),\n",
        "    StructField(\"price\",IntegerType(),True)\n",
        "])\n",
        "\n",
        "df2=sqlcontext.createDataFrame(D2,schema=schema).show()"
      ],
      "metadata": {
        "id": "lwO8YLjzssxu",
        "outputId": "6e5366eb-6bae-41e4-deee-3beb6bcc5cd7",
        "colab": {
          "base_uri": "https://localhost:8080/"
        }
      },
      "execution_count": 54,
      "outputs": [
        {
          "output_type": "stream",
          "name": "stdout",
          "text": [
            "+------+-------+---------+---------------+-----+\n",
            "|userId|movieId|watchtime|sentiment_score|price|\n",
            "+------+-------+---------+---------------+-----+\n",
            "|     1|    509|       21|            200| 2000|\n",
            "|     2|    510|       22|             50| 1000|\n",
            "|     3|    511|       23|            100| 3000|\n",
            "|     4|    512|       24|            100| 2000|\n",
            "+------+-------+---------+---------------+-----+\n",
            "\n"
          ]
        }
      ]
    },
    {
      "cell_type": "code",
      "source": [
        "#Create datafrma from D3 as Id, name, contact\n",
        "\n",
        "df3=sqlcontext.createDataFrame(D3,schema=['Id', 'name', 'contact']).show()"
      ],
      "metadata": {
        "id": "EUtPDkm8uDUu",
        "outputId": "cfe259b9-1964-45dd-fcd6-9d6a7c82567a",
        "colab": {
          "base_uri": "https://localhost:8080/"
        }
      },
      "execution_count": 36,
      "outputs": [
        {
          "output_type": "stream",
          "name": "stdout",
          "text": [
            "+---+------------+--------------------+\n",
            "| Id|        name|             contact|\n",
            "+---+------------+--------------------+\n",
            "|108|Peter Parker|    spidey@gmail.com|\n",
            "|120| Bruce Wayne|batman@waynecorp.com|\n",
            "+---+------------+--------------------+\n",
            "\n"
          ]
        }
      ]
    },
    {
      "cell_type": "code",
      "source": [
        "#Create dataframe from D4 as Id, movieId, rating, review\n",
        "\n",
        "df4=sqlcontext.createDataFrame(D4,schema=['Id', 'movieId', 'rating', 'review']).show()"
      ],
      "metadata": {
        "id": "7PCpdca9ss0k",
        "outputId": "0ba3ad25-6a71-4044-ffca-17d94870907b",
        "colab": {
          "base_uri": "https://localhost:8080/"
        }
      },
      "execution_count": 37,
      "outputs": [
        {
          "output_type": "stream",
          "name": "stdout",
          "text": [
            "+---+-------+------+----------+\n",
            "| Id|movieId|rating|    review|\n",
            "+---+-------+------+----------+\n",
            "|  1|    108|     4|      good|\n",
            "|  2|    120|     5| nice buy!|\n",
            "|  3|    120|     5|gotta buy!|\n",
            "+---+-------+------+----------+\n",
            "\n"
          ]
        }
      ]
    },
    {
      "cell_type": "code",
      "source": [
        "\n"
      ],
      "metadata": {
        "id": "wdSpBXXnss4D"
      },
      "execution_count": null,
      "outputs": []
    }
  ]
}