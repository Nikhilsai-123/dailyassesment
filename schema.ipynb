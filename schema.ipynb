{
  "nbformat": 4,
  "nbformat_minor": 0,
  "metadata": {
    "colab": {
      "provenance": []
    },
    "kernelspec": {
      "name": "python3",
      "display_name": "Python 3"
    },
    "language_info": {
      "name": "python"
    }
  },
  "cells": [
    {
      "cell_type": "code",
      "execution_count": 1,
      "metadata": {
        "id": "dDbLI06ErVUw"
      },
      "outputs": [],
      "source": [
        "#Data\n",
        "\n",
        "data = [(\"501\", \"starwars\", \"2010-10-12 10:30:00\", \"Cult!\", \"positive\"),\n",
        "           (\"502\", \"fastandfurious\", \"2022-03-12 11:15:00\", \"missing cars\", \"negative\"),\n",
        "           (\"503\", \"dune\", \"2024-01-12 12:00:00\", \"nice watch\", \"neutral\")]"
      ]
    },
    {
      "cell_type": "code",
      "source": [
        "#Create saprksession as sqlcontext\n"
      ],
      "metadata": {
        "id": "UB5hPjZmrXmZ"
      },
      "execution_count": 1,
      "outputs": []
    },
    {
      "cell_type": "markdown",
      "source": [],
      "metadata": {
        "id": "zjZEdIaTr4uw"
      }
    },
    {
      "cell_type": "code",
      "source": [
        "#Create dataframe\n",
        "#schema as [\"userid\", \"movieId\", \"time\", \"review\", \"sentiment\"]\n"
      ],
      "metadata": {
        "id": "e9Lbs2-XrXok"
      },
      "execution_count": null,
      "outputs": []
    },
    {
      "cell_type": "code",
      "source": [
        "#Find entries with positive setiment\n"
      ],
      "metadata": {
        "id": "hFtDTYX5sBl_"
      },
      "execution_count": null,
      "outputs": []
    },
    {
      "cell_type": "code",
      "source": [
        "#Find aerage review length\n",
        "\n"
      ],
      "metadata": {
        "id": "V68RGUEnsBos"
      },
      "execution_count": null,
      "outputs": []
    },
    {
      "cell_type": "code",
      "source": [
        "#count sentiments per user\n",
        "\n"
      ],
      "metadata": {
        "id": "fszyx_BMsBrb"
      },
      "execution_count": null,
      "outputs": []
    },
    {
      "cell_type": "markdown",
      "source": [
        "Q2"
      ],
      "metadata": {
        "id": "N5NTqUsqsrSF"
      }
    },
    {
      "cell_type": "code",
      "source": [
        "#Data\n",
        "D1 = [(1, 'sample1', 100.0), (2, 'sample2', 2500.0), (3, 'sample3', 190.0)]"
      ],
      "metadata": {
        "id": "yLRoL0imssZr"
      },
      "execution_count": null,
      "outputs": []
    },
    {
      "cell_type": "code",
      "source": [
        "#Data\n",
        "D2 = [(1, 509, 21, 200, 2000), (2, 510, 22, 50, 1000), (3, 511, 23, 100, 3000), (4, 512, 24, 100, 2000)]"
      ],
      "metadata": {
        "id": "b2XkwnZXsskN"
      },
      "execution_count": null,
      "outputs": []
    },
    {
      "cell_type": "code",
      "source": [
        "#Data\n",
        "D3= [(108, 'Peter Parker', 'spidey@gmail.com'), (120, 'Bruce Wayne', 'batman@waynecorp.com')]"
      ],
      "metadata": {
        "id": "y702stsNssoG"
      },
      "execution_count": null,
      "outputs": []
    },
    {
      "cell_type": "code",
      "source": [
        "#Data\n",
        "D4=  [(1, 108, 4, 'good'), (2, 120, 5, 'nice buy!'), (3, 120, 5, 'gotta buy!')]"
      ],
      "metadata": {
        "id": "alFzMcZyssrM"
      },
      "execution_count": null,
      "outputs": []
    },
    {
      "cell_type": "code",
      "source": [
        "#Create datafrma from D1 as userId, name, score\n"
      ],
      "metadata": {
        "id": "CCwL7JSPssuW"
      },
      "execution_count": null,
      "outputs": []
    },
    {
      "cell_type": "code",
      "source": [
        "#Create datafrma from D2 as userId, movieId, watchtime, sentiment_score\n",
        "\n"
      ],
      "metadata": {
        "id": "lwO8YLjzssxu"
      },
      "execution_count": null,
      "outputs": []
    },
    {
      "cell_type": "code",
      "source": [
        "#Create datafrma from D3 as Id, name, contact\n",
        "\n"
      ],
      "metadata": {
        "id": "EUtPDkm8uDUu"
      },
      "execution_count": null,
      "outputs": []
    },
    {
      "cell_type": "code",
      "source": [
        "#Create dataframe from D4 as Id, movieId, rating, review\n",
        "\n"
      ],
      "metadata": {
        "id": "7PCpdca9ss0k"
      },
      "execution_count": null,
      "outputs": []
    },
    {
      "cell_type": "code",
      "source": [
        "\n"
      ],
      "metadata": {
        "id": "wdSpBXXnss4D"
      },
      "execution_count": null,
      "outputs": []
    }
  ]
}