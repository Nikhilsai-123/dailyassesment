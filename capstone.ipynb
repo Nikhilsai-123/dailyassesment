{
  "cells": [
    {
      "cell_type": "markdown",
      "metadata": {
        "id": "view-in-github",
        "colab_type": "text"
      },
      "source": [
        "<a href=\"https://colab.research.google.com/github/Nikhilsai-123/dailyassesment/blob/main/capstone.ipynb\" target=\"_parent\"><img src=\"https://colab.research.google.com/assets/colab-badge.svg\" alt=\"Open In Colab\"/></a>"
      ]
    },
    {
      "cell_type": "code",
      "source": [
        "!pip install pyspark"
      ],
      "metadata": {
        "id": "ddUPgd0IoRps",
        "outputId": "64d1c79b-1ac6-45df-91ae-c9e0a414f832",
        "colab": {
          "base_uri": "https://localhost:8080/"
        }
      },
      "execution_count": 1,
      "outputs": [
        {
          "output_type": "stream",
          "name": "stdout",
          "text": [
            "Collecting pyspark\n",
            "  Downloading pyspark-3.5.2.tar.gz (317.3 MB)\n",
            "\u001b[2K     \u001b[90m━━━━━━━━━━━━━━━━━━━━━━━━━━━━━━━━━━━━━━━━\u001b[0m \u001b[32m317.3/317.3 MB\u001b[0m \u001b[31m3.9 MB/s\u001b[0m eta \u001b[36m0:00:00\u001b[0m\n",
            "\u001b[?25h  Preparing metadata (setup.py) ... \u001b[?25l\u001b[?25hdone\n",
            "Requirement already satisfied: py4j==0.10.9.7 in /usr/local/lib/python3.10/dist-packages (from pyspark) (0.10.9.7)\n",
            "Building wheels for collected packages: pyspark\n",
            "  Building wheel for pyspark (setup.py) ... \u001b[?25l\u001b[?25hdone\n",
            "  Created wheel for pyspark: filename=pyspark-3.5.2-py2.py3-none-any.whl size=317812365 sha256=6c251a0728dee4cb1fc4966061c79528c68cfbbe202578cb037a104c0cfb0ac1\n",
            "  Stored in directory: /root/.cache/pip/wheels/34/34/bd/03944534c44b677cd5859f248090daa9fb27b3c8f8e5f49574\n",
            "Successfully built pyspark\n",
            "Installing collected packages: pyspark\n",
            "Successfully installed pyspark-3.5.2\n"
          ]
        }
      ]
    },
    {
      "cell_type": "code",
      "source": [
        "from pyspark.sql import SparkSession\n",
        "from pyspark.sql.functions import *\n",
        "from pyspark.sql.types import *"
      ],
      "metadata": {
        "id": "x4VQ23s6oRsm"
      },
      "execution_count": 7,
      "outputs": []
    },
    {
      "cell_type": "code",
      "source": [
        "spark=SparkSession.builder.appName('practice').getOrCreate()\n",
        "df=spark.read.option('header','true').csv('natality-1.4L.csv')\n"
      ],
      "metadata": {
        "id": "owBFjiOMoRvg"
      },
      "execution_count": 8,
      "outputs": []
    },
    {
      "cell_type": "code",
      "source": [
        "df"
      ],
      "metadata": {
        "id": "JUu7Z8H5oRyX",
        "outputId": "045847be-f0b4-49e3-840e-c88f1a32fe5c",
        "colab": {
          "base_uri": "https://localhost:8080/"
        }
      },
      "execution_count": 9,
      "outputs": [
        {
          "output_type": "execute_result",
          "data": {
            "text/plain": [
              "DataFrame[source_year: string, year: string, month: string, day: string, wday: string, state: string, is_male: string, child_race: string, weight_pounds: string, plurality: string, apgar_1min: string, apgar_5min: string, mother_residence_state: string, mother_race: string, mother_age: string, gestation_weeks: string, lmp: string, mother_married: string, mother_birth_state: string, cigarette_use: string, cigarettes_per_day: string, alcohol_use: string, drinks_per_week: string, weight_gain_pounds: string, born_alive_alive: string, born_alive_dead: string, born_dead: string, ever_born: string, father_race: string, father_age: string, record_weight: string]"
            ]
          },
          "metadata": {},
          "execution_count": 9
        }
      ]
    },
    {
      "cell_type": "code",
      "source": [
        "import pandas as pd\n"
      ],
      "metadata": {
        "id": "lyL83P0buKHF"
      },
      "execution_count": 21,
      "outputs": []
    },
    {
      "cell_type": "code",
      "source": [
        "arr=pd.read_csv('natality-1.4L.csv')"
      ],
      "metadata": {
        "id": "sgen-EfWoR1I",
        "outputId": "c830b9f9-fe05-49f8-b2ff-eaa20a6d92ae",
        "colab": {
          "base_uri": "https://localhost:8080/"
        }
      },
      "execution_count": 22,
      "outputs": [
        {
          "output_type": "stream",
          "name": "stderr",
          "text": [
            "<ipython-input-22-b3ddbf883d82>:1: DtypeWarning: Columns (5,12,16,17,18) have mixed types. Specify dtype option on import or set low_memory=False.\n",
            "  arr=pd.read_csv('natality-1.4L.csv')\n"
          ]
        }
      ]
    },
    {
      "cell_type": "code",
      "source": [
        "arr"
      ],
      "metadata": {
        "id": "SxKOixNNoR31",
        "colab": {
          "base_uri": "https://localhost:8080/",
          "height": 443
        },
        "outputId": "916c9046-f77a-4da1-901e-cc372fc7c785"
      },
      "execution_count": 23,
      "outputs": [
        {
          "output_type": "execute_result",
          "data": {
            "text/plain": [
              "        source_year  year  month   day  wday state  is_male  child_race  \\\n",
              "0              2005  2005      1   NaN   3.0   NaN     True         NaN   \n",
              "1              2005  2005      2   NaN   7.0   NaN    False         NaN   \n",
              "2              2005  2005      5   NaN   4.0   NaN    False         NaN   \n",
              "3              2005  2005      8   NaN   4.0   NaN    False         NaN   \n",
              "4              2005  2005      5   NaN   6.0   NaN     True         NaN   \n",
              "...             ...   ...    ...   ...   ...   ...      ...         ...   \n",
              "139995         1971  1971     11  10.0   NaN    AR    False         1.0   \n",
              "139996         1971  1971     12  20.0   NaN    AR    False         1.0   \n",
              "139997         1971  1971      6  14.0   NaN    AR    False         1.0   \n",
              "139998         1971  1971      5  18.0   NaN    AR     True         1.0   \n",
              "139999         1971  1971      4  17.0   NaN    AR     True         1.0   \n",
              "\n",
              "        weight_pounds  plurality  ...  alcohol_use  drinks_per_week  \\\n",
              "0            7.804364        1.0  ...          NaN              NaN   \n",
              "1            5.374870        2.0  ...        False              NaN   \n",
              "2            6.437498        1.0  ...          NaN              NaN   \n",
              "3            6.560957        1.0  ...          NaN              NaN   \n",
              "4            8.811877        1.0  ...          NaN              NaN   \n",
              "...               ...        ...  ...          ...              ...   \n",
              "139995       6.375769        1.0  ...          NaN              NaN   \n",
              "139996       7.251004        1.0  ...          NaN              NaN   \n",
              "139997       6.624891        1.0  ...          NaN              NaN   \n",
              "139998       6.437498        1.0  ...          NaN              NaN   \n",
              "139999       6.937947        1.0  ...          NaN              NaN   \n",
              "\n",
              "       weight_gain_pounds  born_alive_alive  born_alive_dead  born_dead  \\\n",
              "0                    99.0               5.0              2.0        1.0   \n",
              "1                     8.0               9.0              0.0        0.0   \n",
              "2                    99.0               NaN              NaN        NaN   \n",
              "3                    25.0               NaN              NaN        NaN   \n",
              "4                    99.0               NaN              NaN        NaN   \n",
              "...                   ...               ...              ...        ...   \n",
              "139995                NaN               0.0              0.0        0.0   \n",
              "139996                NaN               0.0              0.0        0.0   \n",
              "139997                NaN               0.0              0.0        0.0   \n",
              "139998                NaN               0.0              0.0        0.0   \n",
              "139999                NaN               NaN              0.0        0.0   \n",
              "\n",
              "       ever_born father_race father_age record_weight  \n",
              "0            8.0        38.0         24             1  \n",
              "1           10.0         1.0         31             1  \n",
              "2            NaN         NaN         31             1  \n",
              "3            NaN         NaN         99             1  \n",
              "4            NaN         NaN         33             1  \n",
              "...          ...         ...        ...           ...  \n",
              "139995       1.0         1.0         21             2  \n",
              "139996       1.0         1.0         22             2  \n",
              "139997       1.0         1.0         26             2  \n",
              "139998       1.0         1.0         20             2  \n",
              "139999       NaN         1.0         29             2  \n",
              "\n",
              "[140000 rows x 31 columns]"
            ],
            "text/html": [
              "\n",
              "  <div id=\"df-2b6fcaec-ab95-439c-9799-554858ffb1d7\" class=\"colab-df-container\">\n",
              "    <div>\n",
              "<style scoped>\n",
              "    .dataframe tbody tr th:only-of-type {\n",
              "        vertical-align: middle;\n",
              "    }\n",
              "\n",
              "    .dataframe tbody tr th {\n",
              "        vertical-align: top;\n",
              "    }\n",
              "\n",
              "    .dataframe thead th {\n",
              "        text-align: right;\n",
              "    }\n",
              "</style>\n",
              "<table border=\"1\" class=\"dataframe\">\n",
              "  <thead>\n",
              "    <tr style=\"text-align: right;\">\n",
              "      <th></th>\n",
              "      <th>source_year</th>\n",
              "      <th>year</th>\n",
              "      <th>month</th>\n",
              "      <th>day</th>\n",
              "      <th>wday</th>\n",
              "      <th>state</th>\n",
              "      <th>is_male</th>\n",
              "      <th>child_race</th>\n",
              "      <th>weight_pounds</th>\n",
              "      <th>plurality</th>\n",
              "      <th>...</th>\n",
              "      <th>alcohol_use</th>\n",
              "      <th>drinks_per_week</th>\n",
              "      <th>weight_gain_pounds</th>\n",
              "      <th>born_alive_alive</th>\n",
              "      <th>born_alive_dead</th>\n",
              "      <th>born_dead</th>\n",
              "      <th>ever_born</th>\n",
              "      <th>father_race</th>\n",
              "      <th>father_age</th>\n",
              "      <th>record_weight</th>\n",
              "    </tr>\n",
              "  </thead>\n",
              "  <tbody>\n",
              "    <tr>\n",
              "      <th>0</th>\n",
              "      <td>2005</td>\n",
              "      <td>2005</td>\n",
              "      <td>1</td>\n",
              "      <td>NaN</td>\n",
              "      <td>3.0</td>\n",
              "      <td>NaN</td>\n",
              "      <td>True</td>\n",
              "      <td>NaN</td>\n",
              "      <td>7.804364</td>\n",
              "      <td>1.0</td>\n",
              "      <td>...</td>\n",
              "      <td>NaN</td>\n",
              "      <td>NaN</td>\n",
              "      <td>99.0</td>\n",
              "      <td>5.0</td>\n",
              "      <td>2.0</td>\n",
              "      <td>1.0</td>\n",
              "      <td>8.0</td>\n",
              "      <td>38.0</td>\n",
              "      <td>24</td>\n",
              "      <td>1</td>\n",
              "    </tr>\n",
              "    <tr>\n",
              "      <th>1</th>\n",
              "      <td>2005</td>\n",
              "      <td>2005</td>\n",
              "      <td>2</td>\n",
              "      <td>NaN</td>\n",
              "      <td>7.0</td>\n",
              "      <td>NaN</td>\n",
              "      <td>False</td>\n",
              "      <td>NaN</td>\n",
              "      <td>5.374870</td>\n",
              "      <td>2.0</td>\n",
              "      <td>...</td>\n",
              "      <td>False</td>\n",
              "      <td>NaN</td>\n",
              "      <td>8.0</td>\n",
              "      <td>9.0</td>\n",
              "      <td>0.0</td>\n",
              "      <td>0.0</td>\n",
              "      <td>10.0</td>\n",
              "      <td>1.0</td>\n",
              "      <td>31</td>\n",
              "      <td>1</td>\n",
              "    </tr>\n",
              "    <tr>\n",
              "      <th>2</th>\n",
              "      <td>2005</td>\n",
              "      <td>2005</td>\n",
              "      <td>5</td>\n",
              "      <td>NaN</td>\n",
              "      <td>4.0</td>\n",
              "      <td>NaN</td>\n",
              "      <td>False</td>\n",
              "      <td>NaN</td>\n",
              "      <td>6.437498</td>\n",
              "      <td>1.0</td>\n",
              "      <td>...</td>\n",
              "      <td>NaN</td>\n",
              "      <td>NaN</td>\n",
              "      <td>99.0</td>\n",
              "      <td>NaN</td>\n",
              "      <td>NaN</td>\n",
              "      <td>NaN</td>\n",
              "      <td>NaN</td>\n",
              "      <td>NaN</td>\n",
              "      <td>31</td>\n",
              "      <td>1</td>\n",
              "    </tr>\n",
              "    <tr>\n",
              "      <th>3</th>\n",
              "      <td>2005</td>\n",
              "      <td>2005</td>\n",
              "      <td>8</td>\n",
              "      <td>NaN</td>\n",
              "      <td>4.0</td>\n",
              "      <td>NaN</td>\n",
              "      <td>False</td>\n",
              "      <td>NaN</td>\n",
              "      <td>6.560957</td>\n",
              "      <td>1.0</td>\n",
              "      <td>...</td>\n",
              "      <td>NaN</td>\n",
              "      <td>NaN</td>\n",
              "      <td>25.0</td>\n",
              "      <td>NaN</td>\n",
              "      <td>NaN</td>\n",
              "      <td>NaN</td>\n",
              "      <td>NaN</td>\n",
              "      <td>NaN</td>\n",
              "      <td>99</td>\n",
              "      <td>1</td>\n",
              "    </tr>\n",
              "    <tr>\n",
              "      <th>4</th>\n",
              "      <td>2005</td>\n",
              "      <td>2005</td>\n",
              "      <td>5</td>\n",
              "      <td>NaN</td>\n",
              "      <td>6.0</td>\n",
              "      <td>NaN</td>\n",
              "      <td>True</td>\n",
              "      <td>NaN</td>\n",
              "      <td>8.811877</td>\n",
              "      <td>1.0</td>\n",
              "      <td>...</td>\n",
              "      <td>NaN</td>\n",
              "      <td>NaN</td>\n",
              "      <td>99.0</td>\n",
              "      <td>NaN</td>\n",
              "      <td>NaN</td>\n",
              "      <td>NaN</td>\n",
              "      <td>NaN</td>\n",
              "      <td>NaN</td>\n",
              "      <td>33</td>\n",
              "      <td>1</td>\n",
              "    </tr>\n",
              "    <tr>\n",
              "      <th>...</th>\n",
              "      <td>...</td>\n",
              "      <td>...</td>\n",
              "      <td>...</td>\n",
              "      <td>...</td>\n",
              "      <td>...</td>\n",
              "      <td>...</td>\n",
              "      <td>...</td>\n",
              "      <td>...</td>\n",
              "      <td>...</td>\n",
              "      <td>...</td>\n",
              "      <td>...</td>\n",
              "      <td>...</td>\n",
              "      <td>...</td>\n",
              "      <td>...</td>\n",
              "      <td>...</td>\n",
              "      <td>...</td>\n",
              "      <td>...</td>\n",
              "      <td>...</td>\n",
              "      <td>...</td>\n",
              "      <td>...</td>\n",
              "      <td>...</td>\n",
              "    </tr>\n",
              "    <tr>\n",
              "      <th>139995</th>\n",
              "      <td>1971</td>\n",
              "      <td>1971</td>\n",
              "      <td>11</td>\n",
              "      <td>10.0</td>\n",
              "      <td>NaN</td>\n",
              "      <td>AR</td>\n",
              "      <td>False</td>\n",
              "      <td>1.0</td>\n",
              "      <td>6.375769</td>\n",
              "      <td>1.0</td>\n",
              "      <td>...</td>\n",
              "      <td>NaN</td>\n",
              "      <td>NaN</td>\n",
              "      <td>NaN</td>\n",
              "      <td>0.0</td>\n",
              "      <td>0.0</td>\n",
              "      <td>0.0</td>\n",
              "      <td>1.0</td>\n",
              "      <td>1.0</td>\n",
              "      <td>21</td>\n",
              "      <td>2</td>\n",
              "    </tr>\n",
              "    <tr>\n",
              "      <th>139996</th>\n",
              "      <td>1971</td>\n",
              "      <td>1971</td>\n",
              "      <td>12</td>\n",
              "      <td>20.0</td>\n",
              "      <td>NaN</td>\n",
              "      <td>AR</td>\n",
              "      <td>False</td>\n",
              "      <td>1.0</td>\n",
              "      <td>7.251004</td>\n",
              "      <td>1.0</td>\n",
              "      <td>...</td>\n",
              "      <td>NaN</td>\n",
              "      <td>NaN</td>\n",
              "      <td>NaN</td>\n",
              "      <td>0.0</td>\n",
              "      <td>0.0</td>\n",
              "      <td>0.0</td>\n",
              "      <td>1.0</td>\n",
              "      <td>1.0</td>\n",
              "      <td>22</td>\n",
              "      <td>2</td>\n",
              "    </tr>\n",
              "    <tr>\n",
              "      <th>139997</th>\n",
              "      <td>1971</td>\n",
              "      <td>1971</td>\n",
              "      <td>6</td>\n",
              "      <td>14.0</td>\n",
              "      <td>NaN</td>\n",
              "      <td>AR</td>\n",
              "      <td>False</td>\n",
              "      <td>1.0</td>\n",
              "      <td>6.624891</td>\n",
              "      <td>1.0</td>\n",
              "      <td>...</td>\n",
              "      <td>NaN</td>\n",
              "      <td>NaN</td>\n",
              "      <td>NaN</td>\n",
              "      <td>0.0</td>\n",
              "      <td>0.0</td>\n",
              "      <td>0.0</td>\n",
              "      <td>1.0</td>\n",
              "      <td>1.0</td>\n",
              "      <td>26</td>\n",
              "      <td>2</td>\n",
              "    </tr>\n",
              "    <tr>\n",
              "      <th>139998</th>\n",
              "      <td>1971</td>\n",
              "      <td>1971</td>\n",
              "      <td>5</td>\n",
              "      <td>18.0</td>\n",
              "      <td>NaN</td>\n",
              "      <td>AR</td>\n",
              "      <td>True</td>\n",
              "      <td>1.0</td>\n",
              "      <td>6.437498</td>\n",
              "      <td>1.0</td>\n",
              "      <td>...</td>\n",
              "      <td>NaN</td>\n",
              "      <td>NaN</td>\n",
              "      <td>NaN</td>\n",
              "      <td>0.0</td>\n",
              "      <td>0.0</td>\n",
              "      <td>0.0</td>\n",
              "      <td>1.0</td>\n",
              "      <td>1.0</td>\n",
              "      <td>20</td>\n",
              "      <td>2</td>\n",
              "    </tr>\n",
              "    <tr>\n",
              "      <th>139999</th>\n",
              "      <td>1971</td>\n",
              "      <td>1971</td>\n",
              "      <td>4</td>\n",
              "      <td>17.0</td>\n",
              "      <td>NaN</td>\n",
              "      <td>AR</td>\n",
              "      <td>True</td>\n",
              "      <td>1.0</td>\n",
              "      <td>6.937947</td>\n",
              "      <td>1.0</td>\n",
              "      <td>...</td>\n",
              "      <td>NaN</td>\n",
              "      <td>NaN</td>\n",
              "      <td>NaN</td>\n",
              "      <td>NaN</td>\n",
              "      <td>0.0</td>\n",
              "      <td>0.0</td>\n",
              "      <td>NaN</td>\n",
              "      <td>1.0</td>\n",
              "      <td>29</td>\n",
              "      <td>2</td>\n",
              "    </tr>\n",
              "  </tbody>\n",
              "</table>\n",
              "<p>140000 rows × 31 columns</p>\n",
              "</div>\n",
              "    <div class=\"colab-df-buttons\">\n",
              "\n",
              "  <div class=\"colab-df-container\">\n",
              "    <button class=\"colab-df-convert\" onclick=\"convertToInteractive('df-2b6fcaec-ab95-439c-9799-554858ffb1d7')\"\n",
              "            title=\"Convert this dataframe to an interactive table.\"\n",
              "            style=\"display:none;\">\n",
              "\n",
              "  <svg xmlns=\"http://www.w3.org/2000/svg\" height=\"24px\" viewBox=\"0 -960 960 960\">\n",
              "    <path d=\"M120-120v-720h720v720H120Zm60-500h600v-160H180v160Zm220 220h160v-160H400v160Zm0 220h160v-160H400v160ZM180-400h160v-160H180v160Zm440 0h160v-160H620v160ZM180-180h160v-160H180v160Zm440 0h160v-160H620v160Z\"/>\n",
              "  </svg>\n",
              "    </button>\n",
              "\n",
              "  <style>\n",
              "    .colab-df-container {\n",
              "      display:flex;\n",
              "      gap: 12px;\n",
              "    }\n",
              "\n",
              "    .colab-df-convert {\n",
              "      background-color: #E8F0FE;\n",
              "      border: none;\n",
              "      border-radius: 50%;\n",
              "      cursor: pointer;\n",
              "      display: none;\n",
              "      fill: #1967D2;\n",
              "      height: 32px;\n",
              "      padding: 0 0 0 0;\n",
              "      width: 32px;\n",
              "    }\n",
              "\n",
              "    .colab-df-convert:hover {\n",
              "      background-color: #E2EBFA;\n",
              "      box-shadow: 0px 1px 2px rgba(60, 64, 67, 0.3), 0px 1px 3px 1px rgba(60, 64, 67, 0.15);\n",
              "      fill: #174EA6;\n",
              "    }\n",
              "\n",
              "    .colab-df-buttons div {\n",
              "      margin-bottom: 4px;\n",
              "    }\n",
              "\n",
              "    [theme=dark] .colab-df-convert {\n",
              "      background-color: #3B4455;\n",
              "      fill: #D2E3FC;\n",
              "    }\n",
              "\n",
              "    [theme=dark] .colab-df-convert:hover {\n",
              "      background-color: #434B5C;\n",
              "      box-shadow: 0px 1px 3px 1px rgba(0, 0, 0, 0.15);\n",
              "      filter: drop-shadow(0px 1px 2px rgba(0, 0, 0, 0.3));\n",
              "      fill: #FFFFFF;\n",
              "    }\n",
              "  </style>\n",
              "\n",
              "    <script>\n",
              "      const buttonEl =\n",
              "        document.querySelector('#df-2b6fcaec-ab95-439c-9799-554858ffb1d7 button.colab-df-convert');\n",
              "      buttonEl.style.display =\n",
              "        google.colab.kernel.accessAllowed ? 'block' : 'none';\n",
              "\n",
              "      async function convertToInteractive(key) {\n",
              "        const element = document.querySelector('#df-2b6fcaec-ab95-439c-9799-554858ffb1d7');\n",
              "        const dataTable =\n",
              "          await google.colab.kernel.invokeFunction('convertToInteractive',\n",
              "                                                    [key], {});\n",
              "        if (!dataTable) return;\n",
              "\n",
              "        const docLinkHtml = 'Like what you see? Visit the ' +\n",
              "          '<a target=\"_blank\" href=https://colab.research.google.com/notebooks/data_table.ipynb>data table notebook</a>'\n",
              "          + ' to learn more about interactive tables.';\n",
              "        element.innerHTML = '';\n",
              "        dataTable['output_type'] = 'display_data';\n",
              "        await google.colab.output.renderOutput(dataTable, element);\n",
              "        const docLink = document.createElement('div');\n",
              "        docLink.innerHTML = docLinkHtml;\n",
              "        element.appendChild(docLink);\n",
              "      }\n",
              "    </script>\n",
              "  </div>\n",
              "\n",
              "\n",
              "<div id=\"df-90686bc7-cbd9-422a-9aa6-45b6b4e9bfcd\">\n",
              "  <button class=\"colab-df-quickchart\" onclick=\"quickchart('df-90686bc7-cbd9-422a-9aa6-45b6b4e9bfcd')\"\n",
              "            title=\"Suggest charts\"\n",
              "            style=\"display:none;\">\n",
              "\n",
              "<svg xmlns=\"http://www.w3.org/2000/svg\" height=\"24px\"viewBox=\"0 0 24 24\"\n",
              "     width=\"24px\">\n",
              "    <g>\n",
              "        <path d=\"M19 3H5c-1.1 0-2 .9-2 2v14c0 1.1.9 2 2 2h14c1.1 0 2-.9 2-2V5c0-1.1-.9-2-2-2zM9 17H7v-7h2v7zm4 0h-2V7h2v10zm4 0h-2v-4h2v4z\"/>\n",
              "    </g>\n",
              "</svg>\n",
              "  </button>\n",
              "\n",
              "<style>\n",
              "  .colab-df-quickchart {\n",
              "      --bg-color: #E8F0FE;\n",
              "      --fill-color: #1967D2;\n",
              "      --hover-bg-color: #E2EBFA;\n",
              "      --hover-fill-color: #174EA6;\n",
              "      --disabled-fill-color: #AAA;\n",
              "      --disabled-bg-color: #DDD;\n",
              "  }\n",
              "\n",
              "  [theme=dark] .colab-df-quickchart {\n",
              "      --bg-color: #3B4455;\n",
              "      --fill-color: #D2E3FC;\n",
              "      --hover-bg-color: #434B5C;\n",
              "      --hover-fill-color: #FFFFFF;\n",
              "      --disabled-bg-color: #3B4455;\n",
              "      --disabled-fill-color: #666;\n",
              "  }\n",
              "\n",
              "  .colab-df-quickchart {\n",
              "    background-color: var(--bg-color);\n",
              "    border: none;\n",
              "    border-radius: 50%;\n",
              "    cursor: pointer;\n",
              "    display: none;\n",
              "    fill: var(--fill-color);\n",
              "    height: 32px;\n",
              "    padding: 0;\n",
              "    width: 32px;\n",
              "  }\n",
              "\n",
              "  .colab-df-quickchart:hover {\n",
              "    background-color: var(--hover-bg-color);\n",
              "    box-shadow: 0 1px 2px rgba(60, 64, 67, 0.3), 0 1px 3px 1px rgba(60, 64, 67, 0.15);\n",
              "    fill: var(--button-hover-fill-color);\n",
              "  }\n",
              "\n",
              "  .colab-df-quickchart-complete:disabled,\n",
              "  .colab-df-quickchart-complete:disabled:hover {\n",
              "    background-color: var(--disabled-bg-color);\n",
              "    fill: var(--disabled-fill-color);\n",
              "    box-shadow: none;\n",
              "  }\n",
              "\n",
              "  .colab-df-spinner {\n",
              "    border: 2px solid var(--fill-color);\n",
              "    border-color: transparent;\n",
              "    border-bottom-color: var(--fill-color);\n",
              "    animation:\n",
              "      spin 1s steps(1) infinite;\n",
              "  }\n",
              "\n",
              "  @keyframes spin {\n",
              "    0% {\n",
              "      border-color: transparent;\n",
              "      border-bottom-color: var(--fill-color);\n",
              "      border-left-color: var(--fill-color);\n",
              "    }\n",
              "    20% {\n",
              "      border-color: transparent;\n",
              "      border-left-color: var(--fill-color);\n",
              "      border-top-color: var(--fill-color);\n",
              "    }\n",
              "    30% {\n",
              "      border-color: transparent;\n",
              "      border-left-color: var(--fill-color);\n",
              "      border-top-color: var(--fill-color);\n",
              "      border-right-color: var(--fill-color);\n",
              "    }\n",
              "    40% {\n",
              "      border-color: transparent;\n",
              "      border-right-color: var(--fill-color);\n",
              "      border-top-color: var(--fill-color);\n",
              "    }\n",
              "    60% {\n",
              "      border-color: transparent;\n",
              "      border-right-color: var(--fill-color);\n",
              "    }\n",
              "    80% {\n",
              "      border-color: transparent;\n",
              "      border-right-color: var(--fill-color);\n",
              "      border-bottom-color: var(--fill-color);\n",
              "    }\n",
              "    90% {\n",
              "      border-color: transparent;\n",
              "      border-bottom-color: var(--fill-color);\n",
              "    }\n",
              "  }\n",
              "</style>\n",
              "\n",
              "  <script>\n",
              "    async function quickchart(key) {\n",
              "      const quickchartButtonEl =\n",
              "        document.querySelector('#' + key + ' button');\n",
              "      quickchartButtonEl.disabled = true;  // To prevent multiple clicks.\n",
              "      quickchartButtonEl.classList.add('colab-df-spinner');\n",
              "      try {\n",
              "        const charts = await google.colab.kernel.invokeFunction(\n",
              "            'suggestCharts', [key], {});\n",
              "      } catch (error) {\n",
              "        console.error('Error during call to suggestCharts:', error);\n",
              "      }\n",
              "      quickchartButtonEl.classList.remove('colab-df-spinner');\n",
              "      quickchartButtonEl.classList.add('colab-df-quickchart-complete');\n",
              "    }\n",
              "    (() => {\n",
              "      let quickchartButtonEl =\n",
              "        document.querySelector('#df-90686bc7-cbd9-422a-9aa6-45b6b4e9bfcd button');\n",
              "      quickchartButtonEl.style.display =\n",
              "        google.colab.kernel.accessAllowed ? 'block' : 'none';\n",
              "    })();\n",
              "  </script>\n",
              "</div>\n",
              "\n",
              "  <div id=\"id_13abbd44-4ecb-4143-85a9-7cbd6ef923d5\">\n",
              "    <style>\n",
              "      .colab-df-generate {\n",
              "        background-color: #E8F0FE;\n",
              "        border: none;\n",
              "        border-radius: 50%;\n",
              "        cursor: pointer;\n",
              "        display: none;\n",
              "        fill: #1967D2;\n",
              "        height: 32px;\n",
              "        padding: 0 0 0 0;\n",
              "        width: 32px;\n",
              "      }\n",
              "\n",
              "      .colab-df-generate:hover {\n",
              "        background-color: #E2EBFA;\n",
              "        box-shadow: 0px 1px 2px rgba(60, 64, 67, 0.3), 0px 1px 3px 1px rgba(60, 64, 67, 0.15);\n",
              "        fill: #174EA6;\n",
              "      }\n",
              "\n",
              "      [theme=dark] .colab-df-generate {\n",
              "        background-color: #3B4455;\n",
              "        fill: #D2E3FC;\n",
              "      }\n",
              "\n",
              "      [theme=dark] .colab-df-generate:hover {\n",
              "        background-color: #434B5C;\n",
              "        box-shadow: 0px 1px 3px 1px rgba(0, 0, 0, 0.15);\n",
              "        filter: drop-shadow(0px 1px 2px rgba(0, 0, 0, 0.3));\n",
              "        fill: #FFFFFF;\n",
              "      }\n",
              "    </style>\n",
              "    <button class=\"colab-df-generate\" onclick=\"generateWithVariable('arr')\"\n",
              "            title=\"Generate code using this dataframe.\"\n",
              "            style=\"display:none;\">\n",
              "\n",
              "  <svg xmlns=\"http://www.w3.org/2000/svg\" height=\"24px\"viewBox=\"0 0 24 24\"\n",
              "       width=\"24px\">\n",
              "    <path d=\"M7,19H8.4L18.45,9,17,7.55,7,17.6ZM5,21V16.75L18.45,3.32a2,2,0,0,1,2.83,0l1.4,1.43a1.91,1.91,0,0,1,.58,1.4,1.91,1.91,0,0,1-.58,1.4L9.25,21ZM18.45,9,17,7.55Zm-12,3A5.31,5.31,0,0,0,4.9,8.1,5.31,5.31,0,0,0,1,6.5,5.31,5.31,0,0,0,4.9,4.9,5.31,5.31,0,0,0,6.5,1,5.31,5.31,0,0,0,8.1,4.9,5.31,5.31,0,0,0,12,6.5,5.46,5.46,0,0,0,6.5,12Z\"/>\n",
              "  </svg>\n",
              "    </button>\n",
              "    <script>\n",
              "      (() => {\n",
              "      const buttonEl =\n",
              "        document.querySelector('#id_13abbd44-4ecb-4143-85a9-7cbd6ef923d5 button.colab-df-generate');\n",
              "      buttonEl.style.display =\n",
              "        google.colab.kernel.accessAllowed ? 'block' : 'none';\n",
              "\n",
              "      buttonEl.onclick = () => {\n",
              "        google.colab.notebook.generateWithVariable('arr');\n",
              "      }\n",
              "      })();\n",
              "    </script>\n",
              "  </div>\n",
              "\n",
              "    </div>\n",
              "  </div>\n"
            ],
            "application/vnd.google.colaboratory.intrinsic+json": {
              "type": "dataframe",
              "variable_name": "arr"
            }
          },
          "metadata": {},
          "execution_count": 23
        }
      ]
    },
    {
      "cell_type": "code",
      "source": [
        "arr1=df.groupBy('month').count()\n",
        "arr1.show()"
      ],
      "metadata": {
        "id": "VkL8AjP2oR6n",
        "outputId": "5d01d02c-fcbb-4362-c468-0eef23b04502",
        "colab": {
          "base_uri": "https://localhost:8080/"
        }
      },
      "execution_count": 24,
      "outputs": [
        {
          "output_type": "stream",
          "name": "stdout",
          "text": [
            "+-----+-----+\n",
            "|month|count|\n",
            "+-----+-----+\n",
            "|    7| 2927|\n",
            "|   11| 2779|\n",
            "|    3| 2815|\n",
            "|    8| 2996|\n",
            "|    5| 2853|\n",
            "|    6| 2852|\n",
            "|    9| 3009|\n",
            "|    1| 2781|\n",
            "|   10| 2769|\n",
            "|    4| 2740|\n",
            "|   12| 2829|\n",
            "|    2| 2581|\n",
            "+-----+-----+\n",
            "\n"
          ]
        }
      ]
    },
    {
      "cell_type": "code",
      "source": [
        "arr.isnull().sum()"
      ],
      "metadata": {
        "id": "lXhql28coR9l",
        "outputId": "f6434d93-06db-43cd-f93f-b405254f4f67",
        "colab": {
          "base_uri": "https://localhost:8080/",
          "height": 1000
        }
      },
      "execution_count": 25,
      "outputs": [
        {
          "output_type": "execute_result",
          "data": {
            "text/plain": [
              "source_year                    0\n",
              "year                           0\n",
              "month                          0\n",
              "day                       131346\n",
              "wday                        8654\n",
              "state                     123104\n",
              "is_male                        0\n",
              "child_race                124068\n",
              "weight_pounds                138\n",
              "plurality                    782\n",
              "apgar_1min                127032\n",
              "apgar_5min                 11933\n",
              "mother_residence_state    123104\n",
              "mother_race                64325\n",
              "mother_age                     0\n",
              "gestation_weeks             2301\n",
              "lmp                            0\n",
              "mother_married                12\n",
              "mother_birth_state        123747\n",
              "cigarette_use              81576\n",
              "cigarettes_per_day        134232\n",
              "alcohol_use                74321\n",
              "drinks_per_week           136403\n",
              "weight_gain_pounds         11178\n",
              "born_alive_alive           93590\n",
              "born_alive_dead            93623\n",
              "born_dead                  93652\n",
              "ever_born                    723\n",
              "father_race                64325\n",
              "father_age                     0\n",
              "record_weight                  0\n",
              "dtype: int64"
            ],
            "text/html": [
              "<div>\n",
              "<style scoped>\n",
              "    .dataframe tbody tr th:only-of-type {\n",
              "        vertical-align: middle;\n",
              "    }\n",
              "\n",
              "    .dataframe tbody tr th {\n",
              "        vertical-align: top;\n",
              "    }\n",
              "\n",
              "    .dataframe thead th {\n",
              "        text-align: right;\n",
              "    }\n",
              "</style>\n",
              "<table border=\"1\" class=\"dataframe\">\n",
              "  <thead>\n",
              "    <tr style=\"text-align: right;\">\n",
              "      <th></th>\n",
              "      <th>0</th>\n",
              "    </tr>\n",
              "  </thead>\n",
              "  <tbody>\n",
              "    <tr>\n",
              "      <th>source_year</th>\n",
              "      <td>0</td>\n",
              "    </tr>\n",
              "    <tr>\n",
              "      <th>year</th>\n",
              "      <td>0</td>\n",
              "    </tr>\n",
              "    <tr>\n",
              "      <th>month</th>\n",
              "      <td>0</td>\n",
              "    </tr>\n",
              "    <tr>\n",
              "      <th>day</th>\n",
              "      <td>131346</td>\n",
              "    </tr>\n",
              "    <tr>\n",
              "      <th>wday</th>\n",
              "      <td>8654</td>\n",
              "    </tr>\n",
              "    <tr>\n",
              "      <th>state</th>\n",
              "      <td>123104</td>\n",
              "    </tr>\n",
              "    <tr>\n",
              "      <th>is_male</th>\n",
              "      <td>0</td>\n",
              "    </tr>\n",
              "    <tr>\n",
              "      <th>child_race</th>\n",
              "      <td>124068</td>\n",
              "    </tr>\n",
              "    <tr>\n",
              "      <th>weight_pounds</th>\n",
              "      <td>138</td>\n",
              "    </tr>\n",
              "    <tr>\n",
              "      <th>plurality</th>\n",
              "      <td>782</td>\n",
              "    </tr>\n",
              "    <tr>\n",
              "      <th>apgar_1min</th>\n",
              "      <td>127032</td>\n",
              "    </tr>\n",
              "    <tr>\n",
              "      <th>apgar_5min</th>\n",
              "      <td>11933</td>\n",
              "    </tr>\n",
              "    <tr>\n",
              "      <th>mother_residence_state</th>\n",
              "      <td>123104</td>\n",
              "    </tr>\n",
              "    <tr>\n",
              "      <th>mother_race</th>\n",
              "      <td>64325</td>\n",
              "    </tr>\n",
              "    <tr>\n",
              "      <th>mother_age</th>\n",
              "      <td>0</td>\n",
              "    </tr>\n",
              "    <tr>\n",
              "      <th>gestation_weeks</th>\n",
              "      <td>2301</td>\n",
              "    </tr>\n",
              "    <tr>\n",
              "      <th>lmp</th>\n",
              "      <td>0</td>\n",
              "    </tr>\n",
              "    <tr>\n",
              "      <th>mother_married</th>\n",
              "      <td>12</td>\n",
              "    </tr>\n",
              "    <tr>\n",
              "      <th>mother_birth_state</th>\n",
              "      <td>123747</td>\n",
              "    </tr>\n",
              "    <tr>\n",
              "      <th>cigarette_use</th>\n",
              "      <td>81576</td>\n",
              "    </tr>\n",
              "    <tr>\n",
              "      <th>cigarettes_per_day</th>\n",
              "      <td>134232</td>\n",
              "    </tr>\n",
              "    <tr>\n",
              "      <th>alcohol_use</th>\n",
              "      <td>74321</td>\n",
              "    </tr>\n",
              "    <tr>\n",
              "      <th>drinks_per_week</th>\n",
              "      <td>136403</td>\n",
              "    </tr>\n",
              "    <tr>\n",
              "      <th>weight_gain_pounds</th>\n",
              "      <td>11178</td>\n",
              "    </tr>\n",
              "    <tr>\n",
              "      <th>born_alive_alive</th>\n",
              "      <td>93590</td>\n",
              "    </tr>\n",
              "    <tr>\n",
              "      <th>born_alive_dead</th>\n",
              "      <td>93623</td>\n",
              "    </tr>\n",
              "    <tr>\n",
              "      <th>born_dead</th>\n",
              "      <td>93652</td>\n",
              "    </tr>\n",
              "    <tr>\n",
              "      <th>ever_born</th>\n",
              "      <td>723</td>\n",
              "    </tr>\n",
              "    <tr>\n",
              "      <th>father_race</th>\n",
              "      <td>64325</td>\n",
              "    </tr>\n",
              "    <tr>\n",
              "      <th>father_age</th>\n",
              "      <td>0</td>\n",
              "    </tr>\n",
              "    <tr>\n",
              "      <th>record_weight</th>\n",
              "      <td>0</td>\n",
              "    </tr>\n",
              "  </tbody>\n",
              "</table>\n",
              "</div><br><label><b>dtype:</b> int64</label>"
            ]
          },
          "metadata": {},
          "execution_count": 25
        }
      ]
    },
    {
      "cell_type": "code",
      "source": [
        "arr['child_race'].head(100)\n"
      ],
      "metadata": {
        "id": "qmBCN0a9vot4",
        "outputId": "ab4c8d4e-44f5-4b2e-c5be-96f1054f3993",
        "colab": {
          "base_uri": "https://localhost:8080/",
          "height": 458
        }
      },
      "execution_count": 26,
      "outputs": [
        {
          "output_type": "execute_result",
          "data": {
            "text/plain": [
              "0    NaN\n",
              "1    NaN\n",
              "2    NaN\n",
              "3    NaN\n",
              "4    NaN\n",
              "      ..\n",
              "95   NaN\n",
              "96   NaN\n",
              "97   NaN\n",
              "98   NaN\n",
              "99   NaN\n",
              "Name: child_race, Length: 100, dtype: float64"
            ],
            "text/html": [
              "<div>\n",
              "<style scoped>\n",
              "    .dataframe tbody tr th:only-of-type {\n",
              "        vertical-align: middle;\n",
              "    }\n",
              "\n",
              "    .dataframe tbody tr th {\n",
              "        vertical-align: top;\n",
              "    }\n",
              "\n",
              "    .dataframe thead th {\n",
              "        text-align: right;\n",
              "    }\n",
              "</style>\n",
              "<table border=\"1\" class=\"dataframe\">\n",
              "  <thead>\n",
              "    <tr style=\"text-align: right;\">\n",
              "      <th></th>\n",
              "      <th>child_race</th>\n",
              "    </tr>\n",
              "  </thead>\n",
              "  <tbody>\n",
              "    <tr>\n",
              "      <th>0</th>\n",
              "      <td>NaN</td>\n",
              "    </tr>\n",
              "    <tr>\n",
              "      <th>1</th>\n",
              "      <td>NaN</td>\n",
              "    </tr>\n",
              "    <tr>\n",
              "      <th>2</th>\n",
              "      <td>NaN</td>\n",
              "    </tr>\n",
              "    <tr>\n",
              "      <th>3</th>\n",
              "      <td>NaN</td>\n",
              "    </tr>\n",
              "    <tr>\n",
              "      <th>4</th>\n",
              "      <td>NaN</td>\n",
              "    </tr>\n",
              "    <tr>\n",
              "      <th>...</th>\n",
              "      <td>...</td>\n",
              "    </tr>\n",
              "    <tr>\n",
              "      <th>95</th>\n",
              "      <td>NaN</td>\n",
              "    </tr>\n",
              "    <tr>\n",
              "      <th>96</th>\n",
              "      <td>NaN</td>\n",
              "    </tr>\n",
              "    <tr>\n",
              "      <th>97</th>\n",
              "      <td>NaN</td>\n",
              "    </tr>\n",
              "    <tr>\n",
              "      <th>98</th>\n",
              "      <td>NaN</td>\n",
              "    </tr>\n",
              "    <tr>\n",
              "      <th>99</th>\n",
              "      <td>NaN</td>\n",
              "    </tr>\n",
              "  </tbody>\n",
              "</table>\n",
              "<p>100 rows × 1 columns</p>\n",
              "</div><br><label><b>dtype:</b> float64</label>"
            ]
          },
          "metadata": {},
          "execution_count": 26
        }
      ]
    },
    {
      "cell_type": "code",
      "source": [
        "arr['wday'].head(100)"
      ],
      "metadata": {
        "id": "i4TJcWQeoSAT",
        "outputId": "35432827-050a-40a4-e28c-eb0579278f36",
        "colab": {
          "base_uri": "https://localhost:8080/",
          "height": 458
        }
      },
      "execution_count": 27,
      "outputs": [
        {
          "output_type": "execute_result",
          "data": {
            "text/plain": [
              "0     3.0\n",
              "1     7.0\n",
              "2     4.0\n",
              "3     4.0\n",
              "4     6.0\n",
              "     ... \n",
              "95    4.0\n",
              "96    7.0\n",
              "97    1.0\n",
              "98    1.0\n",
              "99    4.0\n",
              "Name: wday, Length: 100, dtype: float64"
            ],
            "text/html": [
              "<div>\n",
              "<style scoped>\n",
              "    .dataframe tbody tr th:only-of-type {\n",
              "        vertical-align: middle;\n",
              "    }\n",
              "\n",
              "    .dataframe tbody tr th {\n",
              "        vertical-align: top;\n",
              "    }\n",
              "\n",
              "    .dataframe thead th {\n",
              "        text-align: right;\n",
              "    }\n",
              "</style>\n",
              "<table border=\"1\" class=\"dataframe\">\n",
              "  <thead>\n",
              "    <tr style=\"text-align: right;\">\n",
              "      <th></th>\n",
              "      <th>wday</th>\n",
              "    </tr>\n",
              "  </thead>\n",
              "  <tbody>\n",
              "    <tr>\n",
              "      <th>0</th>\n",
              "      <td>3.0</td>\n",
              "    </tr>\n",
              "    <tr>\n",
              "      <th>1</th>\n",
              "      <td>7.0</td>\n",
              "    </tr>\n",
              "    <tr>\n",
              "      <th>2</th>\n",
              "      <td>4.0</td>\n",
              "    </tr>\n",
              "    <tr>\n",
              "      <th>3</th>\n",
              "      <td>4.0</td>\n",
              "    </tr>\n",
              "    <tr>\n",
              "      <th>4</th>\n",
              "      <td>6.0</td>\n",
              "    </tr>\n",
              "    <tr>\n",
              "      <th>...</th>\n",
              "      <td>...</td>\n",
              "    </tr>\n",
              "    <tr>\n",
              "      <th>95</th>\n",
              "      <td>4.0</td>\n",
              "    </tr>\n",
              "    <tr>\n",
              "      <th>96</th>\n",
              "      <td>7.0</td>\n",
              "    </tr>\n",
              "    <tr>\n",
              "      <th>97</th>\n",
              "      <td>1.0</td>\n",
              "    </tr>\n",
              "    <tr>\n",
              "      <th>98</th>\n",
              "      <td>1.0</td>\n",
              "    </tr>\n",
              "    <tr>\n",
              "      <th>99</th>\n",
              "      <td>4.0</td>\n",
              "    </tr>\n",
              "  </tbody>\n",
              "</table>\n",
              "<p>100 rows × 1 columns</p>\n",
              "</div><br><label><b>dtype:</b> float64</label>"
            ]
          },
          "metadata": {},
          "execution_count": 27
        }
      ]
    },
    {
      "cell_type": "code",
      "source": [
        "df.groupBy('drinks_per_week').count()"
      ],
      "metadata": {
        "id": "K9QjmQ0OoSC7",
        "outputId": "7e287949-5056-44dc-949f-3b8a2fc2da6e",
        "colab": {
          "base_uri": "https://localhost:8080/"
        }
      },
      "execution_count": 29,
      "outputs": [
        {
          "output_type": "execute_result",
          "data": {
            "text/plain": [
              "DataFrame[drinks_per_week: string, count: bigint]"
            ]
          },
          "metadata": {},
          "execution_count": 29
        }
      ]
    },
    {
      "cell_type": "code",
      "source": [
        "arr=df.select(col('source_year')!=col('year')).show()"
      ],
      "metadata": {
        "id": "1pQyZqaEoSGa",
        "outputId": "fad7d316-c84c-4191-df4f-801a74ce954c",
        "colab": {
          "base_uri": "https://localhost:8080/"
        }
      },
      "execution_count": null,
      "outputs": [
        {
          "output_type": "stream",
          "name": "stdout",
          "text": [
            "+--------------------------+\n",
            "|(NOT (source_year = year))|\n",
            "+--------------------------+\n",
            "|                     false|\n",
            "|                     false|\n",
            "|                     false|\n",
            "|                     false|\n",
            "|                     false|\n",
            "|                     false|\n",
            "|                     false|\n",
            "|                     false|\n",
            "|                     false|\n",
            "|                     false|\n",
            "|                     false|\n",
            "|                     false|\n",
            "|                     false|\n",
            "|                     false|\n",
            "|                     false|\n",
            "|                     false|\n",
            "|                     false|\n",
            "|                     false|\n",
            "|                     false|\n",
            "|                     false|\n",
            "+--------------------------+\n",
            "only showing top 20 rows\n",
            "\n"
          ]
        }
      ]
    },
    {
      "cell_type": "code",
      "source": [
        "arr1=df.groupBy('state').count().show()"
      ],
      "metadata": {
        "id": "AGKhoewper9L",
        "outputId": "663f1e8a-00d4-4e85-924c-f8b7ccdc2e8b",
        "colab": {
          "base_uri": "https://localhost:8080/"
        }
      },
      "execution_count": 30,
      "outputs": [
        {
          "output_type": "stream",
          "name": "stdout",
          "text": [
            "+-----+-----+\n",
            "|state|count|\n",
            "+-----+-----+\n",
            "| NULL|33931|\n",
            "+-----+-----+\n",
            "\n"
          ]
        }
      ]
    },
    {
      "cell_type": "markdown",
      "source": [
        "# New Section"
      ],
      "metadata": {
        "id": "zrhsPuyQoV6U"
      }
    },
    {
      "cell_type": "code",
      "source": [
        "arr.info()"
      ],
      "metadata": {
        "id": "1bPysNxViq4k",
        "outputId": "e142a996-16a3-4549-c53f-bdf49d27ed97",
        "colab": {
          "base_uri": "https://localhost:8080/"
        }
      },
      "execution_count": 31,
      "outputs": [
        {
          "output_type": "stream",
          "name": "stdout",
          "text": [
            "<class 'pandas.core.frame.DataFrame'>\n",
            "RangeIndex: 140000 entries, 0 to 139999\n",
            "Data columns (total 31 columns):\n",
            " #   Column                  Non-Null Count   Dtype  \n",
            "---  ------                  --------------   -----  \n",
            " 0   source_year             140000 non-null  int64  \n",
            " 1   year                    140000 non-null  int64  \n",
            " 2   month                   140000 non-null  int64  \n",
            " 3   day                     8654 non-null    float64\n",
            " 4   wday                    131346 non-null  float64\n",
            " 5   state                   16896 non-null   object \n",
            " 6   is_male                 140000 non-null  bool   \n",
            " 7   child_race              15932 non-null   float64\n",
            " 8   weight_pounds           139862 non-null  float64\n",
            " 9   plurality               139218 non-null  float64\n",
            " 10  apgar_1min              12968 non-null   float64\n",
            " 11  apgar_5min              128067 non-null  float64\n",
            " 12  mother_residence_state  16896 non-null   object \n",
            " 13  mother_race             75675 non-null   float64\n",
            " 14  mother_age              140000 non-null  int64  \n",
            " 15  gestation_weeks         137699 non-null  float64\n",
            " 16  lmp                     140000 non-null  object \n",
            " 17  mother_married          139988 non-null  object \n",
            " 18  mother_birth_state      16253 non-null   object \n",
            " 19  cigarette_use           58424 non-null   object \n",
            " 20  cigarettes_per_day      5768 non-null    float64\n",
            " 21  alcohol_use             65679 non-null   object \n",
            " 22  drinks_per_week         3597 non-null    float64\n",
            " 23  weight_gain_pounds      128822 non-null  float64\n",
            " 24  born_alive_alive        46410 non-null   float64\n",
            " 25  born_alive_dead         46377 non-null   float64\n",
            " 26  born_dead               46348 non-null   float64\n",
            " 27  ever_born               139277 non-null  float64\n",
            " 28  father_race             75675 non-null   float64\n",
            " 29  father_age              140000 non-null  int64  \n",
            " 30  record_weight           140000 non-null  int64  \n",
            "dtypes: bool(1), float64(17), int64(6), object(7)\n",
            "memory usage: 32.2+ MB\n"
          ]
        }
      ]
    },
    {
      "cell_type": "markdown",
      "source": [],
      "metadata": {
        "id": "XmdRvUyvB02_"
      }
    },
    {
      "cell_type": "code",
      "source": [
        "df.groupBy('alcohol_use','drinks_per_week').count().show()"
      ],
      "metadata": {
        "id": "e9sDabrRisYa",
        "outputId": "08cb0da7-0d30-49b0-9fa1-882dece75191",
        "colab": {
          "base_uri": "https://localhost:8080/"
        }
      },
      "execution_count": 32,
      "outputs": [
        {
          "output_type": "stream",
          "name": "stdout",
          "text": [
            "+-----------+---------------+-----+\n",
            "|alcohol_use|drinks_per_week|count|\n",
            "+-----------+---------------+-----+\n",
            "|       NULL|           NULL|16291|\n",
            "|       true|              3|    5|\n",
            "|       true|              2|    7|\n",
            "|       true|              4|    4|\n",
            "|       true|              7|    4|\n",
            "|       true|             99|   31|\n",
            "|       true|              5|    2|\n",
            "|       true|              1|   20|\n",
            "|       true|              0| 1752|\n",
            "|      false|           NULL|15815|\n",
            "+-----------+---------------+-----+\n",
            "\n"
          ]
        }
      ]
    },
    {
      "cell_type": "code",
      "source": [
        "df.groupBy('child_race','weight_pounds').count().show()"
      ],
      "metadata": {
        "id": "v-h9vSPIjq_m",
        "outputId": "992a7dde-7e14-4d49-d5a8-a818ab434aa4",
        "colab": {
          "base_uri": "https://localhost:8080/"
        }
      },
      "execution_count": 33,
      "outputs": [
        {
          "output_type": "stream",
          "name": "stdout",
          "text": [
            "+----------+--------------+-----+\n",
            "|child_race| weight_pounds|count|\n",
            "+----------+--------------+-----+\n",
            "|      NULL|  7.6720867176|   42|\n",
            "|      NULL|  7.2642315329|   28|\n",
            "|      NULL| 6.86960408392|    7|\n",
            "|      NULL| 7.63019888782|    5|\n",
            "|      NULL|  8.7743980276|   22|\n",
            "|      NULL| 4.15130439346|    1|\n",
            "|      NULL|  6.4705673897|   19|\n",
            "|      NULL| 5.80697598108|    1|\n",
            "|      NULL| 6.56536616236|    3|\n",
            "|      NULL| 6.66236955764|    2|\n",
            "|      NULL| 6.40001946586|    4|\n",
            "|      NULL| 9.19548094802|    2|\n",
            "|      NULL|  8.5429126525|   12|\n",
            "|      NULL| 5.47407796546|    1|\n",
            "|      NULL| 8.97722330864|    2|\n",
            "|      NULL| 8.55173114298|    4|\n",
            "|      NULL| 9.19107170278|    2|\n",
            "|      NULL|10.00237282694|    1|\n",
            "|      NULL| 5.87091003706|    2|\n",
            "|      NULL| 5.95689031924|    1|\n",
            "+----------+--------------+-----+\n",
            "only showing top 20 rows\n",
            "\n"
          ]
        }
      ]
    },
    {
      "cell_type": "markdown",
      "source": [],
      "metadata": {
        "id": "YvoggOho-SSV"
      }
    },
    {
      "cell_type": "code",
      "source": [
        "arr=df.drop('source_year','mother_birth_state','father_race','mother_residence_state','mother_married')"
      ],
      "metadata": {
        "id": "Uj2PQ_4gvbVm"
      },
      "execution_count": 34,
      "outputs": []
    },
    {
      "cell_type": "code",
      "source": [
        "arr1=arr.withColumn('lmp',to_date(col('lmp'),'MMddyyyy'))\n"
      ],
      "metadata": {
        "id": "DigWw9wl5nvB"
      },
      "execution_count": 35,
      "outputs": []
    },
    {
      "cell_type": "code",
      "source": [
        "arr2=arr1.withColumn('weight_pounds',round(col('weight_pounds'),2))"
      ],
      "metadata": {
        "id": "WRrZXConAyvc"
      },
      "execution_count": 36,
      "outputs": []
    },
    {
      "cell_type": "code",
      "source": [
        "null_remove=arr2.na.drop(subset=['lmp'])"
      ],
      "metadata": {
        "id": "8izI4jFBEB1T"
      },
      "execution_count": 37,
      "outputs": []
    },
    {
      "cell_type": "code",
      "source": [
        "null_remove.na.fill(value='UNKNOWN',subset=['day'])"
      ],
      "metadata": {
        "id": "-P2hSjU2GmJJ",
        "outputId": "a69f0024-c8b1-4e24-c400-84304b14b45a",
        "colab": {
          "base_uri": "https://localhost:8080/"
        }
      },
      "execution_count": 60,
      "outputs": [
        {
          "output_type": "execute_result",
          "data": {
            "text/plain": [
              "DataFrame[year: string, month: string, day: string, wday: string, state: string, is_male: string, child_race: string, weight_pounds: double, plurality: string, apgar_1min: int, apgar_5min: string, mother_race: string, mother_age: string, gestation_weeks: string, lmp: date, cigarette_use: string, cigarettes_per_day: string, alcohol_use: string, drinks_per_week: string, weight_gain_pounds: string, born_alive_alive: string, born_alive_dead: string, born_dead: string, ever_born: string, father_age: string, record_weight: string]"
            ]
          },
          "metadata": {},
          "execution_count": 60
        }
      ]
    },
    {
      "cell_type": "code",
      "source": [
        "col=len(null_remove.dtypes)\n"
      ],
      "metadata": {
        "id": "d6k3w2Y8G-9h"
      },
      "execution_count": 61,
      "outputs": []
    },
    {
      "cell_type": "code",
      "source": [
        "arr5=null_remove.withColumn('cigarettes_per_day',null_remove['cigarettes_per_day'].cast(IntegerType()))\n",
        "arr6=arr5.withColumn('drinks_per_week',null_remove['drinks_per_week'].cast(IntegerType()))\n",
        "arr7=arr6.na.fill(value=0,subset=['cigarettes_per_day'])\n",
        "\n"
      ],
      "metadata": {
        "id": "swlhhKq9a61m"
      },
      "execution_count": 62,
      "outputs": []
    },
    {
      "cell_type": "code",
      "source": [
        "arr7.na.fill(value=0,subset=['drinks_per_week'])\n"
      ],
      "metadata": {
        "id": "aDPDTPpJcFqH",
        "outputId": "04924d2a-89ca-46de-844d-c61392d0e693",
        "colab": {
          "base_uri": "https://localhost:8080/"
        }
      },
      "execution_count": 63,
      "outputs": [
        {
          "output_type": "execute_result",
          "data": {
            "text/plain": [
              "DataFrame[year: string, month: string, day: string, wday: string, state: string, is_male: string, child_race: string, weight_pounds: double, plurality: string, apgar_1min: int, apgar_5min: string, mother_race: string, mother_age: string, gestation_weeks: string, lmp: date, cigarette_use: string, cigarettes_per_day: int, alcohol_use: string, drinks_per_week: int, weight_gain_pounds: string, born_alive_alive: string, born_alive_dead: string, born_dead: string, ever_born: string, father_age: string, record_weight: string]"
            ]
          },
          "metadata": {},
          "execution_count": 63
        }
      ]
    },
    {
      "cell_type": "code",
      "source": [
        "arr7=arr7.withColumn(\"month\", arr7[\"month\"].cast(\"integer\"))\n",
        "arr7"
      ],
      "metadata": {
        "colab": {
          "base_uri": "https://localhost:8080/"
        },
        "id": "pYrgF2wStxFv",
        "outputId": "4d64ae34-b3e9-40f2-9ebd-d3da70290b55"
      },
      "execution_count": 68,
      "outputs": [
        {
          "output_type": "execute_result",
          "data": {
            "text/plain": [
              "DataFrame[year: string, month: int, day: string, wday: string, state: string, is_male: string, child_race: string, weight_pounds: double, plurality: string, apgar_1min: int, apgar_5min: string, mother_race: string, mother_age: string, gestation_weeks: string, lmp: date, cigarette_use: string, cigarettes_per_day: int, alcohol_use: string, drinks_per_week: int, weight_gain_pounds: string, born_alive_alive: string, born_alive_dead: string, born_dead: string, ever_born: string, father_age: string, record_weight: string]"
            ]
          },
          "metadata": {},
          "execution_count": 68
        }
      ]
    },
    {
      "cell_type": "code",
      "source": [
        "arr7=arr7.withColumn(\"year\", arr7[\"year\"].cast(\"integer\"))\n",
        "arr7"
      ],
      "metadata": {
        "colab": {
          "base_uri": "https://localhost:8080/"
        },
        "id": "LTSn3_0BuV8D",
        "outputId": "12c6f616-51b3-470f-80a8-43e2e0144b48"
      },
      "execution_count": 69,
      "outputs": [
        {
          "output_type": "execute_result",
          "data": {
            "text/plain": [
              "DataFrame[year: int, month: int, day: string, wday: string, state: string, is_male: string, child_race: string, weight_pounds: double, plurality: string, apgar_1min: int, apgar_5min: string, mother_race: string, mother_age: string, gestation_weeks: string, lmp: date, cigarette_use: string, cigarettes_per_day: int, alcohol_use: string, drinks_per_week: int, weight_gain_pounds: string, born_alive_alive: string, born_alive_dead: string, born_dead: string, ever_born: string, father_age: string, record_weight: string]"
            ]
          },
          "metadata": {},
          "execution_count": 69
        }
      ]
    },
    {
      "cell_type": "code",
      "source": [
        "arr7=arr7.withColumn(\"wday\", arr7[\"wday\"].cast(\"integer\"))\n",
        "arr7"
      ],
      "metadata": {
        "colab": {
          "base_uri": "https://localhost:8080/"
        },
        "id": "cSTfpiFDwkn1",
        "outputId": "0b8548d0-da05-4858-d2f5-90d39f0012b9"
      },
      "execution_count": 70,
      "outputs": [
        {
          "output_type": "execute_result",
          "data": {
            "text/plain": [
              "DataFrame[year: int, month: int, day: string, wday: int, state: string, is_male: string, child_race: string, weight_pounds: double, plurality: string, apgar_1min: int, apgar_5min: string, mother_race: string, mother_age: string, gestation_weeks: string, lmp: date, cigarette_use: string, cigarettes_per_day: int, alcohol_use: string, drinks_per_week: int, weight_gain_pounds: string, born_alive_alive: string, born_alive_dead: string, born_dead: string, ever_born: string, father_age: string, record_weight: string]"
            ]
          },
          "metadata": {},
          "execution_count": 70
        }
      ]
    },
    {
      "cell_type": "code",
      "source": [
        "arr7=arr7.withColumn(\"plurality\", arr7[\"plurality\"].cast(\"integer\"))\n",
        "arr7"
      ],
      "metadata": {
        "colab": {
          "base_uri": "https://localhost:8080/"
        },
        "id": "PJJgIMnxw84o",
        "outputId": "a15d8bd1-e65f-46f7-df8c-2d43ba0fe5e0"
      },
      "execution_count": 71,
      "outputs": [
        {
          "output_type": "execute_result",
          "data": {
            "text/plain": [
              "DataFrame[year: int, month: int, day: string, wday: int, state: string, is_male: string, child_race: string, weight_pounds: double, plurality: int, apgar_1min: int, apgar_5min: string, mother_race: string, mother_age: string, gestation_weeks: string, lmp: date, cigarette_use: string, cigarettes_per_day: int, alcohol_use: string, drinks_per_week: int, weight_gain_pounds: string, born_alive_alive: string, born_alive_dead: string, born_dead: string, ever_born: string, father_age: string, record_weight: string]"
            ]
          },
          "metadata": {},
          "execution_count": 71
        }
      ]
    },
    {
      "cell_type": "code",
      "source": [
        "arr7=arr7.withColumn(\"apgar_5min\", arr7[\"apgar_5min\"].cast(\"integer\"))\n",
        "arr7"
      ],
      "metadata": {
        "colab": {
          "base_uri": "https://localhost:8080/"
        },
        "id": "XcUqz-tbx8AI",
        "outputId": "e71bed2d-51f9-45fa-adb1-3bc1f14dca2c"
      },
      "execution_count": 72,
      "outputs": [
        {
          "output_type": "execute_result",
          "data": {
            "text/plain": [
              "DataFrame[year: int, month: int, day: string, wday: int, state: string, is_male: string, child_race: string, weight_pounds: double, plurality: int, apgar_1min: int, apgar_5min: int, mother_race: string, mother_age: string, gestation_weeks: string, lmp: date, cigarette_use: string, cigarettes_per_day: int, alcohol_use: string, drinks_per_week: int, weight_gain_pounds: string, born_alive_alive: string, born_alive_dead: string, born_dead: string, ever_born: string, father_age: string, record_weight: string]"
            ]
          },
          "metadata": {},
          "execution_count": 72
        }
      ]
    },
    {
      "cell_type": "code",
      "source": [
        "arr7=arr7.withColumn(\"mother_race\", arr7[\"mother_race\"].cast(\"integer\"))\n",
        "arr7"
      ],
      "metadata": {
        "colab": {
          "base_uri": "https://localhost:8080/"
        },
        "id": "Zb6Rs7euyNQ_",
        "outputId": "44f47919-3207-4a8e-d4e6-8b15d3d028d6"
      },
      "execution_count": 73,
      "outputs": [
        {
          "output_type": "execute_result",
          "data": {
            "text/plain": [
              "DataFrame[year: int, month: int, day: string, wday: int, state: string, is_male: string, child_race: string, weight_pounds: double, plurality: int, apgar_1min: int, apgar_5min: int, mother_race: int, mother_age: string, gestation_weeks: string, lmp: date, cigarette_use: string, cigarettes_per_day: int, alcohol_use: string, drinks_per_week: int, weight_gain_pounds: string, born_alive_alive: string, born_alive_dead: string, born_dead: string, ever_born: string, father_age: string, record_weight: string]"
            ]
          },
          "metadata": {},
          "execution_count": 73
        }
      ]
    },
    {
      "cell_type": "code",
      "source": [
        "arr7=arr7.withColumn(\"mother_age\", arr7[\"mother_age\"].cast(\"integer\"))\n",
        "arr7"
      ],
      "metadata": {
        "colab": {
          "base_uri": "https://localhost:8080/"
        },
        "id": "dxKKOdIJyfBn",
        "outputId": "5fda151f-09e3-4e96-8256-314df661e261"
      },
      "execution_count": 74,
      "outputs": [
        {
          "output_type": "execute_result",
          "data": {
            "text/plain": [
              "DataFrame[year: int, month: int, day: string, wday: int, state: string, is_male: string, child_race: string, weight_pounds: double, plurality: int, apgar_1min: int, apgar_5min: int, mother_race: int, mother_age: int, gestation_weeks: string, lmp: date, cigarette_use: string, cigarettes_per_day: int, alcohol_use: string, drinks_per_week: int, weight_gain_pounds: string, born_alive_alive: string, born_alive_dead: string, born_dead: string, ever_born: string, father_age: string, record_weight: string]"
            ]
          },
          "metadata": {},
          "execution_count": 74
        }
      ]
    },
    {
      "cell_type": "code",
      "source": [
        "arr7=arr7.withColumn(\"gestation_weeks\", arr7[\"gestation_weeks\"].cast(\"integer\"))\n",
        "arr7"
      ],
      "metadata": {
        "colab": {
          "base_uri": "https://localhost:8080/"
        },
        "id": "AXEtzB8nyqB7",
        "outputId": "46a305cc-673a-4224-971d-3e317a893142"
      },
      "execution_count": 75,
      "outputs": [
        {
          "output_type": "execute_result",
          "data": {
            "text/plain": [
              "DataFrame[year: int, month: int, day: string, wday: int, state: string, is_male: string, child_race: string, weight_pounds: double, plurality: int, apgar_1min: int, apgar_5min: int, mother_race: int, mother_age: int, gestation_weeks: int, lmp: date, cigarette_use: string, cigarettes_per_day: int, alcohol_use: string, drinks_per_week: int, weight_gain_pounds: string, born_alive_alive: string, born_alive_dead: string, born_dead: string, ever_born: string, father_age: string, record_weight: string]"
            ]
          },
          "metadata": {},
          "execution_count": 75
        }
      ]
    },
    {
      "cell_type": "code",
      "source": [
        "arr7=arr7.withColumn(\"weight_gain_pounds\", arr7[\"weight_gain_pounds\"].cast(\"integer\"))\n",
        "arr7"
      ],
      "metadata": {
        "colab": {
          "base_uri": "https://localhost:8080/"
        },
        "id": "uDbTy85SyxTa",
        "outputId": "70962ca2-a364-4602-f40a-e45554b7c0d5"
      },
      "execution_count": 76,
      "outputs": [
        {
          "output_type": "execute_result",
          "data": {
            "text/plain": [
              "DataFrame[year: int, month: int, day: string, wday: int, state: string, is_male: string, child_race: string, weight_pounds: double, plurality: int, apgar_1min: int, apgar_5min: int, mother_race: int, mother_age: int, gestation_weeks: int, lmp: date, cigarette_use: string, cigarettes_per_day: int, alcohol_use: string, drinks_per_week: int, weight_gain_pounds: int, born_alive_alive: string, born_alive_dead: string, born_dead: string, ever_born: string, father_age: string, record_weight: string]"
            ]
          },
          "metadata": {},
          "execution_count": 76
        }
      ]
    },
    {
      "cell_type": "code",
      "source": [
        "arr7=arr7.withColumn(\"born_alive_alive\", arr7[\"born_alive_alive\"].cast(\"integer\"))\n",
        "arr7"
      ],
      "metadata": {
        "colab": {
          "base_uri": "https://localhost:8080/"
        },
        "id": "gFSe2vVhzM3-",
        "outputId": "ac1301c8-1974-483f-a5aa-dcf737a6e455"
      },
      "execution_count": 77,
      "outputs": [
        {
          "output_type": "execute_result",
          "data": {
            "text/plain": [
              "DataFrame[year: int, month: int, day: string, wday: int, state: string, is_male: string, child_race: string, weight_pounds: double, plurality: int, apgar_1min: int, apgar_5min: int, mother_race: int, mother_age: int, gestation_weeks: int, lmp: date, cigarette_use: string, cigarettes_per_day: int, alcohol_use: string, drinks_per_week: int, weight_gain_pounds: int, born_alive_alive: int, born_alive_dead: string, born_dead: string, ever_born: string, father_age: string, record_weight: string]"
            ]
          },
          "metadata": {},
          "execution_count": 77
        }
      ]
    },
    {
      "cell_type": "code",
      "source": [
        "arr7=arr7.withColumn(\"born_alive_dead\", arr7[\"born_alive_dead\"].cast(\"integer\"))\n",
        "arr7"
      ],
      "metadata": {
        "colab": {
          "base_uri": "https://localhost:8080/"
        },
        "id": "IkfzilDnzb9P",
        "outputId": "a54d9ed7-fde2-4cf1-be9e-b2a15c2690f1"
      },
      "execution_count": 78,
      "outputs": [
        {
          "output_type": "execute_result",
          "data": {
            "text/plain": [
              "DataFrame[year: int, month: int, day: string, wday: int, state: string, is_male: string, child_race: string, weight_pounds: double, plurality: int, apgar_1min: int, apgar_5min: int, mother_race: int, mother_age: int, gestation_weeks: int, lmp: date, cigarette_use: string, cigarettes_per_day: int, alcohol_use: string, drinks_per_week: int, weight_gain_pounds: int, born_alive_alive: int, born_alive_dead: int, born_dead: string, ever_born: string, father_age: string, record_weight: string]"
            ]
          },
          "metadata": {},
          "execution_count": 78
        }
      ]
    },
    {
      "cell_type": "code",
      "source": [
        "arr7=arr7.withColumn(\"born_dead\", arr7[\"born_dead\"].cast(\"integer\"))\n",
        "arr7"
      ],
      "metadata": {
        "colab": {
          "base_uri": "https://localhost:8080/"
        },
        "id": "QCz0Ce3Hzkw0",
        "outputId": "d2358f9e-66a3-425d-8bf4-819a3ff5c578"
      },
      "execution_count": 79,
      "outputs": [
        {
          "output_type": "execute_result",
          "data": {
            "text/plain": [
              "DataFrame[year: int, month: int, day: string, wday: int, state: string, is_male: string, child_race: string, weight_pounds: double, plurality: int, apgar_1min: int, apgar_5min: int, mother_race: int, mother_age: int, gestation_weeks: int, lmp: date, cigarette_use: string, cigarettes_per_day: int, alcohol_use: string, drinks_per_week: int, weight_gain_pounds: int, born_alive_alive: int, born_alive_dead: int, born_dead: int, ever_born: string, father_age: string, record_weight: string]"
            ]
          },
          "metadata": {},
          "execution_count": 79
        }
      ]
    },
    {
      "cell_type": "code",
      "source": [
        "arr7=arr7.withColumn(\"ever_born\", arr7[\"ever_born\"].cast(\"integer\"))\n",
        "arr7"
      ],
      "metadata": {
        "colab": {
          "base_uri": "https://localhost:8080/"
        },
        "id": "_BgKhQLYzwe8",
        "outputId": "39b4d8de-f0b4-4e65-9222-bb0479ff4422"
      },
      "execution_count": 80,
      "outputs": [
        {
          "output_type": "execute_result",
          "data": {
            "text/plain": [
              "DataFrame[year: int, month: int, day: string, wday: int, state: string, is_male: string, child_race: string, weight_pounds: double, plurality: int, apgar_1min: int, apgar_5min: int, mother_race: int, mother_age: int, gestation_weeks: int, lmp: date, cigarette_use: string, cigarettes_per_day: int, alcohol_use: string, drinks_per_week: int, weight_gain_pounds: int, born_alive_alive: int, born_alive_dead: int, born_dead: int, ever_born: int, father_age: string, record_weight: string]"
            ]
          },
          "metadata": {},
          "execution_count": 80
        }
      ]
    },
    {
      "cell_type": "code",
      "source": [
        "arr7=arr7.withColumn(\"father_age\", arr7[\"father_age\"].cast(\"integer\"))\n",
        "arr7"
      ],
      "metadata": {
        "colab": {
          "base_uri": "https://localhost:8080/"
        },
        "id": "SHARrxacz3l3",
        "outputId": "231e046e-37cc-4e5f-a1a6-51ec4f73b445"
      },
      "execution_count": 81,
      "outputs": [
        {
          "output_type": "execute_result",
          "data": {
            "text/plain": [
              "DataFrame[year: int, month: int, day: string, wday: int, state: string, is_male: string, child_race: string, weight_pounds: double, plurality: int, apgar_1min: int, apgar_5min: int, mother_race: int, mother_age: int, gestation_weeks: int, lmp: date, cigarette_use: string, cigarettes_per_day: int, alcohol_use: string, drinks_per_week: int, weight_gain_pounds: int, born_alive_alive: int, born_alive_dead: int, born_dead: int, ever_born: int, father_age: int, record_weight: string]"
            ]
          },
          "metadata": {},
          "execution_count": 81
        }
      ]
    },
    {
      "cell_type": "code",
      "source": [
        "arr7=arr7.withColumn(\"record_weight\", arr7[\"record_weight\"].cast(\"integer\"))\n",
        "arr7"
      ],
      "metadata": {
        "colab": {
          "base_uri": "https://localhost:8080/"
        },
        "id": "2aa_6Pm8z9zV",
        "outputId": "60e1c093-e118-4e56-e534-b71e45f75dfa"
      },
      "execution_count": 82,
      "outputs": [
        {
          "output_type": "execute_result",
          "data": {
            "text/plain": [
              "DataFrame[year: int, month: int, day: string, wday: int, state: string, is_male: string, child_race: string, weight_pounds: double, plurality: int, apgar_1min: int, apgar_5min: int, mother_race: int, mother_age: int, gestation_weeks: int, lmp: date, cigarette_use: string, cigarettes_per_day: int, alcohol_use: string, drinks_per_week: int, weight_gain_pounds: int, born_alive_alive: int, born_alive_dead: int, born_dead: int, ever_born: int, father_age: int, record_weight: int]"
            ]
          },
          "metadata": {},
          "execution_count": 82
        }
      ]
    },
    {
      "cell_type": "code",
      "source": [
        "arr7=arr7.withColumn(\"day\", arr7[\"day\"].cast(\"integer\"))\n",
        "arr7"
      ],
      "metadata": {
        "colab": {
          "base_uri": "https://localhost:8080/"
        },
        "id": "cvakX9m21bVg",
        "outputId": "8829d4c2-6d36-4ce6-b5d4-6d084b6f98bf"
      },
      "execution_count": 84,
      "outputs": [
        {
          "output_type": "execute_result",
          "data": {
            "text/plain": [
              "DataFrame[year: int, month: int, day: int, wday: int, state: string, is_male: string, child_race: string, weight_pounds: double, plurality: int, apgar_1min: int, apgar_5min: int, mother_race: int, mother_age: int, gestation_weeks: int, lmp: date, cigarette_use: string, cigarettes_per_day: int, alcohol_use: string, drinks_per_week: int, weight_gain_pounds: int, born_alive_alive: int, born_alive_dead: int, born_dead: int, ever_born: int, father_age: int, record_weight: int]"
            ]
          },
          "metadata": {},
          "execution_count": 84
        }
      ]
    },
    {
      "cell_type": "code",
      "source": [
        "arr7=arr7.withColumn(\"weight_gain_pounds\", arr7[\"weight_gain_pounds\"].cast(\"double\"))\n",
        "arr7"
      ],
      "metadata": {
        "colab": {
          "base_uri": "https://localhost:8080/"
        },
        "id": "oeqng4GB2YrL",
        "outputId": "f2a257d2-aba0-4109-b0d4-9c0ad59636df"
      },
      "execution_count": 85,
      "outputs": [
        {
          "output_type": "execute_result",
          "data": {
            "text/plain": [
              "DataFrame[year: int, month: int, day: int, wday: int, state: string, is_male: string, child_race: string, weight_pounds: double, plurality: int, apgar_1min: int, apgar_5min: int, mother_race: int, mother_age: int, gestation_weeks: int, lmp: date, cigarette_use: string, cigarettes_per_day: int, alcohol_use: string, drinks_per_week: int, weight_gain_pounds: double, born_alive_alive: int, born_alive_dead: int, born_dead: int, ever_born: int, father_age: int, record_weight: int]"
            ]
          },
          "metadata": {},
          "execution_count": 85
        }
      ]
    }
  ],
  "metadata": {
    "colab": {
      "name": "Welcome To Colab",
      "provenance": [],
      "include_colab_link": true
    },
    "kernelspec": {
      "display_name": "Python 3",
      "name": "python3"
    }
  },
  "nbformat": 4,
  "nbformat_minor": 0
}