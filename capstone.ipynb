{
  "cells": [
    {
      "cell_type": "markdown",
      "metadata": {
        "id": "view-in-github",
        "colab_type": "text"
      },
      "source": [
        "<a href=\"https://colab.research.google.com/github/Nikhilsai-123/dailyassesment/blob/main/capstone.ipynb\" target=\"_parent\"><img src=\"https://colab.research.google.com/assets/colab-badge.svg\" alt=\"Open In Colab\"/></a>"
      ]
    },
    {
      "cell_type": "code",
      "source": [
        "!pip install pyspark"
      ],
      "metadata": {
        "id": "ddUPgd0IoRps",
        "outputId": "b178e874-e851-46bf-dcd8-e9f3730374d3",
        "colab": {
          "base_uri": "https://localhost:8080/"
        }
      },
      "execution_count": 2,
      "outputs": [
        {
          "output_type": "stream",
          "name": "stdout",
          "text": [
            "Collecting pyspark\n",
            "  Downloading pyspark-3.5.2.tar.gz (317.3 MB)\n",
            "\u001b[2K     \u001b[90m━━━━━━━━━━━━━━━━━━━━━━━━━━━━━━━━━━━━━━━━\u001b[0m \u001b[32m317.3/317.3 MB\u001b[0m \u001b[31m4.4 MB/s\u001b[0m eta \u001b[36m0:00:00\u001b[0m\n",
            "\u001b[?25h  Preparing metadata (setup.py) ... \u001b[?25l\u001b[?25hdone\n",
            "Requirement already satisfied: py4j==0.10.9.7 in /usr/local/lib/python3.10/dist-packages (from pyspark) (0.10.9.7)\n",
            "Building wheels for collected packages: pyspark\n",
            "  Building wheel for pyspark (setup.py) ... \u001b[?25l\u001b[?25hdone\n",
            "  Created wheel for pyspark: filename=pyspark-3.5.2-py2.py3-none-any.whl size=317812365 sha256=8912cbce7501453e0aefb9b8b4c3a880a532cca13abbd3d9e0c6efa8c2876fef\n",
            "  Stored in directory: /root/.cache/pip/wheels/34/34/bd/03944534c44b677cd5859f248090daa9fb27b3c8f8e5f49574\n",
            "Successfully built pyspark\n",
            "Installing collected packages: pyspark\n",
            "Successfully installed pyspark-3.5.2\n"
          ]
        }
      ]
    },
    {
      "cell_type": "code",
      "source": [
        "from pyspark.sql import SparkSession\n",
        "from pyspark.sql.functions import *\n",
        "from pyspark.sql.types import *"
      ],
      "metadata": {
        "id": "x4VQ23s6oRsm"
      },
      "execution_count": 41,
      "outputs": []
    },
    {
      "cell_type": "code",
      "source": [
        "spark=SparkSession.builder.appName('practice').getOrCreate()\n",
        "df=spark.read.option('header','true').csv('natality-1.4L.csv')\n"
      ],
      "metadata": {
        "id": "owBFjiOMoRvg"
      },
      "execution_count": 5,
      "outputs": []
    },
    {
      "cell_type": "code",
      "source": [
        "df"
      ],
      "metadata": {
        "id": "JUu7Z8H5oRyX",
        "outputId": "a08e5421-f1e1-4963-a23e-6fdae8a2ae45",
        "colab": {
          "base_uri": "https://localhost:8080/"
        }
      },
      "execution_count": 13,
      "outputs": [
        {
          "output_type": "execute_result",
          "data": {
            "text/plain": [
              "DataFrame[source_year: string, year: string, month: string, day: string, wday: string, state: string, is_male: string, child_race: string, weight_pounds: string, plurality: string, apgar_1min: string, apgar_5min: string, mother_residence_state: string, mother_race: string, mother_age: string, gestation_weeks: string, lmp: string, mother_married: string, mother_birth_state: string, cigarette_use: string, cigarettes_per_day: string, alcohol_use: string, drinks_per_week: string, weight_gain_pounds: string, born_alive_alive: string, born_alive_dead: string, born_dead: string, ever_born: string, father_race: string, father_age: string, record_weight: string]"
            ]
          },
          "metadata": {},
          "execution_count": 13
        }
      ]
    },
    {
      "cell_type": "code",
      "source": [
        "import pandas as pd\n"
      ],
      "metadata": {
        "id": "lyL83P0buKHF"
      },
      "execution_count": 13,
      "outputs": []
    },
    {
      "cell_type": "code",
      "source": [
        "arr=pd.read_csv('natality-1.4L.csv')"
      ],
      "metadata": {
        "id": "sgen-EfWoR1I",
        "outputId": "eb2beed1-9a2b-437d-afc2-77c88a8f8d11",
        "colab": {
          "base_uri": "https://localhost:8080/"
        }
      },
      "execution_count": 14,
      "outputs": [
        {
          "output_type": "stream",
          "name": "stderr",
          "text": [
            "<ipython-input-14-b3ddbf883d82>:1: DtypeWarning: Columns (5,12,16,17,18) have mixed types. Specify dtype option on import or set low_memory=False.\n",
            "  arr=pd.read_csv('natality-1.4L.csv')\n"
          ]
        }
      ]
    },
    {
      "cell_type": "code",
      "source": [
        "arr"
      ],
      "metadata": {
        "id": "SxKOixNNoR31"
      },
      "execution_count": 22,
      "outputs": []
    },
    {
      "cell_type": "code",
      "source": [
        "arr1=df.groupBy('month').count()\n",
        "arr1.show()"
      ],
      "metadata": {
        "id": "VkL8AjP2oR6n",
        "outputId": "8403b4a6-c606-4d1b-9864-b2cae7442961",
        "colab": {
          "base_uri": "https://localhost:8080/"
        }
      },
      "execution_count": 16,
      "outputs": [
        {
          "output_type": "stream",
          "name": "stdout",
          "text": [
            "+-----+-----+\n",
            "|month|count|\n",
            "+-----+-----+\n",
            "|    7|12321|\n",
            "|   11|11367|\n",
            "|    3|11681|\n",
            "|    8|12458|\n",
            "|    5|11684|\n",
            "|    6|11723|\n",
            "|    9|11995|\n",
            "|    1|11559|\n",
            "|   10|11671|\n",
            "|    4|11198|\n",
            "|   12|11669|\n",
            "|    2|10674|\n",
            "+-----+-----+\n",
            "\n"
          ]
        }
      ]
    },
    {
      "cell_type": "code",
      "source": [
        "arr.isnull().sum()"
      ],
      "metadata": {
        "id": "lXhql28coR9l",
        "outputId": "c6717d8b-4e89-46fe-c69d-ee60eb09310c",
        "colab": {
          "base_uri": "https://localhost:8080/",
          "height": 1000
        }
      },
      "execution_count": 17,
      "outputs": [
        {
          "output_type": "execute_result",
          "data": {
            "text/plain": [
              "source_year                    0\n",
              "year                           0\n",
              "month                          0\n",
              "day                       131346\n",
              "wday                        8654\n",
              "state                     123104\n",
              "is_male                        0\n",
              "child_race                124068\n",
              "weight_pounds                138\n",
              "plurality                    782\n",
              "apgar_1min                127032\n",
              "apgar_5min                 11933\n",
              "mother_residence_state    123104\n",
              "mother_race                64325\n",
              "mother_age                     0\n",
              "gestation_weeks             2301\n",
              "lmp                            0\n",
              "mother_married                12\n",
              "mother_birth_state        123747\n",
              "cigarette_use              81576\n",
              "cigarettes_per_day        134232\n",
              "alcohol_use                74321\n",
              "drinks_per_week           136403\n",
              "weight_gain_pounds         11178\n",
              "born_alive_alive           93590\n",
              "born_alive_dead            93623\n",
              "born_dead                  93652\n",
              "ever_born                    723\n",
              "father_race                64325\n",
              "father_age                     0\n",
              "record_weight                  0\n",
              "dtype: int64"
            ],
            "text/html": [
              "<div>\n",
              "<style scoped>\n",
              "    .dataframe tbody tr th:only-of-type {\n",
              "        vertical-align: middle;\n",
              "    }\n",
              "\n",
              "    .dataframe tbody tr th {\n",
              "        vertical-align: top;\n",
              "    }\n",
              "\n",
              "    .dataframe thead th {\n",
              "        text-align: right;\n",
              "    }\n",
              "</style>\n",
              "<table border=\"1\" class=\"dataframe\">\n",
              "  <thead>\n",
              "    <tr style=\"text-align: right;\">\n",
              "      <th></th>\n",
              "      <th>0</th>\n",
              "    </tr>\n",
              "  </thead>\n",
              "  <tbody>\n",
              "    <tr>\n",
              "      <th>source_year</th>\n",
              "      <td>0</td>\n",
              "    </tr>\n",
              "    <tr>\n",
              "      <th>year</th>\n",
              "      <td>0</td>\n",
              "    </tr>\n",
              "    <tr>\n",
              "      <th>month</th>\n",
              "      <td>0</td>\n",
              "    </tr>\n",
              "    <tr>\n",
              "      <th>day</th>\n",
              "      <td>131346</td>\n",
              "    </tr>\n",
              "    <tr>\n",
              "      <th>wday</th>\n",
              "      <td>8654</td>\n",
              "    </tr>\n",
              "    <tr>\n",
              "      <th>state</th>\n",
              "      <td>123104</td>\n",
              "    </tr>\n",
              "    <tr>\n",
              "      <th>is_male</th>\n",
              "      <td>0</td>\n",
              "    </tr>\n",
              "    <tr>\n",
              "      <th>child_race</th>\n",
              "      <td>124068</td>\n",
              "    </tr>\n",
              "    <tr>\n",
              "      <th>weight_pounds</th>\n",
              "      <td>138</td>\n",
              "    </tr>\n",
              "    <tr>\n",
              "      <th>plurality</th>\n",
              "      <td>782</td>\n",
              "    </tr>\n",
              "    <tr>\n",
              "      <th>apgar_1min</th>\n",
              "      <td>127032</td>\n",
              "    </tr>\n",
              "    <tr>\n",
              "      <th>apgar_5min</th>\n",
              "      <td>11933</td>\n",
              "    </tr>\n",
              "    <tr>\n",
              "      <th>mother_residence_state</th>\n",
              "      <td>123104</td>\n",
              "    </tr>\n",
              "    <tr>\n",
              "      <th>mother_race</th>\n",
              "      <td>64325</td>\n",
              "    </tr>\n",
              "    <tr>\n",
              "      <th>mother_age</th>\n",
              "      <td>0</td>\n",
              "    </tr>\n",
              "    <tr>\n",
              "      <th>gestation_weeks</th>\n",
              "      <td>2301</td>\n",
              "    </tr>\n",
              "    <tr>\n",
              "      <th>lmp</th>\n",
              "      <td>0</td>\n",
              "    </tr>\n",
              "    <tr>\n",
              "      <th>mother_married</th>\n",
              "      <td>12</td>\n",
              "    </tr>\n",
              "    <tr>\n",
              "      <th>mother_birth_state</th>\n",
              "      <td>123747</td>\n",
              "    </tr>\n",
              "    <tr>\n",
              "      <th>cigarette_use</th>\n",
              "      <td>81576</td>\n",
              "    </tr>\n",
              "    <tr>\n",
              "      <th>cigarettes_per_day</th>\n",
              "      <td>134232</td>\n",
              "    </tr>\n",
              "    <tr>\n",
              "      <th>alcohol_use</th>\n",
              "      <td>74321</td>\n",
              "    </tr>\n",
              "    <tr>\n",
              "      <th>drinks_per_week</th>\n",
              "      <td>136403</td>\n",
              "    </tr>\n",
              "    <tr>\n",
              "      <th>weight_gain_pounds</th>\n",
              "      <td>11178</td>\n",
              "    </tr>\n",
              "    <tr>\n",
              "      <th>born_alive_alive</th>\n",
              "      <td>93590</td>\n",
              "    </tr>\n",
              "    <tr>\n",
              "      <th>born_alive_dead</th>\n",
              "      <td>93623</td>\n",
              "    </tr>\n",
              "    <tr>\n",
              "      <th>born_dead</th>\n",
              "      <td>93652</td>\n",
              "    </tr>\n",
              "    <tr>\n",
              "      <th>ever_born</th>\n",
              "      <td>723</td>\n",
              "    </tr>\n",
              "    <tr>\n",
              "      <th>father_race</th>\n",
              "      <td>64325</td>\n",
              "    </tr>\n",
              "    <tr>\n",
              "      <th>father_age</th>\n",
              "      <td>0</td>\n",
              "    </tr>\n",
              "    <tr>\n",
              "      <th>record_weight</th>\n",
              "      <td>0</td>\n",
              "    </tr>\n",
              "  </tbody>\n",
              "</table>\n",
              "</div><br><label><b>dtype:</b> int64</label>"
            ]
          },
          "metadata": {},
          "execution_count": 17
        }
      ]
    },
    {
      "cell_type": "code",
      "source": [
        "arr['child_race'].head(100)\n"
      ],
      "metadata": {
        "id": "qmBCN0a9vot4",
        "outputId": "eb0c8f04-54b6-4782-e16e-c240cf72d6b0",
        "colab": {
          "base_uri": "https://localhost:8080/",
          "height": 458
        }
      },
      "execution_count": 27,
      "outputs": [
        {
          "output_type": "execute_result",
          "data": {
            "text/plain": [
              "0    NaN\n",
              "1    NaN\n",
              "2    NaN\n",
              "3    NaN\n",
              "4    NaN\n",
              "      ..\n",
              "95   NaN\n",
              "96   NaN\n",
              "97   NaN\n",
              "98   NaN\n",
              "99   NaN\n",
              "Name: child_race, Length: 100, dtype: float64"
            ],
            "text/html": [
              "<div>\n",
              "<style scoped>\n",
              "    .dataframe tbody tr th:only-of-type {\n",
              "        vertical-align: middle;\n",
              "    }\n",
              "\n",
              "    .dataframe tbody tr th {\n",
              "        vertical-align: top;\n",
              "    }\n",
              "\n",
              "    .dataframe thead th {\n",
              "        text-align: right;\n",
              "    }\n",
              "</style>\n",
              "<table border=\"1\" class=\"dataframe\">\n",
              "  <thead>\n",
              "    <tr style=\"text-align: right;\">\n",
              "      <th></th>\n",
              "      <th>child_race</th>\n",
              "    </tr>\n",
              "  </thead>\n",
              "  <tbody>\n",
              "    <tr>\n",
              "      <th>0</th>\n",
              "      <td>NaN</td>\n",
              "    </tr>\n",
              "    <tr>\n",
              "      <th>1</th>\n",
              "      <td>NaN</td>\n",
              "    </tr>\n",
              "    <tr>\n",
              "      <th>2</th>\n",
              "      <td>NaN</td>\n",
              "    </tr>\n",
              "    <tr>\n",
              "      <th>3</th>\n",
              "      <td>NaN</td>\n",
              "    </tr>\n",
              "    <tr>\n",
              "      <th>4</th>\n",
              "      <td>NaN</td>\n",
              "    </tr>\n",
              "    <tr>\n",
              "      <th>...</th>\n",
              "      <td>...</td>\n",
              "    </tr>\n",
              "    <tr>\n",
              "      <th>95</th>\n",
              "      <td>NaN</td>\n",
              "    </tr>\n",
              "    <tr>\n",
              "      <th>96</th>\n",
              "      <td>NaN</td>\n",
              "    </tr>\n",
              "    <tr>\n",
              "      <th>97</th>\n",
              "      <td>NaN</td>\n",
              "    </tr>\n",
              "    <tr>\n",
              "      <th>98</th>\n",
              "      <td>NaN</td>\n",
              "    </tr>\n",
              "    <tr>\n",
              "      <th>99</th>\n",
              "      <td>NaN</td>\n",
              "    </tr>\n",
              "  </tbody>\n",
              "</table>\n",
              "<p>100 rows × 1 columns</p>\n",
              "</div><br><label><b>dtype:</b> float64</label>"
            ]
          },
          "metadata": {},
          "execution_count": 27
        }
      ]
    },
    {
      "cell_type": "code",
      "source": [
        "arr['wday'].head(100)"
      ],
      "metadata": {
        "id": "i4TJcWQeoSAT",
        "outputId": "5b92a123-bb1d-4360-f79c-deb5b25834db",
        "colab": {
          "base_uri": "https://localhost:8080/",
          "height": 458
        }
      },
      "execution_count": 26,
      "outputs": [
        {
          "output_type": "execute_result",
          "data": {
            "text/plain": [
              "0     3.0\n",
              "1     7.0\n",
              "2     4.0\n",
              "3     4.0\n",
              "4     6.0\n",
              "     ... \n",
              "95    4.0\n",
              "96    7.0\n",
              "97    1.0\n",
              "98    1.0\n",
              "99    4.0\n",
              "Name: wday, Length: 100, dtype: float64"
            ],
            "text/html": [
              "<div>\n",
              "<style scoped>\n",
              "    .dataframe tbody tr th:only-of-type {\n",
              "        vertical-align: middle;\n",
              "    }\n",
              "\n",
              "    .dataframe tbody tr th {\n",
              "        vertical-align: top;\n",
              "    }\n",
              "\n",
              "    .dataframe thead th {\n",
              "        text-align: right;\n",
              "    }\n",
              "</style>\n",
              "<table border=\"1\" class=\"dataframe\">\n",
              "  <thead>\n",
              "    <tr style=\"text-align: right;\">\n",
              "      <th></th>\n",
              "      <th>wday</th>\n",
              "    </tr>\n",
              "  </thead>\n",
              "  <tbody>\n",
              "    <tr>\n",
              "      <th>0</th>\n",
              "      <td>3.0</td>\n",
              "    </tr>\n",
              "    <tr>\n",
              "      <th>1</th>\n",
              "      <td>7.0</td>\n",
              "    </tr>\n",
              "    <tr>\n",
              "      <th>2</th>\n",
              "      <td>4.0</td>\n",
              "    </tr>\n",
              "    <tr>\n",
              "      <th>3</th>\n",
              "      <td>4.0</td>\n",
              "    </tr>\n",
              "    <tr>\n",
              "      <th>4</th>\n",
              "      <td>6.0</td>\n",
              "    </tr>\n",
              "    <tr>\n",
              "      <th>...</th>\n",
              "      <td>...</td>\n",
              "    </tr>\n",
              "    <tr>\n",
              "      <th>95</th>\n",
              "      <td>4.0</td>\n",
              "    </tr>\n",
              "    <tr>\n",
              "      <th>96</th>\n",
              "      <td>7.0</td>\n",
              "    </tr>\n",
              "    <tr>\n",
              "      <th>97</th>\n",
              "      <td>1.0</td>\n",
              "    </tr>\n",
              "    <tr>\n",
              "      <th>98</th>\n",
              "      <td>1.0</td>\n",
              "    </tr>\n",
              "    <tr>\n",
              "      <th>99</th>\n",
              "      <td>4.0</td>\n",
              "    </tr>\n",
              "  </tbody>\n",
              "</table>\n",
              "<p>100 rows × 1 columns</p>\n",
              "</div><br><label><b>dtype:</b> float64</label>"
            ]
          },
          "metadata": {},
          "execution_count": 26
        }
      ]
    },
    {
      "cell_type": "code",
      "source": [
        "df.goupBy('drinks_per_week').count()"
      ],
      "metadata": {
        "id": "K9QjmQ0OoSC7",
        "outputId": "6671b0b6-5622-4241-b02d-324b4a10ac23",
        "colab": {
          "base_uri": "https://localhost:8080/",
          "height": 141
        }
      },
      "execution_count": 1,
      "outputs": [
        {
          "output_type": "error",
          "ename": "NameError",
          "evalue": "name 'df' is not defined",
          "traceback": [
            "\u001b[0;31m---------------------------------------------------------------------------\u001b[0m",
            "\u001b[0;31mNameError\u001b[0m                                 Traceback (most recent call last)",
            "\u001b[0;32m<ipython-input-1-aba0f649bc94>\u001b[0m in \u001b[0;36m<cell line: 1>\u001b[0;34m()\u001b[0m\n\u001b[0;32m----> 1\u001b[0;31m \u001b[0mdf\u001b[0m\u001b[0;34m[\u001b[0m\u001b[0;34m'drinks_per_week'\u001b[0m\u001b[0;34m]\u001b[0m\u001b[0;34m.\u001b[0m\u001b[0mshow\u001b[0m\u001b[0;34m(\u001b[0m\u001b[0;34m)\u001b[0m\u001b[0;34m\u001b[0m\u001b[0;34m\u001b[0m\u001b[0m\n\u001b[0m",
            "\u001b[0;31mNameError\u001b[0m: name 'df' is not defined"
          ]
        }
      ]
    },
    {
      "cell_type": "code",
      "source": [
        "arr=df.select(col('source_year')!=col('year')).show()"
      ],
      "metadata": {
        "id": "1pQyZqaEoSGa",
        "outputId": "fad7d316-c84c-4191-df4f-801a74ce954c",
        "colab": {
          "base_uri": "https://localhost:8080/"
        }
      },
      "execution_count": 17,
      "outputs": [
        {
          "output_type": "stream",
          "name": "stdout",
          "text": [
            "+--------------------------+\n",
            "|(NOT (source_year = year))|\n",
            "+--------------------------+\n",
            "|                     false|\n",
            "|                     false|\n",
            "|                     false|\n",
            "|                     false|\n",
            "|                     false|\n",
            "|                     false|\n",
            "|                     false|\n",
            "|                     false|\n",
            "|                     false|\n",
            "|                     false|\n",
            "|                     false|\n",
            "|                     false|\n",
            "|                     false|\n",
            "|                     false|\n",
            "|                     false|\n",
            "|                     false|\n",
            "|                     false|\n",
            "|                     false|\n",
            "|                     false|\n",
            "|                     false|\n",
            "+--------------------------+\n",
            "only showing top 20 rows\n",
            "\n"
          ]
        }
      ]
    },
    {
      "cell_type": "code",
      "source": [
        "arr1=df.groupBy('state').count().show()"
      ],
      "metadata": {
        "id": "AGKhoewper9L",
        "outputId": "c99aa106-1488-4ee6-d0e5-ba631f7e0219",
        "colab": {
          "base_uri": "https://localhost:8080/"
        }
      },
      "execution_count": 18,
      "outputs": [
        {
          "output_type": "stream",
          "name": "stdout",
          "text": [
            "+-----+------+\n",
            "|state| count|\n",
            "+-----+------+\n",
            "| NULL|123104|\n",
            "|   AL| 14258|\n",
            "|   AK|  2367|\n",
            "|   AR|   271|\n",
            "+-----+------+\n",
            "\n"
          ]
        }
      ]
    },
    {
      "cell_type": "markdown",
      "source": [
        "# New Section"
      ],
      "metadata": {
        "id": "zrhsPuyQoV6U"
      }
    },
    {
      "cell_type": "code",
      "source": [
        "arr.info()"
      ],
      "metadata": {
        "id": "1bPysNxViq4k",
        "outputId": "f58b3ac1-35aa-4d18-ec3b-f946ed8191c9",
        "colab": {
          "base_uri": "https://localhost:8080/",
          "height": 141
        }
      },
      "execution_count": 11,
      "outputs": [
        {
          "output_type": "error",
          "ename": "NameError",
          "evalue": "name 'arr' is not defined",
          "traceback": [
            "\u001b[0;31m---------------------------------------------------------------------------\u001b[0m",
            "\u001b[0;31mNameError\u001b[0m                                 Traceback (most recent call last)",
            "\u001b[0;32m<ipython-input-11-7b655194e0e0>\u001b[0m in \u001b[0;36m<cell line: 1>\u001b[0;34m()\u001b[0m\n\u001b[0;32m----> 1\u001b[0;31m \u001b[0marr\u001b[0m\u001b[0;34m.\u001b[0m\u001b[0minfo\u001b[0m\u001b[0;34m(\u001b[0m\u001b[0;34m)\u001b[0m\u001b[0;34m\u001b[0m\u001b[0;34m\u001b[0m\u001b[0m\n\u001b[0m",
            "\u001b[0;31mNameError\u001b[0m: name 'arr' is not defined"
          ]
        }
      ]
    },
    {
      "cell_type": "markdown",
      "source": [],
      "metadata": {
        "id": "XmdRvUyvB02_"
      }
    },
    {
      "cell_type": "code",
      "source": [
        "df.groupBy('alcohol_use','drinks_per_week').count().show()"
      ],
      "metadata": {
        "id": "e9sDabrRisYa",
        "outputId": "874db16e-35c6-4664-9957-543ac7e824ba",
        "colab": {
          "base_uri": "https://localhost:8080/"
        }
      },
      "execution_count": 20,
      "outputs": [
        {
          "output_type": "stream",
          "name": "stdout",
          "text": [
            "+-----------+---------------+-----+\n",
            "|alcohol_use|drinks_per_week|count|\n",
            "+-----------+---------------+-----+\n",
            "|       true|              9|    1|\n",
            "|       true|              6|   11|\n",
            "|       NULL|           NULL|74321|\n",
            "|       true|              3|    8|\n",
            "|       true|              8|    1|\n",
            "|       true|              2|   36|\n",
            "|       true|              4|    5|\n",
            "|       true|              7|    4|\n",
            "|       true|             99|  115|\n",
            "|       true|             10|    1|\n",
            "|       true|              5|    6|\n",
            "|       true|              1|   72|\n",
            "|       true|              0| 3335|\n",
            "|      false|           NULL|59782|\n",
            "|       true|           NULL| 2300|\n",
            "|       true|             42|    1|\n",
            "|       true|             14|    1|\n",
            "+-----------+---------------+-----+\n",
            "\n"
          ]
        }
      ]
    },
    {
      "cell_type": "code",
      "source": [
        "df.groupBy('child_race','weight_pounds').count().show()"
      ],
      "metadata": {
        "id": "v-h9vSPIjq_m",
        "outputId": "118a7265-9af0-4926-8ecc-25d836c5a01c",
        "colab": {
          "base_uri": "https://localhost:8080/"
        }
      },
      "execution_count": 28,
      "outputs": [
        {
          "output_type": "stream",
          "name": "stdout",
          "text": [
            "+----------+--------------+-----+\n",
            "|child_race| weight_pounds|count|\n",
            "+----------+--------------+-----+\n",
            "|      NULL|  7.6720867176|  149|\n",
            "|      NULL|  7.2642315329|   91|\n",
            "|      NULL| 6.86960408392|   23|\n",
            "|      NULL| 7.63019888782|   20|\n",
            "|      NULL|  8.7743980276|   66|\n",
            "|      NULL| 4.15130439346|    2|\n",
            "|      NULL|  6.4705673897|   60|\n",
            "|      NULL| 5.80697598108|    5|\n",
            "|      NULL| 6.56536616236|   17|\n",
            "|      NULL| 6.66236955764|   19|\n",
            "|      NULL| 6.40001946586|   21|\n",
            "|      NULL| 9.19548094802|    6|\n",
            "|      NULL|  8.5429126525|   56|\n",
            "|      NULL| 5.47407796546|    8|\n",
            "|      NULL| 8.97722330864|    7|\n",
            "|      NULL| 8.55173114298|    7|\n",
            "|      NULL| 9.19107170278|    3|\n",
            "|      NULL|10.00237282694|    1|\n",
            "|      NULL| 5.87091003706|    2|\n",
            "|      NULL| 5.95689031924|    5|\n",
            "+----------+--------------+-----+\n",
            "only showing top 20 rows\n",
            "\n"
          ]
        }
      ]
    },
    {
      "cell_type": "markdown",
      "source": [],
      "metadata": {
        "id": "YvoggOho-SSV"
      }
    },
    {
      "cell_type": "code",
      "source": [
        "arr=df.drop('source_year','mother_birth_state','father_race','mother_residence_state','mother_married')"
      ],
      "metadata": {
        "id": "Uj2PQ_4gvbVm"
      },
      "execution_count": 35,
      "outputs": []
    },
    {
      "cell_type": "code",
      "source": [
        "arr1=arr.withColumn('lmp',to_date(col('lmp'),'MMddyyyy'))\n"
      ],
      "metadata": {
        "id": "DigWw9wl5nvB"
      },
      "execution_count": 54,
      "outputs": []
    },
    {
      "cell_type": "code",
      "source": [],
      "metadata": {
        "id": "ze3oVgA3Ef7o"
      },
      "execution_count": null,
      "outputs": []
    },
    {
      "cell_type": "code",
      "source": [
        "arr2=arr1.withColumn('weight_pounds',round(col('weight_pounds'),2))"
      ],
      "metadata": {
        "id": "WRrZXConAyvc"
      },
      "execution_count": 61,
      "outputs": []
    },
    {
      "cell_type": "code",
      "source": [
        "x=arr2.na.drop(subset=['lmp']).show(truncate=False)"
      ],
      "metadata": {
        "id": "8izI4jFBEB1T",
        "outputId": "765fbee5-253d-4aed-eef2-f889ba27082c",
        "colab": {
          "base_uri": "https://localhost:8080/"
        }
      },
      "execution_count": 70,
      "outputs": [
        {
          "output_type": "stream",
          "name": "stdout",
          "text": [
            "+----+-----+----+----+-----+-------+----------+-------------+---------+----------+----------+-----------+----------+---------------+----------+-------------+------------------+-----------+---------------+------------------+----------------+---------------+---------+---------+----------+-------------+\n",
            "|year|month|day |wday|state|is_male|child_race|weight_pounds|plurality|apgar_1min|apgar_5min|mother_race|mother_age|gestation_weeks|lmp       |cigarette_use|cigarettes_per_day|alcohol_use|drinks_per_week|weight_gain_pounds|born_alive_alive|born_alive_dead|born_dead|ever_born|father_age|record_weight|\n",
            "+----+-----+----+----+-----+-------+----------+-------------+---------+----------+----------+-----------+----------+---------------+----------+-------------+------------------+-----------+---------------+------------------+----------------+---------------+---------+---------+----------+-------------+\n",
            "|2005|1    |NULL|3   |NULL |true   |NULL      |7.8          |1        |NULL      |NULL      |38         |30        |40             |2004-04-17|NULL         |NULL              |NULL       |NULL           |99                |5               |2              |1        |8        |24        |1            |\n",
            "|2005|5    |NULL|4   |NULL |false  |NULL      |6.12         |1        |NULL      |NULL      |7          |28        |39             |2004-08-11|NULL         |NULL              |NULL       |NULL           |99                |0               |0              |0        |1        |33        |1            |\n",
            "|2005|10   |NULL|6   |NULL |true   |NULL      |6.88         |1        |NULL      |9         |NULL       |30        |40             |2005-01-11|NULL         |NULL              |NULL       |NULL           |25                |0               |0              |1        |1        |50        |1            |\n",
            "|2005|10   |NULL|2   |NULL |true   |NULL      |6.76         |1        |NULL      |9         |NULL       |19        |38             |2005-01-10|NULL         |NULL              |NULL       |NULL           |25                |0               |0              |0        |1        |24        |1            |\n",
            "|2005|10   |NULL|2   |NULL |false  |NULL      |8.69         |1        |NULL      |9         |NULL       |27        |39             |2005-01-19|NULL         |NULL              |NULL       |NULL           |47                |0               |0              |0        |1        |30        |1            |\n",
            "|2005|9    |NULL|6   |NULL |false  |NULL      |7.0          |1        |NULL      |9         |NULL       |20        |40             |2004-12-14|NULL         |NULL              |NULL       |NULL           |42                |0               |0              |0        |1        |30        |1            |\n",
            "|2005|9    |NULL|5   |NULL |false  |NULL      |8.06         |1        |NULL      |9         |NULL       |35        |40             |2004-12-03|NULL         |NULL              |NULL       |NULL           |12                |0               |0              |0        |1        |41        |1            |\n",
            "|2005|2    |NULL|5   |NULL |false  |NULL      |7.63         |1        |NULL      |10        |NULL       |19        |40             |2004-05-13|NULL         |NULL              |NULL       |NULL           |15                |0               |0              |0        |1        |99        |1            |\n",
            "|2005|5    |NULL|3   |NULL |false  |NULL      |7.55         |1        |NULL      |9         |NULL       |32        |40             |2004-08-07|NULL         |NULL              |NULL       |NULL           |30                |0               |0              |0        |1        |42        |1            |\n",
            "|2005|1    |NULL|2   |NULL |false  |NULL      |5.89         |1        |NULL      |9         |NULL       |30        |37             |2004-05-06|NULL         |NULL              |NULL       |NULL           |31                |0               |0              |1        |1        |35        |1            |\n",
            "|2005|6    |NULL|3   |NULL |true   |NULL      |6.68         |1        |NULL      |9         |NULL       |21        |37             |2004-09-30|NULL         |NULL              |NULL       |NULL           |99                |0               |0              |1        |1        |24        |1            |\n",
            "|2005|11   |NULL|1   |NULL |true   |NULL      |6.5          |1        |NULL      |6         |NULL       |21        |34             |2005-03-20|NULL         |NULL              |NULL       |NULL           |50                |0               |0              |2        |1        |18        |1            |\n",
            "|2005|11   |NULL|6   |NULL |true   |NULL      |5.0          |1        |NULL      |9         |NULL       |18        |37             |2005-02-17|NULL         |NULL              |NULL       |NULL           |63                |0               |0              |1        |1        |24        |1            |\n",
            "|2005|4    |NULL|5   |NULL |true   |NULL      |6.81         |1        |NULL      |8         |NULL       |21        |42             |2004-06-15|NULL         |NULL              |NULL       |NULL           |58                |0               |0              |0        |1        |99        |1            |\n",
            "|2005|5    |NULL|3   |NULL |true   |NULL      |6.5          |1        |NULL      |10        |NULL       |16        |39             |2004-08-06|NULL         |NULL              |NULL       |NULL           |31                |0               |0              |0        |1        |99        |1            |\n",
            "|2005|11   |NULL|7   |NULL |false  |NULL      |6.45         |1        |NULL      |9         |NULL       |19        |38             |2005-03-02|NULL         |NULL              |NULL       |NULL           |20                |0               |0              |0        |1        |26        |1            |\n",
            "|2005|8    |NULL|2   |NULL |true   |NULL      |6.6          |1        |NULL      |9         |NULL       |20        |40             |2004-11-13|NULL         |NULL              |NULL       |NULL           |20                |0               |0              |0        |1        |25        |1            |\n",
            "|2005|9    |NULL|4   |NULL |false  |NULL      |6.38         |1        |NULL      |9         |NULL       |21        |40             |2004-12-14|NULL         |NULL              |NULL       |NULL           |53                |0               |0              |0        |1        |28        |1            |\n",
            "|2005|9    |NULL|4   |NULL |false  |NULL      |8.56         |1        |NULL      |8         |NULL       |19        |39             |2004-12-15|NULL         |NULL              |NULL       |NULL           |14                |0               |0              |0        |1        |20        |1            |\n",
            "|2005|9    |NULL|1   |NULL |true   |NULL      |7.19         |1        |NULL      |9         |NULL       |28        |39             |2004-12-24|NULL         |NULL              |NULL       |NULL           |99                |0               |0              |1        |1        |26        |1            |\n",
            "+----+-----+----+----+-----+-------+----------+-------------+---------+----------+----------+-----------+----------+---------------+----------+-------------+------------------+-----------+---------------+------------------+----------------+---------------+---------+---------+----------+-------------+\n",
            "only showing top 20 rows\n",
            "\n"
          ]
        }
      ]
    },
    {
      "cell_type": "code",
      "source": [],
      "metadata": {
        "id": "-P2hSjU2GmJJ",
        "outputId": "0275df8e-9d35-4c71-cf25-217a70d4f5d9",
        "colab": {
          "base_uri": "https://localhost:8080/",
          "height": 141
        }
      },
      "execution_count": 69,
      "outputs": [
        {
          "output_type": "error",
          "ename": "TypeError",
          "evalue": "'list' object is not callable",
          "traceback": [
            "\u001b[0;31m---------------------------------------------------------------------------\u001b[0m",
            "\u001b[0;31mTypeError\u001b[0m                                 Traceback (most recent call last)",
            "\u001b[0;32m<ipython-input-69-fe569019cb2d>\u001b[0m in \u001b[0;36m<cell line: 1>\u001b[0;34m()\u001b[0m\n\u001b[0;32m----> 1\u001b[0;31m \u001b[0mx\u001b[0m\u001b[0;34m.\u001b[0m\u001b[0mcolumns\u001b[0m\u001b[0;34m(\u001b[0m\u001b[0;34m)\u001b[0m\u001b[0;34m\u001b[0m\u001b[0;34m\u001b[0m\u001b[0m\n\u001b[0m",
            "\u001b[0;31mTypeError\u001b[0m: 'list' object is not callable"
          ]
        }
      ]
    },
    {
      "cell_type": "code",
      "source": [],
      "metadata": {
        "id": "d6k3w2Y8G-9h"
      },
      "execution_count": null,
      "outputs": []
    }
  ],
  "metadata": {
    "colab": {
      "name": "Welcome To Colab",
      "provenance": [],
      "include_colab_link": true
    },
    "kernelspec": {
      "display_name": "Python 3",
      "name": "python3"
    }
  },
  "nbformat": 4,
  "nbformat_minor": 0
}