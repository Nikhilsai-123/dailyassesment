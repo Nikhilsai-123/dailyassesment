{
  "nbformat": 4,
  "nbformat_minor": 0,
  "metadata": {
    "colab": {
      "provenance": [],
      "include_colab_link": true
    },
    "kernelspec": {
      "name": "python3",
      "display_name": "Python 3"
    },
    "language_info": {
      "name": "python"
    }
  },
  "cells": [
    {
      "cell_type": "markdown",
      "metadata": {
        "id": "view-in-github",
        "colab_type": "text"
      },
      "source": [
        "<a href=\"https://colab.research.google.com/github/Nikhilsai-123/dailyassesment/blob/main/pspyk11.ipynb\" target=\"_parent\"><img src=\"https://colab.research.google.com/assets/colab-badge.svg\" alt=\"Open In Colab\"/></a>"
      ]
    },
    {
      "cell_type": "code",
      "execution_count": 34,
      "metadata": {
        "id": "4C6Ry_IjTHnd"
      },
      "outputs": [],
      "source": [
        "#Varibales for Code\n",
        "\n",
        "df=spark.createDataFrame([\n",
        "[\"AMD\", \"COK\", \"2024-02-24 08:00:00\", \"2024-02-24 10:30:00\", \"2024-02-24 08:50:00\", \"2024-02-24 11:25:00\", \"Akasa Air\", \"airTraffic\"],\n",
        "[\"COK\", \"SXR\", \"2024-02-25 12:00:00\", \"2024-02-25 18:30:00\", \"2024-02-25 12:15:00\", \"2024-02-25 19:15:00\", \"Vistara\", \"mechanical\"],\n",
        "[\"COK\", \"AMD\", \"2024-03-24 08:00:00\", \"2024-03-24 10:40:00\", \"2024-03-24 08:17:00\", \"2024-03-24 11:00:00\", \"Akasa Air\", \"storm\"],\n",
        "[\"SXR\", \"AMD\", \"2024-04-28 05:30:00\", \"2024-04-28 07:35:00\", \"2024-04-28 05:50:00\", \"2024-04-28 07:55:00\", \"Vistara\", \"visibility\"],\n",
        "[\"AMD\", \"SXR\", \"2024-07-25 07:00:00\", \"2024-07-25 09:10:00\", \"2024-07-25 07:10:00\", \"2024-07-25 09:20:00\", \"Akasa Air\", \"airTraffic\"],\n",
        "[\"AMD\", \"CCU\", \"2024-03-28 18:00:00\", \"2024-03-28 20:25:00\", \"2024-03-28 19:00:00\", \"2024-03-28 21:15:00\", \"Vistara\", \"storm\"],\n",
        "[\"SXR\", \"COK\", \"2024-06-28 23:00:00\", \"2024-06-29 04:40:00\", \"2024-06-28 23:40:00\", \"2024-06-29 05:20:00\", \"Vistara\", \"airTraffic\"],\n",
        "[\"COK\", \"CCU\", \"2024-06-24 18:00:00\", \"2024-06-24 21:05:00\", \"2024-06-24 18:05:00\", \"2024-06-24 21:25:00\", \"IndiGo\", \"visibility\"],\n",
        "[\"CCU\", \"AMD\", \"2024-07-25 04:00:00\", \"2024-07-25 06:45:00\", \"2024-07-25 04:30:00\", \"2024-07-25 07:05:00\", \"IndiGo\", \"airTraffic\"],\n",
        "[\"CCU\", \"COK\", \"2024-02-28 14:00:00\", \"2024-02-28 17:10:00\", \"2024-02-28 14:10:00\", \"2024-02-28 17:40:00\", \"IndiGo\", \"mechanical\"],\n",
        "[\"CCU\", \"SXR\", \"2024-04-21 17:00:00\", \"2024-04-21 19:50:00\", \"2024-04-21 17:30:00\", \"2024-04-21 20:05:00\", \"IndiGo\", \"airTraffic\"]],\n",
        "schema=[\"origin_airport\", \"destination_airport\", \"scheduled_departure_time\", \"scheduled_arrival_time\", \"actual_departure_time\", \"actual_arrival_time\", \"carrier\", \"delay_reason\"])"
      ]
    },
    {
      "cell_type": "code",
      "source": [
        "#Schema to be imposed\n",
        "\"origin_airport\", \"destination_airport\", \"scheduled_departure_time\", \"scheduled_arrival_time\", \"actual_departure_time\", \"actual_arrival_time\", \"carrier\", \"delay_reason\""
      ],
      "metadata": {
        "id": "NSj_Dg60TKxF"
      },
      "execution_count": null,
      "outputs": []
    },
    {
      "cell_type": "code",
      "source": [
        "#Import Libraries\n",
        "!pip install pyspark\n",
        "from pyspark.sql import SparkSession\n",
        "from pyspark.sql.functions import *\n",
        "from pyspark.sql.types import StructType,StructField,TimestampType,StringType"
      ],
      "metadata": {
        "id": "6aW0AU3gTKz4",
        "outputId": "a5a1f6ec-eaf6-49e5-bbc4-4b2ce3037a4c",
        "colab": {
          "base_uri": "https://localhost:8080/"
        }
      },
      "execution_count": 11,
      "outputs": [
        {
          "output_type": "stream",
          "name": "stdout",
          "text": [
            "Requirement already satisfied: pyspark in /usr/local/lib/python3.10/dist-packages (3.5.1)\n",
            "Requirement already satisfied: py4j==0.10.9.7 in /usr/local/lib/python3.10/dist-packages (from pyspark) (0.10.9.7)\n"
          ]
        }
      ]
    },
    {
      "cell_type": "code",
      "source": [
        "#Create a SparkSession\n",
        "spark=SparkSession.builder.appName('flight_details').getOrCreate()\n",
        "df=CreateDataFrame()"
      ],
      "metadata": {
        "id": "zF51idgGTK2v"
      },
      "execution_count": 2,
      "outputs": []
    },
    {
      "cell_type": "code",
      "source": [
        "from datetime import datetime\n",
        "#Create dataframe for the given data using enforced Schema method\n",
        "schema=StructType([StructField(\"origin_airport\",StringType(),True),\n",
        "                   StructField(\"destination_airport\",StringType(),True),\n",
        "                   StructField(\"scheduled_departure_time\",datetime(),True),\n",
        "                   StructField(\"scheduled_arrival_time\",TimestampType(),True),\n",
        "                   StructField(\"actual_departure_time\",TimestampType(),True),\n",
        "                   StructField(\"actual_arrival_time\",TimestampType(),True),\n",
        "                   StructField(\"carrier\",StringType(),True),\n",
        "                   StructField(\"delay_reason\",StringType(),True)])"
      ],
      "metadata": {
        "id": "bJjbtnDqTK42",
        "outputId": "33ac74b8-1914-4388-9109-4d9da0b79c7a",
        "colab": {
          "base_uri": "https://localhost:8080/",
          "height": 217
        }
      },
      "execution_count": 32,
      "outputs": [
        {
          "output_type": "error",
          "ename": "TypeError",
          "evalue": "function missing required argument 'year' (pos 1)",
          "traceback": [
            "\u001b[0;31m---------------------------------------------------------------------------\u001b[0m",
            "\u001b[0;31mTypeError\u001b[0m                                 Traceback (most recent call last)",
            "\u001b[0;32m<ipython-input-32-3c94de8d0430>\u001b[0m in \u001b[0;36m<cell line: 3>\u001b[0;34m()\u001b[0m\n\u001b[1;32m      3\u001b[0m schema=StructType([StructField(\"origin_airport\",StringType(),True),\n\u001b[1;32m      4\u001b[0m                    \u001b[0mStructField\u001b[0m\u001b[0;34m(\u001b[0m\u001b[0;34m\"destination_airport\"\u001b[0m\u001b[0;34m,\u001b[0m\u001b[0mStringType\u001b[0m\u001b[0;34m(\u001b[0m\u001b[0;34m)\u001b[0m\u001b[0;34m,\u001b[0m\u001b[0;32mTrue\u001b[0m\u001b[0;34m)\u001b[0m\u001b[0;34m,\u001b[0m\u001b[0;34m\u001b[0m\u001b[0;34m\u001b[0m\u001b[0m\n\u001b[0;32m----> 5\u001b[0;31m                    \u001b[0mStructField\u001b[0m\u001b[0;34m(\u001b[0m\u001b[0;34m\"scheduled_departure_time\"\u001b[0m\u001b[0;34m,\u001b[0m\u001b[0mdatetime\u001b[0m\u001b[0;34m(\u001b[0m\u001b[0;34m)\u001b[0m\u001b[0;34m,\u001b[0m\u001b[0;32mTrue\u001b[0m\u001b[0;34m)\u001b[0m\u001b[0;34m,\u001b[0m\u001b[0;34m\u001b[0m\u001b[0;34m\u001b[0m\u001b[0m\n\u001b[0m\u001b[1;32m      6\u001b[0m                    \u001b[0mStructField\u001b[0m\u001b[0;34m(\u001b[0m\u001b[0;34m\"scheduled_arrival_time\"\u001b[0m\u001b[0;34m,\u001b[0m\u001b[0mdatetime\u001b[0m\u001b[0;34m(\u001b[0m\u001b[0;34m)\u001b[0m\u001b[0;34m,\u001b[0m\u001b[0;32mTrue\u001b[0m\u001b[0;34m)\u001b[0m\u001b[0;34m,\u001b[0m\u001b[0;34m\u001b[0m\u001b[0;34m\u001b[0m\u001b[0m\n\u001b[1;32m      7\u001b[0m                    \u001b[0mStructField\u001b[0m\u001b[0;34m(\u001b[0m\u001b[0;34m\"actual_departure_time\"\u001b[0m\u001b[0;34m,\u001b[0m\u001b[0mdatetime\u001b[0m\u001b[0;34m(\u001b[0m\u001b[0;34m)\u001b[0m\u001b[0;34m,\u001b[0m\u001b[0;32mTrue\u001b[0m\u001b[0;34m)\u001b[0m\u001b[0;34m,\u001b[0m\u001b[0;34m\u001b[0m\u001b[0;34m\u001b[0m\u001b[0m\n",
            "\u001b[0;31mTypeError\u001b[0m: function missing required argument 'year' (pos 1)"
          ]
        }
      ]
    },
    {
      "cell_type": "markdown",
      "source": [],
      "metadata": {
        "id": "tPUhvj4c4QAQ"
      }
    },
    {
      "cell_type": "code",
      "source": [
        "#Filter the dataframe to display all delayed flights\n",
        "df=df.withColumn('delay_departure',(unix_timestamp('actual_departure_time')-unix_timestamp('scheduled_departure_time'))/60)\n",
        "df.filter(col('delay_departure')>0).show()"
      ],
      "metadata": {
        "id": "zE8sMVYNTK7i",
        "outputId": "d2a231f9-4559-4b3e-d3f1-f6b2fdfdfcfc",
        "colab": {
          "base_uri": "https://localhost:8080/"
        }
      },
      "execution_count": 63,
      "outputs": [
        {
          "output_type": "stream",
          "name": "stdout",
          "text": [
            "+--------------+-------------------+------------------------+----------------------+---------------------+-------------------+---------+------------+---------------+\n",
            "|origin_airport|destination_airport|scheduled_departure_time|scheduled_arrival_time|actual_departure_time|actual_arrival_time|  carrier|delay_reason|delay_departure|\n",
            "+--------------+-------------------+------------------------+----------------------+---------------------+-------------------+---------+------------+---------------+\n",
            "|           AMD|                COK|     2024-02-24 08:00:00|   2024-02-24 10:30:00|  2024-02-24 08:50:00|2024-02-24 11:25:00|Akasa Air|  airTraffic|           50.0|\n",
            "|           COK|                SXR|     2024-02-25 12:00:00|   2024-02-25 18:30:00|  2024-02-25 12:15:00|2024-02-25 19:15:00|  Vistara|  mechanical|           15.0|\n",
            "|           COK|                AMD|     2024-03-24 08:00:00|   2024-03-24 10:40:00|  2024-03-24 08:17:00|2024-03-24 11:00:00|Akasa Air|       storm|           17.0|\n",
            "|           SXR|                AMD|     2024-04-28 05:30:00|   2024-04-28 07:35:00|  2024-04-28 05:50:00|2024-04-28 07:55:00|  Vistara|  visibility|           20.0|\n",
            "|           AMD|                SXR|     2024-07-25 07:00:00|   2024-07-25 09:10:00|  2024-07-25 07:10:00|2024-07-25 09:20:00|Akasa Air|  airTraffic|           10.0|\n",
            "|           AMD|                CCU|     2024-03-28 18:00:00|   2024-03-28 20:25:00|  2024-03-28 19:00:00|2024-03-28 21:15:00|  Vistara|       storm|           60.0|\n",
            "|           SXR|                COK|     2024-06-28 23:00:00|   2024-06-29 04:40:00|  2024-06-28 23:40:00|2024-06-29 05:20:00|  Vistara|  airTraffic|           40.0|\n",
            "|           COK|                CCU|     2024-06-24 18:00:00|   2024-06-24 21:05:00|  2024-06-24 18:05:00|2024-06-24 21:25:00|   IndiGo|  visibility|            5.0|\n",
            "|           CCU|                AMD|     2024-07-25 04:00:00|   2024-07-25 06:45:00|  2024-07-25 04:30:00|2024-07-25 07:05:00|   IndiGo|  airTraffic|           30.0|\n",
            "|           CCU|                COK|     2024-02-28 14:00:00|   2024-02-28 17:10:00|  2024-02-28 14:10:00|2024-02-28 17:40:00|   IndiGo|  mechanical|           10.0|\n",
            "|           CCU|                SXR|     2024-04-21 17:00:00|   2024-04-21 19:50:00|  2024-04-21 17:30:00|2024-04-21 20:05:00|   IndiGo|  airTraffic|           30.0|\n",
            "+--------------+-------------------+------------------------+----------------------+---------------------+-------------------+---------+------------+---------------+\n",
            "\n"
          ]
        }
      ]
    },
    {
      "cell_type": "code",
      "source": [
        "#Calculate Average delay per source airport\n",
        "arr1=df.groupBy('origin_airport').agg({'delay_departure':'avg'}).show()"
      ],
      "metadata": {
        "id": "6eyemK93TK-i",
        "outputId": "a0586519-b507-41c4-d97c-6378623f34ad",
        "colab": {
          "base_uri": "https://localhost:8080/"
        }
      },
      "execution_count": 69,
      "outputs": [
        {
          "output_type": "stream",
          "name": "stdout",
          "text": [
            "+--------------+--------------------+\n",
            "|origin_airport|avg(delay_departure)|\n",
            "+--------------+--------------------+\n",
            "|           SXR|                30.0|\n",
            "|           AMD|                40.0|\n",
            "|           COK|  12.333333333333334|\n",
            "|           CCU|  23.333333333333332|\n",
            "+--------------+--------------------+\n",
            "\n"
          ]
        }
      ]
    },
    {
      "cell_type": "code",
      "source": [
        "##Calculate Average delay per destination airport\n",
        "arr2=df.groupBy('destination_airport').agg({'delay_departure':'avg'}).show()"
      ],
      "metadata": {
        "id": "WL0mvZQjTLA4",
        "outputId": "2345c70f-6b8e-4b5d-819a-564f80d44748",
        "colab": {
          "base_uri": "https://localhost:8080/"
        }
      },
      "execution_count": 71,
      "outputs": [
        {
          "output_type": "stream",
          "name": "stdout",
          "text": [
            "+-------------------+--------------------+\n",
            "|destination_airport|avg(delay_departure)|\n",
            "+-------------------+--------------------+\n",
            "|                SXR|  18.333333333333332|\n",
            "|                AMD|  22.333333333333332|\n",
            "|                COK|  33.333333333333336|\n",
            "|                CCU|                32.5|\n",
            "+-------------------+--------------------+\n",
            "\n"
          ]
        }
      ]
    },
    {
      "cell_type": "code",
      "source": [
        "#Calculate Average delay per airline\n",
        "arr2=df.groupBy('carrier').agg({'delay_departure':'avg'}).show()"
      ],
      "metadata": {
        "id": "E926xJ-0sYzJ",
        "outputId": "89265da8-de08-433b-a658-da5074d29dff",
        "colab": {
          "base_uri": "https://localhost:8080/"
        }
      },
      "execution_count": 73,
      "outputs": [
        {
          "output_type": "stream",
          "name": "stdout",
          "text": [
            "+---------+--------------------+\n",
            "|  carrier|avg(delay_departure)|\n",
            "+---------+--------------------+\n",
            "|Akasa Air|  25.666666666666668|\n",
            "|  Vistara|               33.75|\n",
            "|   IndiGo|               18.75|\n",
            "+---------+--------------------+\n",
            "\n"
          ]
        }
      ]
    },
    {
      "cell_type": "code",
      "source": [
        "#Fetch airline with maximum delay (in single flight)\n",
        "arr3=df.select(max('delay_departure')).show()"
      ],
      "metadata": {
        "id": "vjYnz1lnsY1-",
        "outputId": "556bf076-8ef9-42e4-df3d-cf762d7649aa",
        "colab": {
          "base_uri": "https://localhost:8080/"
        }
      },
      "execution_count": 74,
      "outputs": [
        {
          "output_type": "stream",
          "name": "stdout",
          "text": [
            "+--------------------+\n",
            "|max(delay_departure)|\n",
            "+--------------------+\n",
            "|                60.0|\n",
            "+--------------------+\n",
            "\n"
          ]
        }
      ]
    },
    {
      "cell_type": "code",
      "source": [
        "#Fetch airline with maximum delay (overall time delay)\n",
        "arr4=df.groupBy('')"
      ],
      "metadata": {
        "id": "rnafU6f8sY5E"
      },
      "execution_count": null,
      "outputs": []
    },
    {
      "cell_type": "code",
      "source": [
        "#Fetch airline with minimum delay (in single flight)\n"
      ],
      "metadata": {
        "id": "nV2IzGmawZA3"
      },
      "execution_count": null,
      "outputs": []
    },
    {
      "cell_type": "code",
      "source": [
        "#Fetch airline with minimum delay (overall time delay)\n"
      ],
      "metadata": {
        "id": "CLs2jLCVsY7e"
      },
      "execution_count": null,
      "outputs": []
    },
    {
      "cell_type": "code",
      "source": [
        "#Calculate Average delay per reason\n"
      ],
      "metadata": {
        "id": "j1wbEA5esY9b"
      },
      "execution_count": null,
      "outputs": []
    },
    {
      "cell_type": "code",
      "source": [
        "#Find most recurring cause of delays\n"
      ],
      "metadata": {
        "id": "6L4hSBbxsZAo"
      },
      "execution_count": null,
      "outputs": []
    },
    {
      "cell_type": "code",
      "source": [
        "#Identify the airline with best recovery time\n",
        "# (Even though the flight started late, the airline recovered a few minutes in flight time)\n",
        "\n",
        "\n"
      ],
      "metadata": {
        "id": "2PjP8N9os0zz"
      },
      "execution_count": null,
      "outputs": []
    },
    {
      "cell_type": "code",
      "source": [],
      "metadata": {
        "id": "nKQIJ2osDWZQ"
      },
      "execution_count": null,
      "outputs": []
    }
  ]
}