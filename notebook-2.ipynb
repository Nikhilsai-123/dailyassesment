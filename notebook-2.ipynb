{
  "cells": [
    {
      "cell_type": "markdown",
      "metadata": {
        "id": "W6NeVZKBJR5G"
      },
      "source": [
        "#PySpark Practice Notebook"
      ]
    },
    {
      "cell_type": "code",
      "execution_count": 1,
      "metadata": {
        "id": "PQ1dB4lsJRQZ",
        "outputId": "4ca0ff8a-a3e6-4227-a976-df4b8e8c5902",
        "colab": {
          "base_uri": "https://localhost:8080/"
        }
      },
      "outputs": [
        {
          "output_type": "stream",
          "name": "stdout",
          "text": [
            "Writing country.csv\n"
          ]
        }
      ],
      "source": [
        "#Source Data\n",
        "#Create a csv file for the following data\n",
        "%%writefile country.csv\n",
        "product_id,product,country,sales\n",
        "1,Product A,USA,100\n",
        "2,Product B,USA,80\n",
        "3,Product C,USA,30\n",
        "1,Product A,Canada,60\n",
        "2,Product B,Canada,40\n",
        "4,Product D,UK,50\n",
        "5,Product E,UK,20\n",
        "1,Product A,Germany,70\n",
        "3,Product C,Germany,90\n",
        "4,Product D,Germany,40"
      ]
    },
    {
      "cell_type": "code",
      "execution_count": 2,
      "metadata": {
        "id": "z3H-jZd_I0xr",
        "outputId": "e6e00cc9-7280-43c7-a31e-2b7211d997dd",
        "colab": {
          "base_uri": "https://localhost:8080/"
        }
      },
      "outputs": [
        {
          "output_type": "stream",
          "name": "stdout",
          "text": [
            "Collecting pyspark\n",
            "  Downloading pyspark-3.5.1.tar.gz (317.0 MB)\n",
            "\u001b[2K     \u001b[90m━━━━━━━━━━━━━━━━━━━━━━━━━━━━━━━━━━━━━━━━\u001b[0m \u001b[32m317.0/317.0 MB\u001b[0m \u001b[31m4.7 MB/s\u001b[0m eta \u001b[36m0:00:00\u001b[0m\n",
            "\u001b[?25h  Preparing metadata (setup.py) ... \u001b[?25l\u001b[?25hdone\n",
            "Requirement already satisfied: py4j==0.10.9.7 in /usr/local/lib/python3.10/dist-packages (from pyspark) (0.10.9.7)\n",
            "Building wheels for collected packages: pyspark\n",
            "  Building wheel for pyspark (setup.py) ... \u001b[?25l\u001b[?25hdone\n",
            "  Created wheel for pyspark: filename=pyspark-3.5.1-py2.py3-none-any.whl size=317488490 sha256=370d26ddfe5b2418c184aba6dcc60e47dd8775c1ca78e37365165e007b763863\n",
            "  Stored in directory: /root/.cache/pip/wheels/80/1d/60/2c256ed38dddce2fdd93be545214a63e02fbd8d74fb0b7f3a6\n",
            "Successfully built pyspark\n",
            "Installing collected packages: pyspark\n",
            "Successfully installed pyspark-3.5.1\n"
          ]
        }
      ],
      "source": [
        "\n",
        "!pip install pyspark\n",
        "from pyspark.sql import SparkSession\n",
        "from pyspark.sql.functions import *"
      ]
    },
    {
      "cell_type": "code",
      "execution_count": null,
      "metadata": {
        "id": "ZFPi1eqMKFF7"
      },
      "outputs": [],
      "source": [
        "#Create SparkSession for app \"Sales Data Analysis\"\n",
        "from pyspark.sql import SparkSession"
      ]
    },
    {
      "cell_type": "code",
      "execution_count": 3,
      "metadata": {
        "id": "kLiq1rcAJiV5"
      },
      "outputs": [],
      "source": [
        "#Create a pyspark DataFrame from the csv file on local storage\n",
        "arr=SparkSession.builder.appName('nikhil1').getOrCreate()"
      ]
    },
    {
      "cell_type": "code",
      "execution_count": 4,
      "metadata": {
        "id": "_fQfbu4_JiYf"
      },
      "outputs": [],
      "source": [
        "\n",
        "df=arr.read.option('Header','True').csv('country.csv')"
      ]
    },
    {
      "cell_type": "code",
      "execution_count": 5,
      "metadata": {
        "id": "U4k8qR1zJia2",
        "outputId": "48bf9be3-ce06-47d4-9c20-00d36dd3f155",
        "colab": {
          "base_uri": "https://localhost:8080/"
        }
      },
      "outputs": [
        {
          "output_type": "stream",
          "name": "stdout",
          "text": [
            "+----------+---------+-------+-----+\n",
            "|product_id|  product|country|sales|\n",
            "+----------+---------+-------+-----+\n",
            "|         1|Product A|Germany|   70|\n",
            "|         3|Product C|Germany|   90|\n",
            "|         4|Product D|Germany|   40|\n",
            "+----------+---------+-------+-----+\n",
            "\n",
            "+----------+---------+-------+-----+\n",
            "|product_id|  product|country|sales|\n",
            "+----------+---------+-------+-----+\n",
            "|         1|Product A|Germany|   70|\n",
            "|         3|Product C|Germany|   90|\n",
            "|         4|Product D|Germany|   40|\n",
            "+----------+---------+-------+-----+\n",
            "\n"
          ]
        }
      ],
      "source": [
        "#Display all entries for country \"Germany\"\n",
        "df.filter(df['country']=='Germany').show()\n",
        "df.filter(col('country')=='Germany').show()"
      ]
    },
    {
      "cell_type": "code",
      "execution_count": null,
      "metadata": {
        "id": "e5PRmHMuJ47W",
        "outputId": "91434791-cf8d-4cf7-e818-f4a9d13377e7"
      },
      "outputs": [
        {
          "data": {
            "text/plain": [
              "10"
            ]
          },
          "execution_count": 38,
          "metadata": {},
          "output_type": "execute_result"
        }
      ],
      "source": [
        "#Find the total number of products\n",
        "df.select('product_id').count()\n"
      ]
    },
    {
      "cell_type": "code",
      "execution_count": 6,
      "metadata": {
        "id": "fFz6bN_dJ49q",
        "outputId": "a5438877-441e-4633-e0ea-4c816ac8d34f",
        "colab": {
          "base_uri": "https://localhost:8080/"
        }
      },
      "outputs": [
        {
          "output_type": "stream",
          "name": "stdout",
          "text": [
            "+----------+---------+-------+-----+\n",
            "|product_id|  product|country|sales|\n",
            "+----------+---------+-------+-----+\n",
            "|         3|Product C|Germany|   90|\n",
            "|         2|Product B|    USA|   80|\n",
            "|         1|Product A|Germany|   70|\n",
            "+----------+---------+-------+-----+\n",
            "only showing top 3 rows\n",
            "\n"
          ]
        }
      ],
      "source": [
        "#Find top 3 products\n",
        "df.sort('sales',ascending=False).show(3)\n"
      ]
    },
    {
      "cell_type": "code",
      "execution_count": 7,
      "metadata": {
        "id": "rG_TN6jvzuc9"
      },
      "outputs": [],
      "source": [
        "from pyspark.sql.functions import col,sum,min,max,avg\n"
      ]
    },
    {
      "cell_type": "code",
      "execution_count": null,
      "metadata": {
        "id": "j4vyUsi2J5AR",
        "outputId": "573b5cce-4c05-44d1-e504-d1522f5d9b8a"
      },
      "outputs": [
        {
          "name": "stdout",
          "output_type": "stream",
          "text": [
            "+----------+\n",
            "|sum(sales)|\n",
            "+----------+\n",
            "|     580.0|\n",
            "+----------+\n",
            "\n"
          ]
        }
      ],
      "source": [
        "#Calculate total sales\n",
        "df.select(sum('sales')).show()"
      ]
    },
    {
      "cell_type": "code",
      "execution_count": null,
      "metadata": {
        "id": "AZqKodYdzuc-",
        "outputId": "a49578bf-82cd-4d6a-f8cf-c821d9330348"
      },
      "outputs": [
        {
          "name": "stdout",
          "output_type": "stream",
          "text": [
            "+----------+\n",
            "|min(sales)|\n",
            "+----------+\n",
            "|       100|\n",
            "+----------+\n",
            "\n"
          ]
        }
      ],
      "source": [
        "df.select(min('sales')).show()"
      ]
    },
    {
      "cell_type": "code",
      "execution_count": null,
      "metadata": {
        "id": "5jWkl5Z0zuc-",
        "outputId": "20dc5d47-86ae-49cb-b355-aa53ade8f8b7"
      },
      "outputs": [
        {
          "name": "stdout",
          "output_type": "stream",
          "text": [
            "+----------+\n",
            "|max(sales)|\n",
            "+----------+\n",
            "|        90|\n",
            "+----------+\n",
            "\n"
          ]
        }
      ],
      "source": [
        "df.select(max('sales')).show()"
      ]
    },
    {
      "cell_type": "code",
      "execution_count": null,
      "metadata": {
        "id": "VtFRs6h2zuc-",
        "outputId": "8f123428-a111-4844-8879-b63bb067a0b8"
      },
      "outputs": [
        {
          "name": "stdout",
          "output_type": "stream",
          "text": [
            "+----------+\n",
            "|avg(sales)|\n",
            "+----------+\n",
            "|      58.0|\n",
            "+----------+\n",
            "\n"
          ]
        }
      ],
      "source": [
        "df.select(('sales')).show()"
      ]
    },
    {
      "cell_type": "code",
      "execution_count": null,
      "metadata": {
        "id": "_54cZ4MEzuc-"
      },
      "outputs": [],
      "source": [
        "import pyspark.sql.functions as func"
      ]
    },
    {
      "cell_type": "code",
      "execution_count": 10,
      "metadata": {
        "id": "WTxjxvceJ5Ct",
        "outputId": "895c5052-8faf-468a-c12b-f4c8e56e4ef3",
        "colab": {
          "base_uri": "https://localhost:8080/"
        }
      },
      "outputs": [
        {
          "output_type": "stream",
          "name": "stdout",
          "text": [
            "+----------+---------+-------+-----+------------------+\n",
            "|product_id|  product|country|sales|      market_share|\n",
            "+----------+---------+-------+-----+------------------+\n",
            "|         1|Product A|    USA|  100| 17.24137931034483|\n",
            "|         2|Product B|    USA|   80|13.793103448275861|\n",
            "|         3|Product C|    USA|   30| 5.172413793103448|\n",
            "|         1|Product A| Canada|   60|10.344827586206897|\n",
            "|         2|Product B| Canada|   40| 6.896551724137931|\n",
            "|         4|Product D|     UK|   50| 8.620689655172415|\n",
            "|         5|Product E|     UK|   20|3.4482758620689653|\n",
            "|         1|Product A|Germany|   70|12.068965517241379|\n",
            "|         3|Product C|Germany|   90|15.517241379310345|\n",
            "|         4|Product D|Germany|   40| 6.896551724137931|\n",
            "+----------+---------+-------+-----+------------------+\n",
            "\n"
          ]
        }
      ],
      "source": [
        "#Find the market share of all products individually\n",
        "tot=df.select(sum('sales')).collect()[0][0]\n",
        "arr=df.withColumn('market_share',col(\"sales\")/tot*100)\n",
        "arr.show()\n"
      ]
    },
    {
      "cell_type": "code",
      "execution_count": null,
      "metadata": {
        "id": "xlnn7W4azuc-"
      },
      "outputs": [],
      "source": []
    }
  ],
  "metadata": {
    "colab": {
      "provenance": []
    },
    "kernelspec": {
      "display_name": "Python 3",
      "language": "python",
      "name": "python3"
    },
    "language_info": {
      "codemirror_mode": {
        "name": "ipython",
        "version": 3
      },
      "file_extension": ".py",
      "mimetype": "text/x-python",
      "name": "python",
      "nbconvert_exporter": "python",
      "pygments_lexer": "ipython3",
      "version": "3.6.8"
    }
  },
  "nbformat": 4,
  "nbformat_minor": 0
}